{
 "cells": [
  {
   "cell_type": "markdown",
   "metadata": {
    "lines_to_next_cell": 0
   },
   "source": [
    "Code from Figures 6.5 and 6.6 --- should work in Colab:"
   ]
  },
  {
   "cell_type": "code",
   "execution_count": null,
   "metadata": {
    "lines_to_next_cell": 1
   },
   "outputs": [],
   "source": [
    "def repres(rows, *moduli):\n",
    "  \"\"\"Repeating residues made\n",
    "     by modding range(rows+1)\n",
    "     by each of an arbitrary\n",
    "     number of moduli, one\n",
    "     tuple of residues per row.\n",
    "  \"\"\"\n",
    "  for n in range(rows + 1):\n",
    "    print(n, end=' ')\n",
    "    residues=list(map(lambda m:\\\n",
    "      n % m, moduli))\n",
    "    print(*residues)"
   ]
  },
  {
   "cell_type": "code",
   "execution_count": null,
   "metadata": {},
   "outputs": [],
   "source": [
    "import functools, math, operator, sys\n",
    "\n",
    "if sys.version_info >= (3, 8):\n",
    "  def lcm(*numbers):\n",
    "    return math.prod(numbers) // math.gcd(*numbers)\n",
    "else:\n",
    "  product = functools.partial(functools.reduce, operator.mul)\n",
    "  greatest_common_divisor = functools.partial(functools.reduce, math.gcd)\n",
    "  def lcm(*numbers):\n",
    "    return product(numbers) // greatest_common_divisor(numbers)"
   ]
  },
  {
   "cell_type": "code",
   "execution_count": null,
   "metadata": {
    "lines_to_next_cell": 1
   },
   "outputs": [],
   "source": [
    "def represBG(*moduli):\n",
    "  \"\"\"Repeating residues with\n",
    "     bijectivity guaranteed\n",
    "     made by modding\n",
    "     range(lcm(*moduli))\n",
    "     by each of an arbitrary\n",
    "     number of moduli, one\n",
    "     tuple of residues per row.\n",
    "  \"\"\"\n",
    "  for n in range(lcm(*moduli)):\n",
    "    print(n, end=' <--> (')\n",
    "    residues=list(map(lambda m: n % m, moduli))\n",
    "    print(*residues, sep=', ', end=')\\n')"
   ]
  },
  {
   "cell_type": "markdown",
   "metadata": {},
   "source": [
    "A general-purpose solver of simultaneous congruences:"
   ]
  },
  {
   "cell_type": "code",
   "execution_count": null,
   "metadata": {
    "lines_to_next_cell": 1
   },
   "outputs": [],
   "source": [
    "def egcd(a, b):\n",
    "    \"\"\"Computes the greatest common divisor of a and b recursively.\n",
    "       This extended version returns d, x and y, where\n",
    "       d = ax + by = gcd(a, b).\"\n",
    "    \"\"\"\n",
    "    if b == 0:\n",
    "        return [a, 1, 0]\n",
    "    else:\n",
    "        q, r = a // b, a % b\n",
    "        d, x, y = egcd(b, r)\n",
    "        return [d, y, x - q * y]\n",
    "\n",
    "def find_y(o, m):\n",
    "    d, x, y = egcd(o, m)\n",
    "    return x\n",
    "\n",
    "def solveSSC(*pairs):\n",
    "    r_list = list(map(lambda x: x[0], pairs))\n",
    "    m_list = list(map(lambda x: x[1], pairs))\n",
    "    m = product(m_list)\n",
    "    o_list = list(map(lambda x: m // x, m_list))\n",
    "    y_list = list(map(find_y, o_list, m_list))\n",
    "    roys = map(lambda r, o, y: r * o * y, r_list, o_list, y_list)\n",
    "    almost = sum(roys)\n",
    "    return almost % m\n",
    "\n",
    "def demoSSC():\n",
    "    print(solveSSC((1, 7), (6, 11), (3, 13)))"
   ]
  },
  {
   "cell_type": "markdown",
   "metadata": {},
   "source": [
    "Helper code for 335:"
   ]
  },
  {
   "cell_type": "code",
   "execution_count": null,
   "metadata": {
    "lines_to_next_cell": 1
   },
   "outputs": [],
   "source": [
    "def a7(i: int, j: int):\n",
    "    \"\"\"Add two nonnegative integers in the Z_7 residue set to produce\n",
    "       a sum in that set. Error check to ensure the inputs are valid,\n",
    "       and use table lookup instead of normal addition/mod.\n",
    "    \"\"\"\n",
    "    if i < 0 or j < 0 or i > 6 or j > 6:\n",
    "        raise ValueError(f\"Invalid arguments {i} and/or {j}\")\n",
    "    m = [[0, 1, 2, 3, 4, 5, 6],\n",
    "         [1, 2, 3, 4, 5, 6, 0],\n",
    "         [2, 3, 4, 5, 6, 0, 1],\n",
    "         [3, 4, 5, 6, 0, 1, 2],\n",
    "         [4, 5, 6, 0, 1, 2, 3],\n",
    "         [5, 6, 0, 1, 2, 3, 4],\n",
    "         [6, 0, 1, 2, 3, 4, 5]]\n",
    "    return m[i][j]\n",
    "\n",
    "def a11(i: int, j: int):\n",
    "    \"\"\"Add two nonnegative integers in the Z_11 residue set to produce\n",
    "       a sum in that set. Error check to ensure the inputs are valid,\n",
    "       and use table lookup instead of normal addition/mod.\n",
    "    \"\"\"\n",
    "    if i < 0 or j < 0 or i > 10 or j > 10:\n",
    "        raise ValueError(f\"Invalid arguments {i} and/or {j}\")\n",
    "    m = [[0, 1, 2, 3, 4, 5, 6, 7, 8, 9, 10],\n",
    "         [1, 2, 3, 4, 5, 6, 7, 8, 9, 10, 0],\n",
    "         [2, 3, 4, 5, 6, 7, 8, 9, 10, 0, 1],\n",
    "         [3, 4, 5, 6, 7, 8, 9, 10, 0, 1, 2],\n",
    "         [4, 5, 6, 7, 8, 9, 10, 0, 1, 2, 3],\n",
    "         [5, 6, 7, 8, 9, 10, 0, 1, 2, 3, 4],\n",
    "         [6, 7, 8, 9, 10, 0, 1, 2, 3, 4, 5],\n",
    "         [7, 8, 9, 10, 0, 1, 2, 3, 4, 5, 6],\n",
    "         [8, 9, 10, 0, 1, 2, 3, 4, 5, 6, 7],\n",
    "         [9, 10, 0, 1, 2, 3, 4, 5, 6, 7, 8],\n",
    "         [10, 0, 1, 2, 3, 4, 5, 6, 7, 8, 9]]\n",
    "    return m[i][j]\n",
    "\n",
    "def a13(i: int, j: int):\n",
    "    \"\"\"Add two nonnegative integers in the Z_13 residue set to produce\n",
    "       a sum in that set. Error check to ensure the inputs are valid,\n",
    "       and use table lookup instead of normal addition/mod.\n",
    "    \"\"\"\n",
    "    if i < 0 or j < 0 or i > 12 or j > 12:\n",
    "        raise ValueError(f\"Invalid arguments {i} and/or {j}\")\n",
    "    m = [[0, 1, 2, 3, 4, 5, 6, 7, 8, 9, 10, 11, 12],\n",
    "         [1, 2, 3, 4, 5, 6, 7, 8, 9, 10, 11, 12, 0],\n",
    "         [2, 3, 4, 5, 6, 7, 8, 9, 10, 11, 12, 0, 1],\n",
    "         [3, 4, 5, 6, 7, 8, 9, 10, 11, 12, 0, 1, 2],\n",
    "         [4, 5, 6, 7, 8, 9, 10, 11, 12, 0, 1, 2, 3],\n",
    "         [5, 6, 7, 8, 9, 10, 11, 12, 0, 1, 2, 3, 4],\n",
    "         [6, 7, 8, 9, 10, 11, 12, 0, 1, 2, 3, 4, 5],\n",
    "         [7, 8, 9, 10, 11, 12, 0, 1, 2, 3, 4, 5, 6],\n",
    "         [8, 9, 10, 11, 12, 0, 1, 2, 3, 4, 5, 6, 7],\n",
    "         [9, 10, 11, 12, 0, 1, 2, 3, 4, 5, 6, 7, 8],\n",
    "         [10, 11, 12, 0, 1, 2, 3, 4, 5, 6, 7, 8, 9],\n",
    "         [11, 12, 0, 1, 2, 3, 4, 5, 6, 7, 8, 9, 10],\n",
    "         [12, 0, 1, 2, 3, 4, 5, 6, 7, 8, 9, 10, 11]]\n",
    "    return m[i][j]\n",
    "\n",
    "def m7(i: int, j: int):\n",
    "    \"\"\"Multiply two nonnegative integers in the Z_7 residue set to produce\n",
    "       a product in that set. Error check to ensure the inputs are valid,\n",
    "       and use table lookup instead of normal multiplication/mod.\n",
    "    \"\"\"\n",
    "    if i < 0 or j < 0 or i > 6 or j > 6:\n",
    "        raise ValueError(f\"Invalid arguments {i} and/or {j}\")\n",
    "    m = [[0, 0, 0, 0, 0, 0, 0],\n",
    "         [0, 1, 2, 3, 4, 5, 6],\n",
    "         [0, 2, 4, 6, 1, 3, 5],\n",
    "         [0, 3, 6, 2, 5, 1, 4],\n",
    "         [0, 4, 1, 5, 2, 6, 3],\n",
    "         [0, 5, 3, 1, 6, 4, 2],\n",
    "         [0, 6, 5, 4, 3, 2, 1]]\n",
    "    return m[i][j]\n",
    "\n",
    "def m11(i: int, j: int):\n",
    "    \"\"\"Multiply two nonnegative integers in the Z_11 residue set to produce\n",
    "       a product in that set. Error check to ensure the inputs are valid,\n",
    "       and use table lookup instead of normal multiplication/mod.\n",
    "    \"\"\"\n",
    "    if i < 0 or j < 0 or i > 10 or j > 10:\n",
    "        raise ValueError(f\"Invalid arguments {i} and/or {j}\")\n",
    "    m = [[0, 0, 0, 0, 0, 0, 0, 0, 0, 0, 0],\n",
    "         [0, 1, 2, 3, 4, 5, 6, 7, 8, 9, 10],\n",
    "         [0, 2, 4, 6, 8, 10, 1, 3, 5, 7, 9],\n",
    "         [0, 3, 6, 9, 1, 4, 7, 10, 2, 5, 8],\n",
    "         [0, 4, 8, 1, 5, 9, 2, 6, 10, 3, 7],\n",
    "         [0, 5, 10, 4, 9, 3, 8, 2, 7, 1, 6],\n",
    "         [0, 6, 1, 7, 2, 8, 3, 9, 4, 10, 5],\n",
    "         [0, 7, 3, 10, 6, 2, 9, 5, 1, 8, 4],\n",
    "         [0, 8, 5, 2, 10, 7, 4, 1, 9, 6, 3],\n",
    "         [0, 9, 7, 5, 3, 1, 10, 8, 6, 4, 2],\n",
    "         [0, 10, 9, 8, 7, 6, 5, 4, 3, 2, 1]]\n",
    "    return m[i][j]\n",
    "\n",
    "def m13(i: int, j: int):\n",
    "    \"\"\"Multiply two nonnegative integers in the Z_13 residue set to produce\n",
    "       a product in that set. Error check to ensure the inputs are valid,\n",
    "       and use table lookup instead of normal multiplication/mod.\n",
    "    \"\"\"\n",
    "    if i < 0 or j < 0 or i > 12 or j > 12:\n",
    "        raise ValueError(f\"Invalid arguments {i} and/or {j}\")\n",
    "    m = [[0, 0, 0, 0, 0, 0, 0, 0, 0, 0, 0, 0, 0],\n",
    "         [0, 1, 2, 3, 4, 5, 6, 7, 8, 9, 10, 11, 12],\n",
    "         [0, 2, 4, 6, 8, 10, 12, 1, 3, 5, 7, 9, 11],\n",
    "         [0, 3, 6, 9, 12, 2, 5, 8, 11, 1, 4, 7, 10],\n",
    "         [0, 4, 8, 12, 3, 7, 11, 2, 6, 10, 1, 5, 9],\n",
    "         [0, 5, 10, 2, 7, 12, 4, 9, 1, 6, 11, 3, 8],\n",
    "         [0, 6, 12, 5, 11, 4, 10, 3, 9, 2, 8, 1, 7],\n",
    "         [0, 7, 1, 8, 2, 9, 3, 10, 4, 11, 5, 12, 6],\n",
    "         [0, 8, 3, 11, 6, 1, 9, 4, 12, 7, 2, 10, 5],\n",
    "         [0, 9, 5, 1, 10, 6, 2, 11, 7, 3, 12, 8, 4],\n",
    "         [0, 10, 7, 4, 1, 11, 8, 5, 2, 12, 9, 6, 3],\n",
    "         [0, 11, 9, 7, 5, 3, 1, 12, 10, 8, 6, 4, 2],\n",
    "         [0, 12, 11, 10, 9, 8, 7, 6, 5, 4, 3, 2, 1]]\n",
    "    return m[i][j]"
   ]
  },
  {
   "cell_type": "markdown",
   "metadata": {},
   "source": [
    "This code creates a number-to-RNS-representation lookup dictionary for three moduli (e.g., m1 = 7, m2 = 11, m3 = 13) with looping and using '*' and '%':"
   ]
  },
  {
   "cell_type": "code",
   "execution_count": null,
   "metadata": {
    "lines_to_next_cell": 1
   },
   "outputs": [],
   "source": [
    "def createRNSlookupNoFP(m1, m2, m3):\n",
    "    rns_dict = {}\n",
    "    for n in range(m1 * m2 * m3):\n",
    "        rns_dict[n] = (n % m1, n % m2, n % m3)\n",
    "    return rns_dict"
   ]
  },
  {
   "cell_type": "markdown",
   "metadata": {},
   "source": [
    "This code creates a number-to-RNS-representation lookup dictionary for three moduli (e.g., m1 = 7, m2 = 11, m3 = 13) without looping, or using '%' (however, it still uses '*'):"
   ]
  },
  {
   "cell_type": "code",
   "execution_count": null,
   "metadata": {
    "lines_to_next_cell": 1
   },
   "outputs": [],
   "source": [
    "def createRNSlookup(m1, m2, m3):\n",
    "   return dict(zip(range(m1 * m2 * m3),\n",
    "               zip(list(range(m1)) * m2 * m3,\n",
    "                   list(range(m2)) * m1 * m3,\n",
    "                   list(range(m3)) * m1 * m2)))"
   ]
  },
  {
   "cell_type": "markdown",
   "metadata": {},
   "source": [
    "Create the rns lookup dictionary for moduli 7, 11 and 13."
   ]
  },
  {
   "cell_type": "code",
   "execution_count": null,
   "metadata": {
    "lines_to_next_cell": 1
   },
   "outputs": [],
   "source": [
    "rns_dict = createRNSlookup(7, 11, 13)"
   ]
  },
  {
   "cell_type": "markdown",
   "metadata": {},
   "source": [
    "These four functions are for you to implement:"
   ]
  },
  {
   "cell_type": "code",
   "execution_count": null,
   "metadata": {
    "lines_to_next_cell": 1
   },
   "outputs": [],
   "source": [
    "def toRNS(n):\n",
    "  raise NotImplementedError('Implement this function.')\n",
    "\n",
    "def fromRNS(rns):\n",
    "  raise NotImplementedError('Implement this function.')\n",
    "\n",
    "def add2(rns1, rns2):\n",
    "  raise NotImplementedError('Implement this function.')\n",
    "\n",
    "def mul2(rns1, rns2):\n",
    "  raise NotImplementedError('Implement this function.')"
   ]
  },
  {
   "cell_type": "markdown",
   "metadata": {},
   "source": [
    "For testing: call the last two of these four functions AFTER implementing toRNS, fromRNS, add2 and mul2."
   ]
  },
  {
   "cell_type": "code",
   "execution_count": null,
   "metadata": {
    "lines_to_next_cell": 1
   },
   "outputs": [],
   "source": [
    "def test_rns_add2(test_pairs):\n",
    "    return [*map(lambda a, b: a + b == fromRNS(add2(toRNS(a), toRNS(b))),\n",
    "                 [*map(lambda tp: tp[0], test_pairs)],\n",
    "                 [*map(lambda tp: tp[1], test_pairs)])]\n",
    "\n",
    "def test_rns_mul2(test_pairs):\n",
    "    return [*map(lambda a, b: a * b == fromRNS(mul2(toRNS(a), toRNS(b))),\n",
    "                 [*map(lambda tp: tp[0], test_pairs)],\n",
    "                 [*map(lambda tp: tp[1], test_pairs)])]\n",
    "\n",
    "def do_test_rns_add2():\n",
    "    return all(test_rns_add2([(272, 202),\n",
    "                              (209, 280),\n",
    "                              (39, 184),\n",
    "                              (283, 282),\n",
    "                              (96, 137),\n",
    "                              (231, 298),\n",
    "                              (171, 187),\n",
    "                              (300, 178),\n",
    "                              (0, 177),\n",
    "                              (77, 238),\n",
    "                              (77, 157),\n",
    "                              (98, 248),\n",
    "                              (352, 93),\n",
    "                              (385, 152),\n",
    "                              (165, 98),\n",
    "                              (512, 127)]))\n",
    "\n",
    "def do_test_rns_mul2():\n",
    "    return all(test_rns_mul2([(10, 7),\n",
    "                              (12, 11),\n",
    "                              (2, 0),\n",
    "                              (17, 16),\n",
    "                              (10, 16),\n",
    "                              (12, 10),\n",
    "                              (2, 11),\n",
    "                              (17, 11),\n",
    "                              (10, 10),\n",
    "                              (12, 7),\n",
    "                              (2, 11),\n",
    "                              (17, 1),\n",
    "                              (10, 9),\n",
    "                              (12, 16),\n",
    "                              (2, 14),\n",
    "                              (17, 15),\n",
    "                              (18, 7),\n",
    "                              (1, 11),\n",
    "                              (15, 0),\n",
    "                              (6, 16),\n",
    "                              (18, 16),\n",
    "                              (1, 10),\n",
    "                              (15, 11),\n",
    "                              (6, 11),\n",
    "                              (18, 10),\n",
    "                              (1, 7),\n",
    "                              (15, 11),\n",
    "                              (6, 1),\n",
    "                              (18, 9),\n",
    "                              (1, 16),\n",
    "                              (15, 14),\n",
    "                              (6, 15),\n",
    "                              (8, 7),\n",
    "                              (11, 11),\n",
    "                              (7, 0),\n",
    "                              (0, 16),\n",
    "                              (8, 16),\n",
    "                              (11, 10),\n",
    "                              (7, 11),\n",
    "                              (0, 11),\n",
    "                              (8, 10),\n",
    "                              (11, 7),\n",
    "                              (7, 11),\n",
    "                              (0, 1),\n",
    "                              (8, 9),\n",
    "                              (11, 16),\n",
    "                              (7, 14),\n",
    "                              (0, 15),\n",
    "                              (7, 7),\n",
    "                              (4, 11),\n",
    "                              (13, 0),\n",
    "                              (22, 16),\n",
    "                              (7, 16),\n",
    "                              (4, 10),\n",
    "                              (13, 11),\n",
    "                              (22, 11),\n",
    "                              (7, 10),\n",
    "                              (4, 7),\n",
    "                              (13, 11),\n",
    "                              (22, 1),\n",
    "                              (7, 9),\n",
    "                              (4, 16),\n",
    "                              (13, 14),\n",
    "                              (22, 15)]))"
   ]
  },
  {
   "cell_type": "markdown",
   "metadata": {},
   "source": [
    "RSA helper code:"
   ]
  },
  {
   "cell_type": "code",
   "execution_count": null,
   "metadata": {
    "lines_to_next_cell": 1
   },
   "outputs": [],
   "source": [
    "def igcd(b, n):\n",
    "    x0, x1, y0, y1 = 1, 0, 0, 1\n",
    "    while n != 0:\n",
    "        q, b, n = b // n, n, b % n\n",
    "        x0, x1 = x1, x0 - q * x1\n",
    "        y0, y1 = y1, y0 - q * y1\n",
    "    return b, x0, y0\n",
    "\n",
    "def TUMMI(e, t):\n",
    "    d, x, y = igcd(e, t)\n",
    "    if d != 1:\n",
    "        raise ValueError(\"no TUMMI exists\")\n",
    "    else:\n",
    "        return x % t\n",
    "\n",
    "def demoRSA():\n",
    "    p = 37\n",
    "    q = 41\n",
    "    n = p * q\n",
    "    e = 65537 # 2 ** 16 + 1\n",
    "    t = (p - 1) * (q - 1)\n",
    "    d = TUMMI(e, t)\n",
    "    m = 42\n",
    "    c = pow(m, e, n)\n",
    "    m_again = pow(c, d, n)\n",
    "    print(p, q, n, t, e, d, m, c, m_again)"
   ]
  }
 ],
 "metadata": {
  "jupytext": {
   "cell_metadata_filter": "-all",
   "main_language": "python",
   "notebook_metadata_filter": "-all"
  },
  "kernelspec": {
   "display_name": "Python 3",
   "language": "python",
   "name": "python3"
  },
  "language_info": {
   "codemirror_mode": {
    "name": "ipython",
    "version": 3
   },
   "file_extension": ".py",
   "mimetype": "text/x-python",
   "name": "python",
   "nbconvert_exporter": "python",
   "pygments_lexer": "ipython3",
   "version": "3.9.0"
  }
 },
 "nbformat": 4,
 "nbformat_minor": 4
}
