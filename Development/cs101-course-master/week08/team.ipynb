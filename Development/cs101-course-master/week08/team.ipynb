{
 "cells": [
  {
   "cell_type": "markdown",
   "metadata": {},
   "source": [
    "![](../images/cs101.png)\n",
    "***\n",
    "\n",
    "# 08 - Team Activity\n"
   ]
  },
  {
   "cell_type": "markdown",
   "metadata": {},
   "source": [
    "# Objectives and Goals\n",
    "\n",
    "- Learn to use the `if` statement.\n"
   ]
  },
  {
   "cell_type": "markdown",
   "metadata": {},
   "source": [
    "# Preparation\n",
    "\n",
    "For this lesson, please review and read:\n",
    "\n",
    "- Lesson notes for this week.\n"
   ]
  },
  {
   "cell_type": "markdown",
   "metadata": {},
   "source": [
    "# Activity Details\n"
   ]
  },
  {
   "cell_type": "markdown",
   "metadata": {},
   "source": [
    "## Get the team activity code\n",
    "\n",
    "1. Open Thonny and create a new Python called teamXX.py. (Where XX is the team activity number). Keep Thonny open.\n",
    "1. Click on [this link to open the Python file](team.py) file.\n",
    "1. Press Control-A or Command-A to select all of the code.\n",
    "1. Select Thonny and press Control-v or Command-v to paste the Python code to Thonny.\n",
    "1. In Thonny, save your Python file with the code that you pasted.  You can save your project file anywhere on your computer."
   ]
  },
  {
   "cell_type": "markdown",
   "metadata": {},
   "source": [
    "## Writing your Code\n",
    "\n",
    "Your program will be calculating the tax rate for single and married individuals.  For example, if a single person made $25,345, then their tax rate would be 12%.  A married couple with combined income of 100,000.00 would have a tax rate of 22%\n",
    "\n",
    "2018 IRS Tax Rates: (https://www.efile.com/tax-rate/federal-income-tax-rates/#2018)\n",
    "\n",
    "| Tax Rate % | Single | Married/Joint & Widow(er) | Married/Separate | Head of Household |\n",
    "| ---- | ---- | ---- | ---- | ---- |\n",
    "| `10` | `$1 to $9,525` | `$1 to $19,050` | `$1 to $9,525` | `$1 to $13,600` |\n",
    "| `12` | `$9,526 to $38,700` | `$19,051 to $77,400` | `$9,526 to $38,700` | `$13,601 to $51,800` |\n",
    "| `22` | `$38,701 to $82,500` | `$77,401 to $165,000` | `$38,701 to $82,500` | `$51,801 to $82,500` |\n",
    "| `24` | `$82,501 to $157,500` | `$165,001 to $315,000` | `$82,501 to $157,500` | `$82,501 to $157,500` |\n",
    "| `32` | `$157,501 to $200,000` | `$315,001 to $400,000` | `$157,501 to $200,000` | `$157,500 to $200,000` |\n",
    "| `35` | `$200,001 to $500,000` | `$400,001 to $600,000` | `$200,001 to $300,000` | `$200,001 to $500,000` |\n",
    "| `37` | `over $500,000` | `over $600,000` | `over $300,000` | `over $500,000` |"
   ]
  },
  {
   "cell_type": "markdown",
   "metadata": {},
   "source": [
    "## Project code\n",
    "\n",
    "When you download the project.py file, you will find where you should implement the `computeSingleTax()` and `computeMarriedTax()` functions.  There will also be code in the main part of the program that will test your function.  Don't edit this code.\n",
    "\n",
    "The main code is using the assert() function to help with the testing of your functions.  They verify that you are calculating the correct tax rate based on monthly and yearly incomes.  If an assert() fails (ie., stops your program), you need to fix a bug/issue in your tax functions.\n",
    "\n"
   ]
  },
  {
   "cell_type": "markdown",
   "metadata": {},
   "source": [
    "## Complete the Team Activity\n",
    "\n",
    "- Look for the \"TODO\" comments in the Python file and complete the required code"
   ]
  },
  {
   "cell_type": "markdown",
   "metadata": {},
   "source": [
    "# Submitting\n",
    "\n",
    "There is nothing to submit for this team activity.  However, there is a quiz that is required to be filled out for each team activity."
   ]
  }
 ],
 "metadata": {
  "kernelspec": {
   "display_name": "Python 3",
   "language": "python",
   "name": "python3"
  },
  "language_info": {
   "codemirror_mode": {
    "name": "ipython",
    "version": 3
   },
   "file_extension": ".py",
   "mimetype": "text/x-python",
   "name": "python",
   "nbconvert_exporter": "python",
   "pygments_lexer": "ipython3",
   "version": "3.7.3"
  }
 },
 "nbformat": 4,
 "nbformat_minor": 2
}
