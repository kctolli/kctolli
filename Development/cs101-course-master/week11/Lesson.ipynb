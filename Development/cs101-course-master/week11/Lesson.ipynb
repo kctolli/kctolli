{
 "cells": [
  {
   "cell_type": "markdown",
   "metadata": {},
   "source": [
    "![](../images/cs101.png)\n",
    "***\n",
    "\n",
    "# 11 - Lesson : Lists\n"
   ]
  },
  {
   "cell_type": "markdown",
   "metadata": {},
   "source": [
    "# Coding Examples in This Lesson\n",
    "\n",
    "There are many small coding examples in this lesson.  I would strongly suggest that you type these examples in Thonny (or your Python IDE) to better understand the code."
   ]
  },
  {
   "cell_type": "markdown",
   "metadata": {},
   "source": [
    "# Objectives and Goals\n",
    "\n",
    "Students will:\n",
    "\n",
    "- be able to create lists.\n",
    "- be able to use lists to solve problems.\n"
   ]
  },
  {
   "cell_type": "markdown",
   "metadata": {},
   "source": [
    "# Preparation\n",
    "\n",
    "For this lesson, please review and read:\n",
    "\n",
    "- Review `for` loops\n"
   ]
  },
  {
   "cell_type": "markdown",
   "metadata": {},
   "source": [
    "# Python Coding Style\n",
    "\n",
    "- Follow the coding style of using spaces around the assignment `=` operator when creating lists.\n",
    "- When defining the items in a list, place a space after each comma `,`.  `grades = [90, 95, 100]` is correct while `grades = [90,95,100]` is not."
   ]
  },
  {
   "cell_type": "markdown",
   "metadata": {},
   "source": [
    "***\n",
    "# Part 1 - Basic Lists\n",
    "\n",
    "A Python list is a data structure that is used to hold a sequence of values.  List are ordered which means that the order of the values in a list stay in the same position unless you change them.  You can create, modify, loop through and remove values in a list.  They are designed to be very flexible. Python uses the characters `[]` to denote a list.\n",
    "\n",
    "Examples of lists:\n",
    "\n",
    "```python\n",
    "grades = [78, 89, 100]\n",
    "temperatures = [22.3, 44.4, 55.5, 66.6. 212.0]\n",
    "shoppingList = ['bread', 'milk', 'eggs', 'ice cream']\n",
    "myCourses = ['cs124', 'cs165', 'cs101']\n",
    "letters = ['a', 'b', 't', 'g', 'w']\n",
    "```\n"
   ]
  },
  {
   "cell_type": "markdown",
   "metadata": {},
   "source": [
    "## Creating lists\n",
    "\n",
    "It is very easy to create a list in Python.\n",
    "\n",
    "```Python\n",
    "    name = [ value, value, value, ... ]\n",
    "```\n",
    "\n",
    "Most lists need to have a meaningful name for the list just as variables need meaningful names.  The `[]` brackets are used to tell Python that this is a list.  Finially, you can place as many values in a list as you want.\n"
   ]
  },
  {
   "cell_type": "code",
   "execution_count": 1,
   "metadata": {},
   "outputs": [
    {
     "name": "stdout",
     "output_type": "stream",
     "text": [
      "['John', 'Mary', 'Fred']\n"
     ]
    }
   ],
   "source": [
    "# Creating a list of names\n",
    "names = ['John', 'Mary', 'Fred']\n",
    "print(names)"
   ]
  },
  {
   "cell_type": "code",
   "execution_count": 2,
   "metadata": {},
   "outputs": [
    {
     "name": "stdout",
     "output_type": "stream",
     "text": [
      "[90, 50, 100]\n"
     ]
    }
   ],
   "source": [
    "# Creating a list of grades\n",
    "grades = [90, 50, 100]\n",
    "print(grades)"
   ]
  },
  {
   "cell_type": "code",
   "execution_count": 3,
   "metadata": {},
   "outputs": [
    {
     "name": "stdout",
     "output_type": "stream",
     "text": [
      "[123, 'House', 55.5, False, 'Car']\n"
     ]
    }
   ],
   "source": [
    "# Lists can contain different types of data in them\n",
    "# here is a list of integers, strings and boolean values\n",
    "values = [123, 'House', 55.5, False, 'Car']\n",
    "print(values)"
   ]
  },
  {
   "cell_type": "code",
   "execution_count": 4,
   "metadata": {},
   "outputs": [
    {
     "name": "stdout",
     "output_type": "stream",
     "text": [
      "[]\n"
     ]
    }
   ],
   "source": [
    "# Lists can also be empty\n",
    "emptyList = []\n",
    "print(emptyList)"
   ]
  },
  {
   "cell_type": "code",
   "execution_count": 1,
   "metadata": {},
   "outputs": [
    {
     "name": "stdout",
     "output_type": "stream",
     "text": [
      "list of fives = [5, 5, 5, 5, 5, 5, 5, 5, 5, 5]\n",
      "String of 5 'a's =  aaaaa\n",
      "List of 5 'a's =  ['a', 'a', 'a', 'a', 'a']\n"
     ]
    }
   ],
   "source": [
    "# Lists can also be created with the '*' character\n",
    "fives = [5] * 10\n",
    "print('list of fives =', fives)\n",
    "\n",
    "# Creates a string of 5 'a' - This is not a list\n",
    "print(\"String of 5 'a's = \", 'a' * 5)\n",
    "\n",
    "# Creates a list of 5 'a'\n",
    "print(\"List of 5 'a's = \", ['a'] * 5)\n"
   ]
  },
  {
   "cell_type": "markdown",
   "metadata": {},
   "source": [
    "## Indexing lists\n",
    "\n",
    "It is easy to print all of the values of a list using the print() statement.  However, there are many times when you only want to use or print one item in a list. In order to access items in a list, we need to use indexing.\n",
    "\n",
    "Indexing starts counting from zero and increases by one left to right.  You can also index a list backwards by using a negative index starting at -1.\n",
    "\n",
    "![](indexing.png)"
   ]
  },
  {
   "cell_type": "code",
   "execution_count": 6,
   "metadata": {},
   "outputs": [
    {
     "name": "stdout",
     "output_type": "stream",
     "text": [
      "All grades: [10, 20, 30, 40, 50, 60]\n",
      "first and third: 10 30\n"
     ]
    }
   ],
   "source": [
    "# Displaying the first and third values from a list\n",
    "grades = [10, 20, 30, 40, 50, 60]\n",
    "print('All grades:', grades)\n",
    "print('first and third:', grades[0], grades[2])"
   ]
  },
  {
   "cell_type": "code",
   "execution_count": 7,
   "metadata": {},
   "outputs": [
    {
     "name": "stdout",
     "output_type": "stream",
     "text": [
      "All grades: [10, 20, 30, 40, 50, 60]\n",
      "last and second last: 60 50\n"
     ]
    }
   ],
   "source": [
    "# Displaying the last two values of a list\n",
    "grades = [10, 20, 30, 40, 50, 60]\n",
    "print('All grades:', grades)\n",
    "print('last and second last:', grades[-1], grades[-2])"
   ]
  },
  {
   "cell_type": "markdown",
   "metadata": {},
   "source": [
    "## Looping through a list\n",
    "\n",
    "Using indexing, we can loop through all of the values of a list using a `for` loop.  The format of the `for` loop is:\n",
    "\n",
    "```python\n",
    "for item in aList:\n",
    "    statement(s)\n",
    "```\n",
    "\n",
    "In the above for loop, the variable `item` will take on each value in the list `aList` one at a time.  The loop will loop the number of items in the list.  For example, if a list contains 100 values, the loop will loop 100 times."
   ]
  },
  {
   "cell_type": "code",
   "execution_count": 8,
   "metadata": {},
   "outputs": [
    {
     "name": "stdout",
     "output_type": "stream",
     "text": [
      "grade = 10\n",
      "grade = 20\n",
      "grade = 30\n",
      "grade = 40\n",
      "grade = 50\n",
      "grade = 60\n"
     ]
    }
   ],
   "source": [
    "# Display all of the grades\n",
    "# Notice that the variable 'grade' is each value in the list, \n",
    "# one at a time as it loops through the list\n",
    "grades = [10, 20, 30, 40, 50, 60]\n",
    "for grade in grades:\n",
    "    print('grade =', grade)"
   ]
  },
  {
   "cell_type": "code",
   "execution_count": 9,
   "metadata": {},
   "outputs": [
    {
     "name": "stdout",
     "output_type": "stream",
     "text": [
      "There are 6 items in the list\n"
     ]
    }
   ],
   "source": [
    "# Count the number of values in a list using the len() function\n",
    "grades = [10, 20, 30, 40, 50, 60]\n",
    "print('There are', len(grades), 'items in the list')"
   ]
  },
  {
   "cell_type": "code",
   "execution_count": 3,
   "metadata": {},
   "outputs": [
    {
     "name": "stdout",
     "output_type": "stream",
     "text": [
      "There are 6 items in the list\n"
     ]
    }
   ],
   "source": [
    "# Count the number of values in a list using a for loop\n",
    "# same as the code example above.\n",
    "grades = [10, 20, 30, 40, 50, 60]\n",
    "count = 0\n",
    "for grade in grades:\n",
    "    count += 1\n",
    "print('There are', count, 'items in the list')"
   ]
  },
  {
   "cell_type": "code",
   "execution_count": 11,
   "metadata": {},
   "outputs": [
    {
     "name": "stdout",
     "output_type": "stream",
     "text": [
      "Total grades are 210\n"
     ]
    }
   ],
   "source": [
    "# Total grades in a list\n",
    "grades = [10, 20, 30, 40, 50, 60]\n",
    "total = 0\n",
    "for grade in grades:\n",
    "    total += grade\n",
    "print('Total grades are', total)"
   ]
  },
  {
   "cell_type": "code",
   "execution_count": 12,
   "metadata": {},
   "outputs": [
    {
     "name": "stdout",
     "output_type": "stream",
     "text": [
      "Average is 35.0\n"
     ]
    }
   ],
   "source": [
    "# Average grades in a list\n",
    "grades = [10, 20, 30, 40, 50, 60]\n",
    "count = 0\n",
    "total = 0\n",
    "for grade in grades:\n",
    "    count += 1\n",
    "    total += grade\n",
    "print('Average is', total / count)"
   ]
  },
  {
   "cell_type": "code",
   "execution_count": 13,
   "metadata": {},
   "outputs": [
    {
     "name": "stdout",
     "output_type": "stream",
     "text": [
      "Average is 35.0\n"
     ]
    }
   ],
   "source": [
    "# Average grades using sum() and len() functions\n",
    "grades = [10, 20, 30, 40, 50, 60]\n",
    "print('Average is', sum(grades) / len(grades))"
   ]
  },
  {
   "cell_type": "markdown",
   "metadata": {},
   "source": [
    "## Updating a value in a list\n",
    "\n",
    "We have learned above that we can access a value in a list by using the `[]` brackets.  Using these brackets, we can also change a value in a list."
   ]
  },
  {
   "cell_type": "code",
   "execution_count": 14,
   "metadata": {},
   "outputs": [
    {
     "name": "stdout",
     "output_type": "stream",
     "text": [
      "numbers = [1, 2, 3, 4, 5]\n",
      "Third item is 3\n",
      "numbers with 3rd changed = [1, 2, 99, 4, 5]\n",
      "numbers with last changed = [1, 2, 99, 4, 100]\n",
      "numbers with second last changed = [1, 2, 99, 'John', 100]\n"
     ]
    }
   ],
   "source": [
    "# Create a list of integers\n",
    "numbers = [1, 2, 3, 4, 5]\n",
    "print('numbers =', numbers)\n",
    "\n",
    "# access the 3rd item (ie., [2])\n",
    "print('Third item is', numbers[2])\n",
    "\n",
    "# Change the 3rd item to be 99\n",
    "numbers[2] = 99\n",
    "print('numbers with 3rd changed =', numbers)\n",
    "\n",
    "# change the last item to be 100\n",
    "numbers[-1] = 100\n",
    "print('numbers with last changed =', numbers)\n",
    "\n",
    "# change the second last item to be 'John'\n",
    "numbers[-2] = 'John'\n",
    "print('numbers with second last changed =', numbers)"
   ]
  },
  {
   "cell_type": "markdown",
   "metadata": {},
   "source": [
    "## Adding to a list\n",
    "\n",
    "Lists are not fixed in size.  They can grow.  To add an item to a list, you use the `append()` function.  Note that the `append()` function will add the new item to the end of the list.  Python lists are ordered which means that they will keep the order of the items as they are added to a list."
   ]
  },
  {
   "cell_type": "code",
   "execution_count": 15,
   "metadata": {},
   "outputs": [
    {
     "name": "stdout",
     "output_type": "stream",
     "text": [
      "empty names = []\n",
      "names with one append() = ['John']\n",
      "names with appends = ['John', 'Mary', 'Fred']\n"
     ]
    }
   ],
   "source": [
    "# Start with empty list\n",
    "names = []\n",
    "print('empty names =', names)\n",
    "\n",
    "names.append('John')\n",
    "print('names with one append() =', names)\n",
    "\n",
    "names.append('Mary')\n",
    "names.append('Fred')\n",
    "print('names with appends =', names)\n"
   ]
  },
  {
   "cell_type": "code",
   "execution_count": 16,
   "metadata": {},
   "outputs": [
    {
     "name": "stdin",
     "output_type": "stream",
     "text": [
      "Enter grade:  50\n",
      "Enter grade:  60\n",
      "Enter grade:  70\n"
     ]
    },
    {
     "name": "stdout",
     "output_type": "stream",
     "text": [
      "grades are: [50, 60, 70]\n"
     ]
    }
   ],
   "source": [
    "# Ask for 3 grades and append them to a list\n",
    "# Note: it is very important that the grades list start as an empty list\n",
    "grades = []\n",
    "for i in range(3):\n",
    "    grade = int(input('Enter grade: '))\n",
    "    grades.append(grade)\n",
    "print('grades are:', grades)"
   ]
  },
  {
   "cell_type": "markdown",
   "metadata": {},
   "source": [
    "## Removing from a list\n",
    "\n",
    "Lists are not fixed in size.  They can shrink.  To remove an item from a list, you use the `del` function."
   ]
  },
  {
   "cell_type": "code",
   "execution_count": 17,
   "metadata": {},
   "outputs": [
    {
     "name": "stdout",
     "output_type": "stream",
     "text": [
      "Letters           = ['a', 'b', 'c', 'd', 'e', 'f']\n",
      "Resulting letters = ['a', 'b', 'd', 'e', 'f']\n",
      "Resulting letters = ['a', 'b', 'd', 'e']\n"
     ]
    }
   ],
   "source": [
    "# List of letters where the 3rd letter will be removed\n",
    "letters = ['a', 'b', 'c', 'd', 'e', 'f']\n",
    "print('Letters           =', letters)\n",
    "\n",
    "# delete the 3rd item in the list\n",
    "del letters[2]\n",
    "\n",
    "print('Resulting letters =', letters)\n",
    "\n",
    "# delete the last item in the list\n",
    "del letters[-1]\n",
    "\n",
    "print('Resulting letters =', letters)"
   ]
  },
  {
   "cell_type": "markdown",
   "metadata": {},
   "source": [
    "## Converting a string to a list\n",
    "\n",
    "A string can contain many words in it seperated by spaces. For example: `\"The cat is black\"`.  There is a method in Python to convert a string into a list.  The `split()` function does this.  There is also the `list()` function that converts a string into individual letters."
   ]
  },
  {
   "cell_type": "code",
   "execution_count": 18,
   "metadata": {},
   "outputs": [
    {
     "name": "stdout",
     "output_type": "stream",
     "text": [
      "sentence: The cat is black\n",
      "words   : ['The', 'cat', 'is', 'black']\n",
      "letters : ['T', 'h', 'e', ' ', 'c', 'a', 't', ' ', 'i', 's', ' ', 'b', 'l', 'a', 'c', 'k']\n"
     ]
    }
   ],
   "source": [
    "# Split a string into words\n",
    "sentence = 'The cat is black'\n",
    "words = sentence.split()\n",
    "letters = list(sentence)\n",
    "\n",
    "print('sentence:', sentence)\n",
    "print('words   :', words)\n",
    "print('letters :', letters)"
   ]
  },
  {
   "cell_type": "markdown",
   "metadata": {},
   "source": [
    "## List Functions\n",
    "\n",
    "Python lists have built-in functions.  Here are some of them."
   ]
  },
  {
   "cell_type": "markdown",
   "metadata": {},
   "source": [
    "### len()\n",
    "\n",
    "Returns the length or number of items in a list."
   ]
  },
  {
   "cell_type": "code",
   "execution_count": 19,
   "metadata": {},
   "outputs": [
    {
     "name": "stdout",
     "output_type": "stream",
     "text": [
      "Length of grades is 3\n"
     ]
    }
   ],
   "source": [
    "grades = [55, 66, 99]\n",
    "print('Length of grades is', len(grades))"
   ]
  },
  {
   "cell_type": "markdown",
   "metadata": {},
   "source": [
    "### sum()\n",
    "\n",
    "When you have a list of integers or floats, the sum() function will return the sum of these values."
   ]
  },
  {
   "cell_type": "code",
   "execution_count": 20,
   "metadata": {},
   "outputs": [
    {
     "name": "stdout",
     "output_type": "stream",
     "text": [
      "Sum of grades is 220\n"
     ]
    }
   ],
   "source": [
    "grades = [55, 66, 99]\n",
    "print('Sum of grades is', sum(grades))"
   ]
  },
  {
   "cell_type": "markdown",
   "metadata": {},
   "source": [
    "### max()\n",
    "\n",
    "When you have a list of integers or floats, the max() function will return the largest of these values."
   ]
  },
  {
   "cell_type": "code",
   "execution_count": 21,
   "metadata": {},
   "outputs": [
    {
     "name": "stdout",
     "output_type": "stream",
     "text": [
      "Max value of grades is 99\n"
     ]
    }
   ],
   "source": [
    "grades = [55, 66, 99]\n",
    "print('Max value of grades is', max(grades))"
   ]
  },
  {
   "cell_type": "markdown",
   "metadata": {},
   "source": [
    "### min()\n",
    "\n",
    "When you have a list of integers or floats, the min() function will return the smallest of these values."
   ]
  },
  {
   "cell_type": "code",
   "execution_count": 22,
   "metadata": {},
   "outputs": [
    {
     "name": "stdout",
     "output_type": "stream",
     "text": [
      "Min value of grades is 55\n"
     ]
    }
   ],
   "source": [
    "grades = [55, 66, 99]\n",
    "print('Min value of grades is', min(grades))"
   ]
  },
  {
   "cell_type": "markdown",
   "metadata": {},
   "source": [
    "### count()\n",
    "\n",
    "This function is used to return the count of the number of items in a list that match a value."
   ]
  },
  {
   "cell_type": "code",
   "execution_count": 23,
   "metadata": {},
   "outputs": [
    {
     "name": "stdout",
     "output_type": "stream",
     "text": [
      "The number of a's in the list is = 3\n",
      "The number of b's in the list is = 1\n",
      "The number of x's in the list is = 0\n",
      "The number of 10s in the values list is = 5\n",
      "The number of 'fred's in the names list is = 3\n"
     ]
    }
   ],
   "source": [
    "letters = ['a', 'b', 'c', 'a', 'g', 'a']\n",
    "print(\"The number of a's in the list is =\", letters.count('a'))\n",
    "print(\"The number of b's in the list is =\", letters.count('b'))\n",
    "print(\"The number of x's in the list is =\", letters.count('x'))\n",
    "\n",
    "values = [10, 20, 10, 10, 20, 30, 40, 10, 10]\n",
    "print(\"The number of 10s in the values list is =\", values.count(10))\n",
    "\n",
    "names = ['fred', 'john', 'fred', 'Harry', 'Alice', 'fred']\n",
    "print(\"The number of 'fred's in the names list is =\", names.count('fred'))\n"
   ]
  },
  {
   "cell_type": "markdown",
   "metadata": {},
   "source": [
    "### sort()\n",
    "\n",
    "The sort() function will sort values in a list in increasing order (lowest to highest).  Note that this function changes the order of the list."
   ]
  },
  {
   "cell_type": "code",
   "execution_count": 24,
   "metadata": {},
   "outputs": [
    {
     "name": "stdout",
     "output_type": "stream",
     "text": [
      "list not sorted: [34, 45, 12, 23, -45, 66, 33, 44, 99, 88, 64, 54]\n",
      "list sorted: [-45, 12, 23, 33, 34, 44, 45, 54, 64, 66, 88, 99]\n"
     ]
    }
   ],
   "source": [
    "values = [34, 45, 12, 23, -45, 66, 33, 44, 99, 88, 64, 54]\n",
    "print('list not sorted:', values)\n",
    "\n",
    "# sort the list\n",
    "values.sort()\n",
    "print('list sorted:', values)\n"
   ]
  },
  {
   "cell_type": "markdown",
   "metadata": {},
   "source": [
    "### reverse()\n",
    "\n",
    "The reverse() function will reverse a list.  Note that it changes the list."
   ]
  },
  {
   "cell_type": "code",
   "execution_count": 25,
   "metadata": {},
   "outputs": [
    {
     "name": "stdout",
     "output_type": "stream",
     "text": [
      "list not sorted: [34, 45, 12, 23, -45, 66, 33, 44, 99, 88, 64, 54]\n",
      "list in reverse: [54, 64, 88, 99, 44, 33, 66, -45, 23, 12, 45, 34]\n"
     ]
    }
   ],
   "source": [
    "values = [34, 45, 12, 23, -45, 66, 33, 44, 99, 88, 64, 54]\n",
    "print('list not sorted:', values)\n",
    "\n",
    "values.reverse()\n",
    "print('list in reverse:', values)\n"
   ]
  },
  {
   "cell_type": "markdown",
   "metadata": {},
   "source": [
    "### `in` statment\n",
    "\n",
    "The `in` statement is used to tell if a value is found in a list.  The results of the `in` statement is either `True` or `False`."
   ]
  },
  {
   "cell_type": "code",
   "execution_count": 26,
   "metadata": {},
   "outputs": [
    {
     "name": "stdout",
     "output_type": "stream",
     "text": [
      "The list: [10, 20, 30, 40, 50, 60, 70]\n",
      "Is the number 20 in the list: True\n",
      "Is the number 22 in the list: False\n",
      "Is the number 70 in the list: True\n"
     ]
    }
   ],
   "source": [
    "values = [10, 20, 30, 40, 50, 60, 70]\n",
    "print('The list:', values)\n",
    "contain20 = 20 in values\n",
    "print('Is the number 20 in the list:', contain20)\n",
    "print('Is the number 22 in the list:', 22 in values)\n",
    "print('Is the number 70 in the list:', 70 in values)"
   ]
  },
  {
   "cell_type": "markdown",
   "metadata": {},
   "source": [
    "### range()\n",
    "\n",
    "A Programmer can use the `range` function to help create a list of integers.  Note that this is the same `range()` function used in `for` loops.  To create a list from the `range` function, the function `list()` is used.  Here are some examples:"
   ]
  },
  {
   "cell_type": "code",
   "execution_count": 27,
   "metadata": {},
   "outputs": [
    {
     "name": "stdout",
     "output_type": "stream",
     "text": [
      "[0, 1, 2, 3, 4]\n"
     ]
    }
   ],
   "source": [
    "# Creating a list of integers from 0 to 4\n",
    "values = list(range(5))\n",
    "print(values)"
   ]
  },
  {
   "cell_type": "code",
   "execution_count": 28,
   "metadata": {},
   "outputs": [
    {
     "name": "stdout",
     "output_type": "stream",
     "text": [
      "[10, 13, 16, 19, 22, 25, 28, 31, 34, 37, 40]\n"
     ]
    }
   ],
   "source": [
    "# Creating a list of integers from 10 to 40 jumping by 3\n",
    "values = list(range(10, 41, 3))\n",
    "print(values)"
   ]
  },
  {
   "cell_type": "code",
   "execution_count": 29,
   "metadata": {},
   "outputs": [
    {
     "name": "stdout",
     "output_type": "stream",
     "text": [
      "[-5, -4, -3, -2, -1, 0, 1, 2, 3, 4, 5]\n"
     ]
    }
   ],
   "source": [
    "# Creating a list of integers from -5 to 5\n",
    "values = list(range(-5, 6))\n",
    "print(values)"
   ]
  },
  {
   "cell_type": "markdown",
   "metadata": {},
   "source": [
    "***\n",
    "# Part 2 - Advanced List Features\n",
    "\n",
    "We will be looking at more advanced functions and methods of using Python lists.  "
   ]
  },
  {
   "cell_type": "markdown",
   "metadata": {},
   "source": [
    "## Review - Indexing\n",
    "\n",
    "When you have a list, you can access individual items in that list using `[]` brackets.  Note that indexing starts with zero `[0]`."
   ]
  },
  {
   "cell_type": "code",
   "execution_count": 30,
   "metadata": {},
   "outputs": [
    {
     "name": "stdout",
     "output_type": "stream",
     "text": [
      "90 80\n"
     ]
    }
   ],
   "source": [
    "# Accessing the first 2 items of a list\n",
    "grades = [90, 80, 70, 98]\n",
    "print(grades[0], grades[1])"
   ]
  },
  {
   "cell_type": "code",
   "execution_count": 31,
   "metadata": {},
   "outputs": [
    {
     "name": "stdout",
     "output_type": "stream",
     "text": [
      "98 70\n"
     ]
    }
   ],
   "source": [
    "# Accessing the last items in a list using negative indexing\n",
    "grades = [90, 80, 70, 98]\n",
    "print(grades[-1], grades[-2])"
   ]
  },
  {
   "cell_type": "code",
   "execution_count": 32,
   "metadata": {},
   "outputs": [
    {
     "name": "stdout",
     "output_type": "stream",
     "text": [
      "c\n"
     ]
    }
   ],
   "source": [
    "# Accessing the middle item of a list\n",
    "letters = ['a', 'b', 'c', 'd', 'e']\n",
    "\n",
    "# len(letters) is the number of items in the list and \"// 2\" divides that count by half\n",
    "# leaving off any decimals.\n",
    "print(letters[len(letters) // 2])"
   ]
  },
  {
   "cell_type": "markdown",
   "metadata": {},
   "source": [
    "## Review - Sorting\n",
    "\n",
    "It is very easy to sort the values of a list using the `sort()` function.  Note that when you use `sort()` it will change the order of the items in that list."
   ]
  },
  {
   "cell_type": "code",
   "execution_count": 33,
   "metadata": {},
   "outputs": [
    {
     "name": "stdout",
     "output_type": "stream",
     "text": [
      "Before: [25, 10, 25, 1, 5, 1, 10]\n",
      "After : [1, 1, 5, 10, 10, 25, 25]\n"
     ]
    }
   ],
   "source": [
    "# sort values from smallest to largest\n",
    "money = [25, 10, 25, 1, 5, 1, 10]\n",
    "print('Before:', money)\n",
    "\n",
    "money.sort()\n",
    "print('After :', money)"
   ]
  },
  {
   "cell_type": "markdown",
   "metadata": {},
   "source": [
    "## Concatenation\n",
    "\n",
    "There are times when you might need to join or combine two lists together.  This is called Concatenation in Python.  The operator for concatenation is `+`."
   ]
  },
  {
   "cell_type": "code",
   "execution_count": 34,
   "metadata": {},
   "outputs": [
    {
     "name": "stdout",
     "output_type": "stream",
     "text": [
      "givenName = Fred\n",
      "surname   = Brown\n",
      "fullName  = Fred Brown\n"
     ]
    }
   ],
   "source": [
    "# In past lessons, we learned that you can join strings with the + operator\n",
    "givenName = 'Fred'\n",
    "surname = 'Brown'\n",
    "fullName = givenName + ' ' + surname\n",
    "print('givenName =', givenName)\n",
    "print('surname   =', surname)\n",
    "print('fullName  =', fullName)"
   ]
  },
  {
   "cell_type": "code",
   "execution_count": 35,
   "metadata": {},
   "outputs": [
    {
     "name": "stdout",
     "output_type": "stream",
     "text": [
      "Fruits  : ['pear', 'grape']\n",
      "Vegs    : ['carrot', 'green bean', 'pea']\n",
      "New list: ['pear', 'grape', 'carrot', 'green bean', 'pea']\n"
     ]
    }
   ],
   "source": [
    "# Combine two lists together using the + operator\n",
    "fruits = ['pear', 'grape']\n",
    "vegs = ['carrot', 'green bean', 'pea']\n",
    "newList = fruits + vegs\n",
    "\n",
    "print('Fruits  :', fruits)\n",
    "print('Vegs    :', vegs)\n",
    "print('New list:', newList)"
   ]
  },
  {
   "cell_type": "code",
   "execution_count": 36,
   "metadata": {},
   "outputs": [
    {
     "name": "stdout",
     "output_type": "stream",
     "text": [
      "Numbers : [1, 2, 3, 4, 5]\n",
      "Letters : ['a', 'b', 'c', 'd', 'e', 'f']\n",
      "New list: [1, 2, 3, 4, 5, 'a', 'b', 'c', 'd', 'e', 'f']\n"
     ]
    }
   ],
   "source": [
    "# Combine two lists together\n",
    "numbers = [1, 2, 3, 4, 5]\n",
    "letters = ['a', 'b', 'c', 'd', 'e', 'f']\n",
    "newList = numbers + letters\n",
    "\n",
    "print('Numbers :', numbers)\n",
    "print('Letters :', letters)\n",
    "print('New list:', newList)"
   ]
  },
  {
   "cell_type": "code",
   "execution_count": 37,
   "metadata": {},
   "outputs": [
    {
     "name": "stdout",
     "output_type": "stream",
     "text": [
      "Numbers: [0, 1, 2, 3, 4]\n"
     ]
    }
   ],
   "source": [
    "# Add numbers to a list one at a time using the '+=' operator\n",
    "numbers = []\n",
    "for i in range(5):\n",
    "    # Take the current list called numbers and add the list [i] to it.\n",
    "    numbers += [i]\n",
    "print('Numbers:', numbers)"
   ]
  },
  {
   "cell_type": "markdown",
   "metadata": {},
   "source": [
    "## Repetition\n",
    "\n",
    "There are times when you need to create a list that contains a certain number of items that are the same.\n",
    "\n",
    "```text\n",
    "    myList = [values] * amount\n",
    "```\n",
    "\n",
    "The above statement will create a new list that contains `[values]` amount times."
   ]
  },
  {
   "cell_type": "code",
   "execution_count": 41,
   "metadata": {},
   "outputs": [
    {
     "name": "stdout",
     "output_type": "stream",
     "text": [
      "[100, 100, 100, 100, 100, 100, 100, 100, 100, 100]\n"
     ]
    }
   ],
   "source": [
    "# Create a list of 10 grades that are all 100\n",
    "grades = [100] * 10\n",
    "print(grades)"
   ]
  },
  {
   "cell_type": "code",
   "execution_count": 42,
   "metadata": {},
   "outputs": [
    {
     "name": "stdout",
     "output_type": "stream",
     "text": [
      "[0, 0, 0, 0, 0, 0, 0, 0, 0, 0, 0, 0, 0, 0, 0, 0, 0, 0, 0, 0, 0, 0, 0, 0, 0, 0, 0, 0, 0, 0, 0, 0, 0, 0, 0, 0, 0, 0, 0, 0, 0, 0, 0, 0, 0, 0, 0, 0, 0, 0, 0, 0, 0, 0, 0, 0, 0, 0, 0, 0, 0, 0, 0, 0, 0, 0, 0, 0, 0, 0, 0, 0, 0, 0, 0, 0, 0, 0, 0, 0, 0, 0, 0, 0, 0, 0, 0, 0, 0, 0, 0, 0, 0, 0, 0, 0, 0, 0, 0, 0]\n"
     ]
    }
   ],
   "source": [
    "# Create a list of 100 zeros\n",
    "zeros = [0] * 100\n",
    "print(zeros)"
   ]
  },
  {
   "cell_type": "code",
   "execution_count": 43,
   "metadata": {},
   "outputs": [
    {
     "name": "stdout",
     "output_type": "stream",
     "text": [
      "['abc', 'abc', 'abc', 'abc', 'abc', 'abc', 'abc', 'abc', 'abc', 'abc', 'abc', 'abc', 'abc', 'abc']\n"
     ]
    }
   ],
   "source": [
    "# Create a list of 14 strings of 'abc'\n",
    "abc = ['abc'] * 14\n",
    "print(abc)"
   ]
  },
  {
   "cell_type": "code",
   "execution_count": 44,
   "metadata": {},
   "outputs": [
    {
     "name": "stdout",
     "output_type": "stream",
     "text": [
      "['abc', 55, False, 'abc', 55, False, 'abc', 55, False, 'abc', 55, False]\n"
     ]
    }
   ],
   "source": [
    "# Create a list of 4 sets of ['abc', 55, False]\n",
    "values = ['abc', 55, False] * 4\n",
    "print(values)"
   ]
  },
  {
   "cell_type": "code",
   "execution_count": 45,
   "metadata": {},
   "outputs": [
    {
     "name": "stdout",
     "output_type": "stream",
     "text": [
      "Before: [1, 5, 10]\n",
      "After : [1, 5, 10, 25, 25, 25]\n"
     ]
    }
   ],
   "source": [
    "# Add 3 values of 25 to a list (Using concatenation and repetition)\n",
    "values = [1, 5, 10]\n",
    "print('Before:', values)\n",
    "\n",
    "values += [25] * 3\n",
    "print('After :', values)"
   ]
  },
  {
   "cell_type": "code",
   "execution_count": 46,
   "metadata": {},
   "outputs": [
    {
     "name": "stdout",
     "output_type": "stream",
     "text": [
      "Before: [1, 5, 10]\n",
      "After : [1, 5, 10, 25, 25, 25]\n"
     ]
    }
   ],
   "source": [
    "# Add 3 values of 25 to a list (Using concatenation)\n",
    "values = [1, 5, 10]\n",
    "print('Before:', values)\n",
    "\n",
    "values += [25, 25, 25]\n",
    "print('After :', values)"
   ]
  },
  {
   "cell_type": "code",
   "execution_count": 47,
   "metadata": {},
   "outputs": [
    {
     "name": "stdout",
     "output_type": "stream",
     "text": [
      "Before: [1, 5, 10]\n",
      "After : [1, 5, 10, 25, 25, 25]\n"
     ]
    }
   ],
   "source": [
    "# Add 3 values of 25 to a list (Using a loop and append())\n",
    "values = [1, 5, 10]\n",
    "print('Before:', values)\n",
    "\n",
    "for i in range(3):\n",
    "    values.append(25)\n",
    "print('After :', values)"
   ]
  },
  {
   "cell_type": "markdown",
   "metadata": {},
   "source": [
    "## Pop\n",
    "\n",
    "When you need to remove an item from a list, you can use the `pop()` function.  It **removes** an item and allows you to use that item.  The `pop()` function takes an argument that will allow you to indicate which item in the list to remove or \"pop\".\n",
    "\n",
    "```text\n",
    "    value = list.pop(index)\n",
    "```\n",
    "Example: remove the first grade from the list grades\n",
    "```    \n",
    "    firstGrade = grades.pop(0)\n",
    "```\n",
    "\n",
    "Example: remove the third grade from the list grades\n",
    "```    \n",
    "    thirdGrade = grades.pop(2)\n",
    "```"
   ]
  },
  {
   "cell_type": "code",
   "execution_count": 48,
   "metadata": {},
   "outputs": [
    {
     "name": "stdout",
     "output_type": "stream",
     "text": [
      "Before: [100, 200, 300, 400]\n",
      "First item = 100\n",
      "After : [200, 300, 400]\n",
      "Next item = 200\n",
      "After : [300, 400]\n"
     ]
    }
   ],
   "source": [
    "# Remove the first item from a list and display it.\n",
    "values = [100, 200, 300, 400]\n",
    "print('Before:', values)\n",
    "\n",
    "firstItem = values.pop(0)\n",
    "print('First item =', firstItem)\n",
    "print('After :', values)\n",
    "\n",
    "nextItem = values.pop(0)\n",
    "print('Next item =', nextItem)\n",
    "print('After :', values)"
   ]
  },
  {
   "cell_type": "code",
   "execution_count": 49,
   "metadata": {},
   "outputs": [
    {
     "name": "stdout",
     "output_type": "stream",
     "text": [
      "Before: [100, 200, 300, 400]\n",
      "Last item = 400\n",
      "After : [100, 200, 300]\n"
     ]
    }
   ],
   "source": [
    "# Remove the last item from a list and display it. Notice that this is negative indexing.\n",
    "values = [100, 200, 300, 400]\n",
    "print('Before:', values)\n",
    "\n",
    "item = values.pop(-1)\n",
    "print('Last item =', item)\n",
    "print('After :', values)"
   ]
  },
  {
   "cell_type": "code",
   "execution_count": 50,
   "metadata": {},
   "outputs": [
    {
     "name": "stdout",
     "output_type": "stream",
     "text": [
      "Before: [55, 66, 77, 33, 99]\n",
      "Sorted: [33, 55, 66, 77, 99]\n",
      "Smallest = 33\n",
      "After : [55, 66, 77, 99]\n"
     ]
    }
   ],
   "source": [
    "# Remove smallest values from a list.\n",
    "values = [55, 66, 77, 33, 99]\n",
    "print('Before:', values)\n",
    "\n",
    "values.sort()\n",
    "print('Sorted:', values)\n",
    "\n",
    "smallest = values.pop(0)\n",
    "print('Smallest =', smallest)\n",
    "print('After :', values)"
   ]
  },
  {
   "cell_type": "code",
   "execution_count": 51,
   "metadata": {},
   "outputs": [
    {
     "name": "stdout",
     "output_type": "stream",
     "text": [
      "Before: [100, 200, 300, 400]\n",
      "Popped 100 Current values: [200, 300, 400]\n",
      "Popped 200 Current values: [300, 400]\n",
      "Popped 300 Current values: [400]\n",
      "Popped 400 Current values: []\n",
      "Resulting list: []\n"
     ]
    }
   ],
   "source": [
    "# Remove all of the items from a list one at a time\n",
    "values = [100, 200, 300, 400]\n",
    "print('Before:', values)\n",
    "\n",
    "# While the length of the list is > 0 (or while there are items in the list)\n",
    "while (len(values) > 0):\n",
    "    popped = values.pop(0)\n",
    "    print('Popped', popped, 'Current values:', values)\n",
    "    \n",
    "print('Resulting list:', values)\n"
   ]
  },
  {
   "cell_type": "markdown",
   "metadata": {},
   "source": [
    "## Insert\n",
    "\n",
    "`append()` is used to add an item to a list at the end.  Sometimes, you need to add items at the front or anywhere in a list.  The `insert()` function allows you to do this.\n",
    "\n",
    "```text\n",
    "list.insert(index, value)\n",
    "```\n",
    "\n",
    "**index**\n",
    "\n",
    "This is the index where you want to insert the value into a list.  Remember that indices start counting from 0.\n",
    "\n",
    "**value**\n",
    "\n",
    "This is the value to insert into the list.\n",
    "\n"
   ]
  },
  {
   "cell_type": "code",
   "execution_count": 52,
   "metadata": {},
   "outputs": [
    {
     "name": "stdout",
     "output_type": "stream",
     "text": [
      "Before: [0, 0, 0, 0, 0]\n",
      "After : [99, 0, 0, 0, 0, 0]\n",
      "After : [99, 0, 222, 0, 0, 0, 0]\n"
     ]
    }
   ],
   "source": [
    "values = [0] * 5\n",
    "print('Before:', values)\n",
    "\n",
    "# Insert a number at the front of a list\n",
    "values.insert(0, 99)\n",
    "print('After :', values)\n",
    "\n",
    "# Insert a number at the 3rd position in the list\n",
    "# (We start counting at zero...)\n",
    "values.insert(2, 222)\n",
    "print('After :', values)"
   ]
  },
  {
   "cell_type": "code",
   "execution_count": 53,
   "metadata": {},
   "outputs": [
    {
     "name": "stdout",
     "output_type": "stream",
     "text": [
      "Before: [0, 0, 0, 0, 0]\n",
      "After : [0, 99, 0, 0, 0, 0]\n"
     ]
    }
   ],
   "source": [
    "# Insert a number in the second position of a list.  Remember that indices start at number zero.\n",
    "values = [0] * 5\n",
    "print('Before:', values)\n",
    "\n",
    "values.insert(1, 99)\n",
    "print('After :', values)"
   ]
  },
  {
   "cell_type": "code",
   "execution_count": 54,
   "metadata": {},
   "outputs": [
    {
     "name": "stdout",
     "output_type": "stream",
     "text": [
      "Before: [0, 0, 0, 0, 0]\n",
      "After : [0, 0, 0, 0, 0, 99]\n"
     ]
    }
   ],
   "source": [
    "# Insert a number at the end of a list using \"insert\"\n",
    "values = [0] * 5\n",
    "print('Before:', values)\n",
    "\n",
    "# Need to use len() to get the number of current items in the list\n",
    "values.insert(len(values), 99)\n",
    "print('After :', values)"
   ]
  },
  {
   "cell_type": "markdown",
   "metadata": {},
   "source": [
    "## Slicing\n",
    "\n",
    "Slicing allows you to extract sub-lists from a list and a string.\n",
    "\n",
    "From last week's lesson, we covered how Python indexes strings and lists and starts counting from the number zero.  You can also index backwards using negative values.\n",
    "\n",
    "![](indexing.png)\n",
    "\n",
    "The format of slicing is:\n",
    "\n",
    "```python\n",
    "list[start:end]\n",
    "\n",
    "string[start:end]\n",
    "```\n",
    "\n",
    "**start**\n",
    "\n",
    "This is the starting index of the extracted sub-list or sub-string.  If the starting value is not used, the index of 0 is used by Python.\n",
    "\n",
    "**end**\n",
    "\n",
    "This is the ending index of the sub-list or sub-string.  Note that the index itself is NOT used in the sub-string/list (See the examples below).  If the ending index is not used, Python will use the end of the list/string for the slice.\n",
    "\n",
    "**Examples:**\n",
    "\n",
    "`[3:5]` extract values from indices 3 to 4 (5 is not included).\n",
    "\n",
    "`[3:]` extract values from indices 3 to the end of the list/string.\n",
    "\n",
    "`[:5]` extract values the first 5 values (indices 0, 1, 2, 3, 4).\n",
    "\n",
    "`[:]` extract all values from the string/list.  This is used to make a copy.\n",
    "\n",
    "\n",
    "\n"
   ]
  },
  {
   "cell_type": "markdown",
   "metadata": {},
   "source": [
    "### Slicing a String\n",
    "\n",
    "There are times when you need to extract a sub-string from a string.  The following examples will highlight how to do it."
   ]
  },
  {
   "cell_type": "code",
   "execution_count": 55,
   "metadata": {},
   "outputs": [
    {
     "name": "stdout",
     "output_type": "stream",
     "text": [
      "name: Joe Brown\n",
      "firstName: Joe\n"
     ]
    }
   ],
   "source": [
    "# Extract the first 3 characters from a string\n",
    "# This is letters [0], [1] and [2].\n",
    "name = 'Joe Brown'\n",
    "firstName = name[0:3]\n",
    "print('name:', name)\n",
    "print('firstName:', firstName)\n"
   ]
  },
  {
   "cell_type": "code",
   "execution_count": 56,
   "metadata": {},
   "outputs": [
    {
     "name": "stdout",
     "output_type": "stream",
     "text": [
      "name: Joe Brown\n",
      "first letter: J\n"
     ]
    }
   ],
   "source": [
    "# Extract the first character from a string\n",
    "name = 'Joe Brown'\n",
    "first = name[0:1]\n",
    "print('name:', name)\n",
    "print('first letter:', first)\n"
   ]
  },
  {
   "cell_type": "code",
   "execution_count": 57,
   "metadata": {},
   "outputs": [
    {
     "name": "stdout",
     "output_type": "stream",
     "text": [
      "name: Joe Brown\n",
      "last letter: n\n"
     ]
    }
   ],
   "source": [
    "# Extract the last character from a string\n",
    "name = 'Joe Brown'\n",
    "last = name[-1:]\n",
    "print('name:', name)\n",
    "print('last letter:', last)\n"
   ]
  },
  {
   "cell_type": "code",
   "execution_count": 58,
   "metadata": {},
   "outputs": [
    {
     "name": "stdout",
     "output_type": "stream",
     "text": [
      "name: Joe Brown\n",
      "last letter: Brown\n"
     ]
    }
   ],
   "source": [
    "# Extract the last 5 characters from a string\n",
    "name = 'Joe Brown'\n",
    "last = name[-5:]\n",
    "print('name:', name)\n",
    "print('last letter:', last)\n"
   ]
  },
  {
   "cell_type": "code",
   "execution_count": 59,
   "metadata": {},
   "outputs": [
    {
     "name": "stdout",
     "output_type": "stream",
     "text": [
      "letters: abcdefghijklmnopqrstuvwxyz\n",
      "sub1   : fghij\n",
      "sub2   : klmno\n",
      "sub3   : pqrst\n"
     ]
    }
   ],
   "source": [
    "# Extract sub-strings.  Notice that the sub-strings do NOT include the ending index letter.\n",
    "#          01234567890123456789012345\n",
    "letters = 'abcdefghijklmnopqrstuvwxyz'\n",
    "sub1 = letters[5:10]\n",
    "sub2 = letters[10:15]\n",
    "sub3 = letters[15:20]\n",
    "print('letters:', letters)\n",
    "print('sub1   :', sub1)\n",
    "print('sub2   :', sub2)\n",
    "print('sub3   :', sub3)"
   ]
  },
  {
   "cell_type": "markdown",
   "metadata": {},
   "source": [
    "### Slicing a List\n",
    "\n",
    "Slicing a list uses the same syntax as slcing a string.  In the case of strings, the resulting slice is another string.  With lists, the resulting slice is a new list.  Note that the original list is not changed."
   ]
  },
  {
   "cell_type": "code",
   "execution_count": 60,
   "metadata": {},
   "outputs": [
    {
     "name": "stdout",
     "output_type": "stream",
     "text": [
      "Values  : [100, 200, 300, 400, 500]\n",
      "New List: [100, 200]\n"
     ]
    }
   ],
   "source": [
    "# Extract the first 2 items of a list\n",
    "values = [100, 200, 300, 400, 500]\n",
    "newList = values[0:2]\n",
    "print('Values  :', values)\n",
    "print('New List:', newList)"
   ]
  },
  {
   "cell_type": "code",
   "execution_count": 61,
   "metadata": {},
   "outputs": [
    {
     "name": "stdout",
     "output_type": "stream",
     "text": [
      "Values  : [100, 200, 300, 400, 500]\n",
      "New List: [100, 200]\n"
     ]
    }
   ],
   "source": [
    "# Extract the first 2 items of a list (Not using the starting index, default to zero)\n",
    "values = [100, 200, 300, 400, 500]\n",
    "newList = values[:2]\n",
    "print('Values  :', values)\n",
    "print('New List:', newList)"
   ]
  },
  {
   "cell_type": "code",
   "execution_count": 62,
   "metadata": {},
   "outputs": [
    {
     "name": "stdout",
     "output_type": "stream",
     "text": [
      "Values  : [100, 200, 300, 400, 500, 600, 700, 800, 900]\n",
      "New List: [400, 500, 600, 700, 800, 900]\n"
     ]
    }
   ],
   "source": [
    "# Extract all of the items from a list starting at index 3\n",
    "# Notice that the ending index is not used which defaults to the end of the list\n",
    "values = [100, 200, 300, 400, 500, 600, 700, 800, 900]\n",
    "newList = values[3:]\n",
    "print('Values  :', values)\n",
    "print('New List:', newList)"
   ]
  },
  {
   "cell_type": "code",
   "execution_count": 63,
   "metadata": {},
   "outputs": [
    {
     "name": "stdout",
     "output_type": "stream",
     "text": [
      "Values  : [100, 200, 300, 400, 500, 600, 700, 800, 900]\n",
      "New List: [100, 200, 300, 400, 500, 600, 700, 800, 900]\n"
     ]
    }
   ],
   "source": [
    "# Copy all of a list\n",
    "# No starting or ending index, this is the whole list\n",
    "values = [100, 200, 300, 400, 500, 600, 700, 800, 900]\n",
    "newList = values[:]\n",
    "print('Values  :', values)\n",
    "print('New List:', newList)"
   ]
  },
  {
   "cell_type": "code",
   "execution_count": 64,
   "metadata": {},
   "outputs": [
    {
     "name": "stdout",
     "output_type": "stream",
     "text": [
      "Values  : [100, 200, 300, 400, 500, 600, 700, 800, 900]\n",
      "New List: [100, 200, 300, 400, 500, 600, 700, 800, 900]\n",
      "\n",
      "Change the first item in newList - BOTH CHANGED!!!!!!!!\n",
      "Values  : ['Changed', 200, 300, 400, 500, 600, 700, 800, 900]\n",
      "New List: ['Changed', 200, 300, 400, 500, 600, 700, 800, 900]\n",
      "\n",
      "Change the last item in values - BOTH CHANGED!!!!!!!!\n",
      "Values  : ['Changed', 200, 300, 400, 500, 600, 700, 800, 'Changed 2']\n",
      "New List: ['Changed', 200, 300, 400, 500, 600, 700, 800, 'Changed 2']\n"
     ]
    }
   ],
   "source": [
    "# Thinking that you copied a list.\n",
    "# Assigning a list to another does NOT create a new list\n",
    "# Is this case, the list is referred or accessed by both \"values\" and \"newList\"\n",
    "values = [100, 200, 300, 400, 500, 600, 700, 800, 900]\n",
    "newList = values\n",
    "\n",
    "print('Values  :', values)\n",
    "print('New List:', newList)\n",
    "\n",
    "# Change the first item in the newList\n",
    "print('\\nChange the first item in newList - BOTH CHANGED!!!!!!!!')\n",
    "newList[0] = 'Changed'\n",
    "print('Values  :', values)\n",
    "print('New List:', newList)\n",
    "\n",
    "# Change the item in the values\n",
    "print('\\nChange the last item in values - BOTH CHANGED!!!!!!!!')\n",
    "values[-1] = 'Changed 2'\n",
    "print('Values  :', values)\n",
    "print('New List:', newList)\n"
   ]
  },
  {
   "cell_type": "code",
   "execution_count": 65,
   "metadata": {},
   "outputs": [
    {
     "name": "stdout",
     "output_type": "stream",
     "text": [
      "Values  : [100, 200, 300, 400, 500, 600, 700, 800, 900]\n",
      "New List: [100, 200, 300, 400, 500, 600, 700, 800, 900]\n",
      "\n",
      "Change the first item in newList - ONLY newList CHANGED\n",
      "Values  : [100, 200, 300, 400, 500, 600, 700, 800, 900]\n",
      "New List: ['Changed', 200, 300, 400, 500, 600, 700, 800, 900]\n",
      "\n",
      "Change the last item in values - ONLY values CHANGED\n",
      "Values  : [100, 200, 300, 400, 500, 600, 700, 800, 'Changed 2']\n",
      "New List: ['Changed', 200, 300, 400, 500, 600, 700, 800, 900]\n"
     ]
    }
   ],
   "source": [
    "# Doing a correct copy of a list using [:]\n",
    "values = [100, 200, 300, 400, 500, 600, 700, 800, 900]\n",
    "newList = values[:]\n",
    "\n",
    "print('Values  :', values)\n",
    "print('New List:', newList)\n",
    "\n",
    "# Change the first item in the newList\n",
    "print('\\nChange the first item in newList - ONLY newList CHANGED')\n",
    "newList[0] = 'Changed'\n",
    "print('Values  :', values)\n",
    "print('New List:', newList)\n",
    "\n",
    "# Change the item in the values\n",
    "print('\\nChange the last item in values - ONLY values CHANGED')\n",
    "values[-1] = 'Changed 2'\n",
    "print('Values  :', values)\n",
    "print('New List:', newList)\n"
   ]
  },
  {
   "cell_type": "markdown",
   "metadata": {},
   "source": [
    "# Lesson Review\n",
    "\n",
    "Python lists are very useful in programming.  Please copy the coding examples above and try them out yourself. This lesson introduced you to more advanced and useful list functions and commands.\n",
    "\n",
    "[Website for reviewing Python Lists](https://www.tutorialspoint.com/python/python_lists.htm)"
   ]
  }
 ],
 "metadata": {
  "kernelspec": {
   "display_name": "Python 3",
   "language": "python",
   "name": "python3"
  },
  "language_info": {
   "codemirror_mode": {
    "name": "ipython",
    "version": 3
   },
   "file_extension": ".py",
   "mimetype": "text/x-python",
   "name": "python",
   "nbconvert_exporter": "python",
   "pygments_lexer": "ipython3",
   "version": "3.7.3"
  }
 },
 "nbformat": 4,
 "nbformat_minor": 2
}
