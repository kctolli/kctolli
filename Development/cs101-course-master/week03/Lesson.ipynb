{
 "cells": [
  {
   "cell_type": "markdown",
   "metadata": {},
   "source": [
    "![](../images/cs101.png)\n",
    "***\n",
    "\n",
    "# 03 - Lesson : Variables and Input\n"
   ]
  },
  {
   "cell_type": "markdown",
   "metadata": {},
   "source": [
    "# Coding Examples in This Lesson\n",
    "\n",
    "There are many small coding examples in this lesson.  I would strongly suggest that you type these examples in Thonny (or your Python IDE) to better understand the code."
   ]
  },
  {
   "cell_type": "markdown",
   "metadata": {},
   "source": [
    "# Objectives and Goals\n",
    "\n",
    "Students will:\n",
    "\n",
    "- be able to use strings, integers and floats.\n",
    "- be able to use the function input() to request information from an user.\n"
   ]
  },
  {
   "cell_type": "markdown",
   "metadata": {},
   "source": [
    "# Preparation\n",
    "\n",
    "None\n",
    "\n"
   ]
  },
  {
   "cell_type": "markdown",
   "metadata": {},
   "source": [
    "# Python Coding Style\n",
    "\n",
    "## Naming Conventions\n",
    "- There are various naming conventions used in Python and other programming languages. The two common ones we will see are lowercase_with_underscore and mixedCase (aka lowerCamelCase).\n",
    "- For consistency, we should stick to the mixedCase convention. Multi-word names should start with a lowercase letter, and each new word should start with a capital letter. You can never have a space within a name.\n",
    "- Except for for loop variables, do not use single letter variables.\n",
    "\n",
    "For example:\n",
    "```\n",
    "sumOfSquares\n",
    "printHappyBirthday\n",
    "totalApples\n",
    "```\n",
    "\n",
    "## Names to Avoid\n",
    "\n",
    "- Never use the characters l' (lowercase letter el),O' (uppercase letter oh), or `I' (uppercase letter eye) as single character variable names. In some fonts, these characters are indistinguishable from the numerals one and zero.\n",
    "- In general, try to avoid using single character names. There are some times when using x, y, z for axis names, or a, b, c for the sides of a triangle will make sense. For most other cases, create names that have meaning for their function.\n",
    "\n",
    "## Spaces around Operators\n",
    "\n",
    "Always surround these binary operators with a single space on either side: assignment (=), augmented assignment (+=, -= etc.), comparisons (==, <, >, !=, <>, <=, >=, in, not in, is, is not), Booleans (and, or, not).\n",
    "\n",
    "**Good Examples**:\n",
    "\n",
    "```Python\n",
    "x = 9\n",
    "apples = 5\n",
    "name = 'John'\n",
    "sum = value1 + value2\n",
    "```\n",
    "\n",
    "**Bad Examples** (Where you will lose points if you do this):\n",
    "\n",
    "```Python\n",
    "x=9\n",
    "apples =5\n",
    "name= 'John'\n",
    "sum = value1+value2\n",
    "```"
   ]
  },
  {
   "cell_type": "markdown",
   "metadata": {},
   "source": [
    "***\n",
    "# Lesson Details\n",
    "\n",
    "Variables are used to hold data in a program.  We will be covering three of the basic data types in this lesson.  All variables must be given a meaningful name.\n",
    "\n",
    "Creating and assigning variables is in the following format:\n",
    "\n",
    "```text\n",
    "    variable = value\n",
    "```\n",
    "\n",
    "Examples:\n",
    "\n",
    "```python\n",
    "age = 34\n",
    "address = '101 Main st., Rexburg Idaho, 83440'\n",
    "gpa = 3.76\n",
    "```\n"
   ]
  },
  {
   "cell_type": "markdown",
   "metadata": {},
   "source": [
    "# Strings Variables\n",
    "\n",
    "String are used to contain letters or text.  In your first program 'Hello World' is a string.\n",
    "\n",
    "### Single or double quotes\n",
    "\n",
    "Strings must start and end with the same type of quote.  Most Python programmers use single quotes for strings.\n",
    "\n",
    "```python\n",
    "name = 'John Brown'\n",
    "```\n",
    "\n",
    "You can also use double quotes.\n",
    "\n",
    "```python\n",
    "name = \"John Brown\"\n",
    "```\n",
    "\n",
    "The main issue is that the quotes must match.  If you need a quote in your text, use the other type of quote for the whole string.\n",
    "\n",
    "```python\n",
    "name = \"I'm John Brown\"\n",
    "text = 'This is a quote from John \"Hello World\"'\n",
    "```\n",
    "\n",
    "### String Operations\n",
    "\n",
    "#### + Operator or Concatenation\n",
    "\n",
    "Strings can be \"added\" together or concatenated.  Notice that no spaces are added between the strings."
   ]
  },
  {
   "cell_type": "code",
   "execution_count": 1,
   "metadata": {},
   "outputs": [
    {
     "name": "stdout",
     "output_type": "stream",
     "text": [
      "***abc123***\n"
     ]
    }
   ],
   "source": [
    "text1 = 'abc'\n",
    "text2 = '123'\n",
    "newText = '***' + text1 + text2 + '***'\n",
    "print(newText)"
   ]
  },
  {
   "cell_type": "markdown",
   "metadata": {},
   "source": [
    "#### [] Operator\n",
    "\n",
    "The square brackets are used to access letters or a sub-string in a string.  Remember that programmers start counting from zero."
   ]
  },
  {
   "cell_type": "code",
   "execution_count": 2,
   "metadata": {},
   "outputs": [
    {
     "name": "stdout",
     "output_type": "stream",
     "text": [
      "The first letter in John is J\n"
     ]
    }
   ],
   "source": [
    "name = 'John'\n",
    "print('The first letter in {} is {}'.format(name, name[0]))"
   ]
  },
  {
   "cell_type": "markdown",
   "metadata": {},
   "source": [
    "# Integers Variables\n",
    "\n",
    "An integer represents a whole number - both negative and positive.  They are used in programs when fractions are not needed.\n",
    "\n",
    "```python\n",
    "apples = 5\n",
    "temperature = -8\n",
    "studentsInClass = 40\n",
    "```"
   ]
  },
  {
   "cell_type": "markdown",
   "metadata": {},
   "source": [
    "### Displaying Integers\n",
    "\n",
    "Displaying integers is like displaying strings."
   ]
  },
  {
   "cell_type": "code",
   "execution_count": 3,
   "metadata": {},
   "outputs": [
    {
     "name": "stdout",
     "output_type": "stream",
     "text": [
      "34 23\n"
     ]
    }
   ],
   "source": [
    "# display two numbers\n",
    "print(34, 23)"
   ]
  },
  {
   "cell_type": "code",
   "execution_count": 4,
   "metadata": {},
   "outputs": [
    {
     "name": "stdout",
     "output_type": "stream",
     "text": [
      "57\n"
     ]
    }
   ],
   "source": [
    "# Display the sum of two numbers\n",
    "print(34 + 23)"
   ]
  },
  {
   "cell_type": "code",
   "execution_count": 5,
   "metadata": {},
   "outputs": [
    {
     "name": "stdout",
     "output_type": "stream",
     "text": [
      "123,456,789\n"
     ]
    }
   ],
   "source": [
    "# Display an integer with thousands' commas\n",
    "value = 123456789\n",
    "print('{:,}'.format(value))"
   ]
  },
  {
   "cell_type": "code",
   "execution_count": 6,
   "metadata": {},
   "outputs": [
    {
     "name": "stdout",
     "output_type": "stream",
     "text": [
      "     123456789      \n"
     ]
    }
   ],
   "source": [
    "# Display an integer centered within 20 spaces\n",
    "# This is like centering a string from last lesson.  \n",
    "# Notice the 'd' in the format section.  It tells Python to format the value as an integer.\n",
    "value = 123456789\n",
    "print('{:^20d}'.format(value))"
   ]
  },
  {
   "cell_type": "markdown",
   "metadata": {},
   "source": [
    "### Integer Math\n",
    "\n",
    "You can do math operations on integers.  The results are different than normal math you learned in school.  The results of adding, subtracting and multiplication of two integers is always an integer.  Division is different, see below in the lesson.\n",
    "\n",
    "**Adding, subtracting and multiplication**"
   ]
  },
  {
   "cell_type": "code",
   "execution_count": 7,
   "metadata": {},
   "outputs": [
    {
     "name": "stdout",
     "output_type": "stream",
     "text": [
      "The sum of 34 + 23 is: 57\n"
     ]
    }
   ],
   "source": [
    "# Addition\n",
    "print('The sum of 34 + 23 is:', 34 + 23)"
   ]
  },
  {
   "cell_type": "code",
   "execution_count": 8,
   "metadata": {},
   "outputs": [
    {
     "name": "stdout",
     "output_type": "stream",
     "text": [
      "The sum of 34 + 23 + 99 + 12 is: 168\n"
     ]
    }
   ],
   "source": [
    "# Addition\n",
    "print('The sum of 34 + 23 + 99 + 12 is:', 34 + 23 + 99 + 12)"
   ]
  },
  {
   "cell_type": "code",
   "execution_count": 9,
   "metadata": {},
   "outputs": [
    {
     "name": "stdout",
     "output_type": "stream",
     "text": [
      "The difference of 34 - 23 is: 11\n"
     ]
    }
   ],
   "source": [
    "# Subtraction\n",
    "print('The difference of 34 - 23 is:', 34 - 23)"
   ]
  },
  {
   "cell_type": "code",
   "execution_count": 10,
   "metadata": {},
   "outputs": [
    {
     "name": "stdout",
     "output_type": "stream",
     "text": [
      "The product of 34 * 23 is: 782\n"
     ]
    }
   ],
   "source": [
    "# Multiplication\n",
    "print('The product of 34 * 23 is:', 34 * 23)"
   ]
  },
  {
   "cell_type": "code",
   "execution_count": 11,
   "metadata": {},
   "outputs": [
    {
     "name": "stdout",
     "output_type": "stream",
     "text": [
      "The product of 99 + 2 * 4 / 3 is: 101.66666666666667\n"
     ]
    }
   ],
   "source": [
    "# +, - and *\n",
    "# Notice the order of operations.  * and / are evaluated before + and -\n",
    "print('The product of 99 + 2 * 4 / 3 is:', 99 + 2 * 4 / 3)"
   ]
  },
  {
   "cell_type": "code",
   "execution_count": 12,
   "metadata": {},
   "outputs": [
    {
     "name": "stdout",
     "output_type": "stream",
     "text": [
      "The product of ((99 + 2) * 4) / 3 is: 134.66666666666666\n"
     ]
    }
   ],
   "source": [
    "# +, - and * with parentheses\n",
    "print('The product of ((99 + 2) * 4) / 3 is:', ((99 + 2) * 4) / 3)"
   ]
  },
  {
   "cell_type": "markdown",
   "metadata": {},
   "source": [
    "### Integer Division\n",
    "\n",
    "There are two division operators that you can apply to integers.\n",
    "\n",
    "/ or Division Operator\n",
    "\n",
    "This operator results in a float as the answer."
   ]
  },
  {
   "cell_type": "code",
   "execution_count": 13,
   "metadata": {},
   "outputs": [
    {
     "name": "stdout",
     "output_type": "stream",
     "text": [
      "6.666666666666667\n"
     ]
    }
   ],
   "source": [
    "print(20 / 3)"
   ]
  },
  {
   "cell_type": "code",
   "execution_count": 14,
   "metadata": {},
   "outputs": [
    {
     "name": "stdout",
     "output_type": "stream",
     "text": [
      "The results of 34 / 23 is: 1.4782608695652173\n"
     ]
    }
   ],
   "source": [
    "# Division\n",
    "print('The results of 34 / 23 is:', 34 / 23)"
   ]
  },
  {
   "cell_type": "markdown",
   "metadata": {},
   "source": [
    "// or floor Operator\n",
    "\n",
    "This operator results in an integer as the answer where it represents the whole part of the division."
   ]
  },
  {
   "cell_type": "code",
   "execution_count": 15,
   "metadata": {},
   "outputs": [
    {
     "name": "stdout",
     "output_type": "stream",
     "text": [
      "6\n"
     ]
    }
   ],
   "source": [
    "# \"How many whole 3s are there in 20?\"\n",
    "print(20 // 3)"
   ]
  },
  {
   "cell_type": "code",
   "execution_count": 16,
   "metadata": {},
   "outputs": [
    {
     "name": "stdout",
     "output_type": "stream",
     "text": [
      "The results of 34 // 23 is: 1\n"
     ]
    }
   ],
   "source": [
    "# Division\n",
    "print('The results of 34 // 23 is:', 34 // 23)"
   ]
  },
  {
   "cell_type": "markdown",
   "metadata": {},
   "source": [
    "### Modulo Operator\n",
    "\n",
    "There are times when a programmer needs to know the remainder of a division as a whole number or integer.  This remainder operator is called the modulo operator.  It is the percent symbol %."
   ]
  },
  {
   "cell_type": "code",
   "execution_count": 17,
   "metadata": {},
   "outputs": [
    {
     "name": "stdout",
     "output_type": "stream",
     "text": [
      "hours = 2\n",
      "remaining minutes = 8\n"
     ]
    }
   ],
   "source": [
    "# total number of minutes\n",
    "minutes = 128\n",
    "\n",
    "# Number of hours in the above minutes\n",
    "hours = minutes // 60\n",
    "\n",
    "# number of remaining minutes\n",
    "remainingMinutes = minutes % 60\n",
    "\n",
    "print('hours =', hours)\n",
    "print('remaining minutes =', remainingMinutes)"
   ]
  },
  {
   "cell_type": "markdown",
   "metadata": {},
   "source": [
    "# Float  Variables\n",
    "\n",
    "A float or floating point number is used for holding numbers that have a decimals.  In math, is it also called a real number.\n",
    "\n",
    "```python\n",
    "exchangeRate = 1.07\n",
    "pi = 3.14159\n",
    "temperature = -10.3\n",
    "```\n"
   ]
  },
  {
   "cell_type": "markdown",
   "metadata": {},
   "source": [
    "### Float Math\n",
    "\n",
    "You can do math operations on floats. The operators +, -, * and / all result in a float for the answer."
   ]
  },
  {
   "cell_type": "code",
   "execution_count": 18,
   "metadata": {},
   "outputs": [
    {
     "name": "stdout",
     "output_type": "stream",
     "text": [
      "The results of 34.0 / 23.0 is: 1.4782608695652173\n"
     ]
    }
   ],
   "source": [
    "# Division\n",
    "print('The results of {} / {} is: {}'.format(34.0, 23.0, 34.0 / 23.0))"
   ]
  },
  {
   "cell_type": "code",
   "execution_count": 19,
   "metadata": {},
   "outputs": [
    {
     "name": "stdout",
     "output_type": "stream",
     "text": [
      "The results of 34.0 + 23.0 is: 57.0\n"
     ]
    }
   ],
   "source": [
    "# Addition\n",
    "print('The results of {} + {} is: {}'.format(34.0, 23.0, 34.0 + 23.0))"
   ]
  },
  {
   "cell_type": "code",
   "execution_count": 20,
   "metadata": {},
   "outputs": [
    {
     "name": "stdout",
     "output_type": "stream",
     "text": [
      "The results of 34.0 - 23.0 is: 11.0\n"
     ]
    }
   ],
   "source": [
    "# Subtraction\n",
    "print('The results of {} - {} is: {}'.format(34.0, 23.0, 34.0 - 23.0))"
   ]
  },
  {
   "cell_type": "code",
   "execution_count": 21,
   "metadata": {},
   "outputs": [
    {
     "name": "stdout",
     "output_type": "stream",
     "text": [
      "The results of 34.0 * 23.0 is: 782.0\n"
     ]
    }
   ],
   "source": [
    "# Multiple\n",
    "print('The results of {} * {} is: {}'.format(34.0, 23.0, 34.0 * 23.0))"
   ]
  },
  {
   "cell_type": "code",
   "execution_count": 22,
   "metadata": {},
   "outputs": [
    {
     "name": "stdout",
     "output_type": "stream",
     "text": [
      "The results of 34.0 / 23.0 is: 1.48\n"
     ]
    }
   ],
   "source": [
    "# Division - Display with 2 decimal points\n",
    "print('The results of {} / {} is: {:.2f}'.format(34.0, 23.0, 34.0 / 23.0))"
   ]
  },
  {
   "cell_type": "code",
   "execution_count": 23,
   "metadata": {},
   "outputs": [
    {
     "name": "stdout",
     "output_type": "stream",
     "text": [
      "The results of 34.0 / 23.0 is: 1.4783\n"
     ]
    }
   ],
   "source": [
    "# Division - Display with 4 decimal points\n",
    "print('The results of {} / {} is: {:.4f}'.format(34.0, 23.0, 34.0 / 23.0))"
   ]
  },
  {
   "cell_type": "markdown",
   "metadata": {},
   "source": [
    "## Changing the value of a variable\n",
    "\n",
    "Assigning a value to a variable is very easy to do.  You give the variable a name that represents what will be held by the variable and you use the equal character to assign it."
   ]
  },
  {
   "cell_type": "code",
   "execution_count": 24,
   "metadata": {},
   "outputs": [],
   "source": [
    "# Assign different variables\n",
    "name = 'John'\n",
    "studentsInCourse = 43"
   ]
  },
  {
   "cell_type": "markdown",
   "metadata": {},
   "source": [
    "You are free as a programmer to change any variables that you are using.  The following are examples of changing variables:"
   ]
  },
  {
   "cell_type": "code",
   "execution_count": 25,
   "metadata": {},
   "outputs": [
    {
     "name": "stdout",
     "output_type": "stream",
     "text": [
      "23\n",
      "new age value 1 = 24\n",
      "new age value 2 = 25\n"
     ]
    }
   ],
   "source": [
    "# Create variable age and then add one to it\n",
    "age = 23\n",
    "print(age)\n",
    "\n",
    "# Here, the variable age will be re-assigned to be \"age + 1\"\n",
    "# This format is used to add one to a variable\n",
    "age = age + 1\n",
    "print('new age value 1 =', age)\n",
    "\n",
    "# There is a short cut for adding to a variable\n",
    "# It is using the \"operator =\" format\n",
    "# There is \"-=\" to subtract, \"+=\" to add, \"*=\" to multiply and \"/=\" to divide\n",
    "age += 1\n",
    "print('new age value 2 =', age)"
   ]
  },
  {
   "cell_type": "code",
   "execution_count": 26,
   "metadata": {},
   "outputs": [
    {
     "name": "stdout",
     "output_type": "stream",
     "text": [
      "3.45\n",
      "new gpa = 3.75\n"
     ]
    }
   ],
   "source": [
    "# Adding to a float\n",
    "gpa = 3.45\n",
    "print(gpa)\n",
    "gpa = gpa + 0.3             # or gpa += 0.3\n",
    "print('new gpa =', gpa)"
   ]
  },
  {
   "cell_type": "code",
   "execution_count": 27,
   "metadata": {},
   "outputs": [
    {
     "name": "stdout",
     "output_type": "stream",
     "text": [
      "123\n",
      "new number = 615\n"
     ]
    }
   ],
   "source": [
    "# Multiplying a variable\n",
    "number = 123\n",
    "print(number)\n",
    "number = number * 5             # or number *= 5\n",
    "print('new number =', number)"
   ]
  },
  {
   "cell_type": "code",
   "execution_count": 28,
   "metadata": {},
   "outputs": [
    {
     "name": "stdout",
     "output_type": "stream",
     "text": [
      "123345.234\n",
      "new number = 269.9788429969138\n"
     ]
    }
   ],
   "source": [
    "# Dividing a variable\n",
    "number = 123345.234\n",
    "print(number)\n",
    "number = number / 456.87           # or number /= 456.87\n",
    "print('new number =', number)"
   ]
  },
  {
   "cell_type": "code",
   "execution_count": 29,
   "metadata": {},
   "outputs": [
    {
     "name": "stdout",
     "output_type": "stream",
     "text": [
      "total = 1110\n"
     ]
    }
   ],
   "source": [
    "# Adding values to total them\n",
    "number1 = 10\n",
    "number2 = 100\n",
    "number3 = 1000\n",
    "total = (number1 + number2 + number3)\n",
    "print('total =', total)\n"
   ]
  },
  {
   "cell_type": "markdown",
   "metadata": {},
   "source": [
    "# Boolean  Variables\n",
    "\n",
    "The last data type for this lesson is called a bool or boolean.  Bools are either `False` or `True`.  Notice that `False` and `True` are capitalized.\n",
    "\n",
    "```python\n",
    "sunnyOutSize = True\n",
    "oldEnoughToVote = False\n",
    "isLightOn = True\n",
    "```\n"
   ]
  },
  {
   "cell_type": "code",
   "execution_count": 4,
   "metadata": {},
   "outputs": [
    {
     "name": "stdout",
     "output_type": "stream",
     "text": [
      "Are you happy: True\n",
      "Do you knowit: False\n"
     ]
    }
   ],
   "source": [
    "# Using and printing booleans\n",
    "happy = True\n",
    "knowit = False\n",
    "print('Are you happy:', happy)\n",
    "print('Do you knowit:', knowit)"
   ]
  },
  {
   "cell_type": "markdown",
   "metadata": {},
   "source": [
    "***\n",
    "# Requesting information\n",
    "\n",
    "The next section of the lesson covers the functions input().  input() is used to prompt the user for information.\n",
    "\n",
    "## input() function\n",
    "\n",
    "The input() function:\n",
    "1. reads a line from input when the Enter key is pressed.\n",
    "1. converts into a string.\n",
    "1. and returns it.\n",
    "\n",
    "The syntax of input() method is where prompt is a text string:\n",
    "```python\n",
    "variable = input([prompt])\n",
    "\n",
    "name = input('Enter your name: ')\n",
    "```"
   ]
  },
  {
   "cell_type": "code",
   "execution_count": 30,
   "metadata": {},
   "outputs": [
    {
     "name": "stdout",
     "output_type": "stream",
     "text": [
      "Enter your favorite color: Blue\n",
      "The color you entered was Blue\n"
     ]
    }
   ],
   "source": [
    "# Example of asking the user for a color using a variable\n",
    "color = input('Enter your favorite color: ')\n",
    "print('The color you entered was {}'.format(color))"
   ]
  },
  {
   "cell_type": "code",
   "execution_count": 31,
   "metadata": {},
   "outputs": [
    {
     "name": "stdout",
     "output_type": "stream",
     "text": [
      "Enter your favorite color:Blue\n",
      "The color you entered was Blue\n"
     ]
    }
   ],
   "source": [
    "# Example of asking the user for a color where the answer goes directly\n",
    "# into the format() function.\n",
    "print('The color you entered was {}'.format(input('Enter your favorite color:')))"
   ]
  },
  {
   "cell_type": "markdown",
   "metadata": {},
   "source": [
    "## Input Data Types\n",
    "\n",
    "The function input() will return a **string** for anything prompted to the user.  This means that when you prompt the user for a number, that number will be returned as a string.  The type() function tells the programmer what data type a variable is."
   ]
  },
  {
   "cell_type": "code",
   "execution_count": 32,
   "metadata": {},
   "outputs": [
    {
     "name": "stdout",
     "output_type": "stream",
     "text": [
      "Enter a number:34\n",
      "value is 34\n",
      "The data type of value is <class 'str'>\n",
      "The data type of 34 is <class 'int'>\n"
     ]
    }
   ],
   "source": [
    "# Prompt user for a number and display it's type\n",
    "value = input('Enter a number:')\n",
    "print('value is', value)\n",
    "print('The data type of value is', type(value))\n",
    "print('The data type of 34 is', type(34))"
   ]
  },
  {
   "cell_type": "markdown",
   "metadata": {},
   "source": [
    "The **\"<class 'str'>\"** tells the programmer that the variable \"value\" is a string not an integer. **\"<class 'int'>\"** indicates that a variable is an integer.  **\"<class 'float'>\"** is for floats."
   ]
  },
  {
   "cell_type": "markdown",
   "metadata": {},
   "source": [
    "You can convert an integer and float to a string using the **str()** function.  Here are some coding examples:"
   ]
  },
  {
   "cell_type": "code",
   "execution_count": 33,
   "metadata": {},
   "outputs": [
    {
     "name": "stdout",
     "output_type": "stream",
     "text": [
      "34 34\n",
      "3.45 3.45\n",
      "age is        : <class 'int'>\n",
      "ageAsString is: <class 'str'>\n",
      "gpa is        : <class 'float'>\n",
      "gpaAsString is: <class 'str'>\n"
     ]
    }
   ],
   "source": [
    "# Convert integer to string\n",
    "age = 34\n",
    "ageAsString = str(age)\n",
    "print(age, ageAsString)\n",
    "\n",
    "# Convert float to string\n",
    "gpa = 3.45\n",
    "gpaAsString = str(gpa)\n",
    "print(gpa, gpaAsString)\n",
    "\n",
    "print('age is        :', type(age))\n",
    "print('ageAsString is:', type(ageAsString))\n",
    "print('gpa is        :', type(gpa))\n",
    "print('gpaAsString is:', type(gpaAsString))\n"
   ]
  },
  {
   "cell_type": "markdown",
   "metadata": {},
   "source": [
    "**Integers**\n",
    "\n",
    "In order to have a variable that is an integer when prompting information from the user, you must use the function **int()**.  It will convert a string representation of a number to a number.  In most cases, the function int() is used \"around\" the input function.  See the coding example below."
   ]
  },
  {
   "cell_type": "code",
   "execution_count": 34,
   "metadata": {},
   "outputs": [
    {
     "name": "stdout",
     "output_type": "stream",
     "text": [
      "Enter a number:23\n",
      "value is 23\n",
      "The data type of value is <class 'int'>\n"
     ]
    }
   ],
   "source": [
    "# Prompt user for a number and display it's type\n",
    "value = int(input('Enter a number:'))\n",
    "print('value is', value)\n",
    "print('The data type of value is', type(value))"
   ]
  },
  {
   "cell_type": "markdown",
   "metadata": {},
   "source": [
    "**floats**\n",
    "\n",
    "If you want to prompt the user for a float, you can use the function **float()** to convert the string to a float."
   ]
  },
  {
   "cell_type": "code",
   "execution_count": 35,
   "metadata": {},
   "outputs": [
    {
     "name": "stdout",
     "output_type": "stream",
     "text": [
      "Enter a number:34\n",
      "value is 34.0\n",
      "The data type of value is <class 'float'>\n"
     ]
    }
   ],
   "source": [
    "# Prompt user for a number and display it's type\n",
    "value = float(input('Enter a number:'))\n",
    "print('value is', value)\n",
    "print('The data type of value is', type(value))"
   ]
  },
  {
   "cell_type": "markdown",
   "metadata": {},
   "source": [
    "## Builtin String and Math functions"
   ]
  },
  {
   "cell_type": "markdown",
   "metadata": {},
   "source": [
    "### len() function\n",
    "\n",
    "This is a very useful function that returns the length of a string.  Later in the course, we will be using this function with lists."
   ]
  },
  {
   "cell_type": "code",
   "execution_count": 36,
   "metadata": {},
   "outputs": [
    {
     "name": "stdout",
     "output_type": "stream",
     "text": [
      "10\n"
     ]
    }
   ],
   "source": [
    "name = 'John Smith'\n",
    "print(len(name))"
   ]
  },
  {
   "cell_type": "markdown",
   "metadata": {},
   "source": [
    "### abs() function\n",
    "\n",
    "This function converts a number to the positive version of itself."
   ]
  },
  {
   "cell_type": "code",
   "execution_count": 37,
   "metadata": {},
   "outputs": [
    {
     "name": "stdout",
     "output_type": "stream",
     "text": [
      "-123.456\n",
      "123.456\n"
     ]
    }
   ],
   "source": [
    "value = -123.456\n",
    "print(value)\n",
    "print(abs(value))"
   ]
  },
  {
   "cell_type": "markdown",
   "metadata": {},
   "source": [
    "### max() function\n",
    "\n",
    "This function returns the largest value from a group of values"
   ]
  },
  {
   "cell_type": "code",
   "execution_count": 38,
   "metadata": {},
   "outputs": [
    {
     "name": "stdout",
     "output_type": "stream",
     "text": [
      "45\n"
     ]
    }
   ],
   "source": [
    "print(max(12, 23, 34, 45, 9))"
   ]
  },
  {
   "cell_type": "code",
   "execution_count": 39,
   "metadata": {},
   "outputs": [
    {
     "name": "stdout",
     "output_type": "stream",
     "text": [
      "23\n"
     ]
    }
   ],
   "source": [
    "print(max(12, 23))"
   ]
  },
  {
   "cell_type": "markdown",
   "metadata": {},
   "source": [
    "### min() function\n",
    "\n",
    "This function returns the smallest value from a group of values"
   ]
  },
  {
   "cell_type": "code",
   "execution_count": 40,
   "metadata": {},
   "outputs": [
    {
     "name": "stdout",
     "output_type": "stream",
     "text": [
      "9\n"
     ]
    }
   ],
   "source": [
    "print(min(12, 23, 34, 45, 9))"
   ]
  },
  {
   "cell_type": "code",
   "execution_count": 41,
   "metadata": {},
   "outputs": [
    {
     "name": "stdout",
     "output_type": "stream",
     "text": [
      "12\n"
     ]
    }
   ],
   "source": [
    "print(min(12, 23))"
   ]
  },
  {
   "cell_type": "markdown",
   "metadata": {},
   "source": [
    "### pow() function\n",
    "\n",
    "This function is the power function.  It allows you to calculate the results of raising a value to a power.  The same feature of raising a value to a power can be done using two '*' characters."
   ]
  },
  {
   "cell_type": "code",
   "execution_count": 42,
   "metadata": {},
   "outputs": [
    {
     "name": "stdout",
     "output_type": "stream",
     "text": [
      "pow(34, 4) = 1336336\n",
      "34 ** 4    = 1336336\n"
     ]
    }
   ],
   "source": [
    "# Display 34 to the 4th power\n",
    "print('pow(34, 4) =', pow(34, 4))\n",
    "print('34 ** 4    =', 34 ** 4)\n"
   ]
  },
  {
   "cell_type": "markdown",
   "metadata": {},
   "source": [
    "### sum() function\n",
    "\n",
    "This function till sum or total a group of values.  **Note** that the group of numbers must be surrounded by **()** or **[]** in order for the sum() function to work."
   ]
  },
  {
   "cell_type": "code",
   "execution_count": 43,
   "metadata": {},
   "outputs": [
    {
     "name": "stdout",
     "output_type": "stream",
     "text": [
      "55\n",
      "55\n"
     ]
    }
   ],
   "source": [
    "print(sum((1, 2, 3, 4, 5, 6, 7, 8, 9, 10)))\n",
    "print(sum([1, 2, 3, 4, 5, 6, 7, 8, 9, 10]))"
   ]
  },
  {
   "cell_type": "markdown",
   "metadata": {},
   "source": [
    "### round() function\n",
    "\n",
    "This function is helpful when you need to round float numbers.  The function takes two arugments or values, 1) the number to round and 2) the number of decimal points to round to."
   ]
  },
  {
   "cell_type": "code",
   "execution_count": 44,
   "metadata": {},
   "outputs": [
    {
     "name": "stdout",
     "output_type": "stream",
     "text": [
      "Round to 0: 123.0\n",
      "Round to 1: 123.5\n",
      "Round to 2: 123.46\n",
      "Round to 3: 123.457\n"
     ]
    }
   ],
   "source": [
    "value = 123.4567890\n",
    "print('Round to 0:', round(value, 0))\n",
    "print('Round to 1:', round(value, 1))\n",
    "print('Round to 2:', round(value, 2))\n",
    "print('Round to 3:', round(value, 3))"
   ]
  },
  {
   "cell_type": "markdown",
   "metadata": {},
   "source": [
    "# Lesson Review\n",
    "\n",
    "There are three main variable types in Python: integer, float, bool and string.  The function input() is the main method that Python programmers how to get information directly from the user.  Remember that the results from the input() function is always a string.  You can use **int()** and **float()** to convert those results."
   ]
  }
 ],
 "metadata": {
  "kernelspec": {
   "display_name": "Python 3",
   "language": "python",
   "name": "python3"
  },
  "language_info": {
   "codemirror_mode": {
    "name": "ipython",
    "version": 3
   },
   "file_extension": ".py",
   "mimetype": "text/x-python",
   "name": "python",
   "nbconvert_exporter": "python",
   "pygments_lexer": "ipython3",
   "version": "3.7.3"
  }
 },
 "nbformat": 4,
 "nbformat_minor": 2
}
