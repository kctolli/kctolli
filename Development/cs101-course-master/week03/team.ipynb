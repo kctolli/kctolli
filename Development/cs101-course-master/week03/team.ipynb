{
 "cells": [
  {
   "cell_type": "markdown",
   "metadata": {},
   "source": [
    "![](../images/cs101.png)\n",
    "***\n",
    "\n",
    "# 03 - Team Activity\n"
   ]
  },
  {
   "cell_type": "markdown",
   "metadata": {},
   "source": [
    "# Objectives and Goals\n",
    "\n",
    "- Learn to use the print() statement.\n"
   ]
  },
  {
   "cell_type": "markdown",
   "metadata": {},
   "source": [
    "# Preparation\n",
    "\n",
    "For this lesson, please review and read:\n",
    "\n",
    "- Lesson notes for this week.\n"
   ]
  },
  {
   "cell_type": "markdown",
   "metadata": {},
   "source": [
    "# Activity Details\n"
   ]
  },
  {
   "cell_type": "markdown",
   "metadata": {},
   "source": [
    "## Get the Project code\n",
    "\n",
    "1. Open Thonny and create a new Python called teamXX.py. (Where XX is the team activity number). Keep Thonny open.\n",
    "1. Click on [this link to open the Python file](team.py) file.\n",
    "1. Press Control-A or Command-A to select all of the code.\n",
    "1. Select Thonny and press Control-v or Command-v to paste the Python code to Thonny.\n",
    "1. In Thonny, save your Python file with the code that you pasted.  You can save your project file anywhere on your computer."
   ]
  },
  {
   "cell_type": "markdown",
   "metadata": {},
   "source": [
    "## Complete the Team Activity\n",
    "\n",
    "- Look for the \"TODO\" comments in the Python file and complete the required code"
   ]
  },
  {
   "cell_type": "markdown",
   "metadata": {},
   "source": [
    "# Submitting\n",
    "\n",
    "There is nothing to submit for this team activity.  However, there is a quiz that is required to be filled out for each team activity."
   ]
  }
 ],
 "metadata": {
  "kernelspec": {
   "display_name": "Python 3",
   "language": "python",
   "name": "python3"
  },
  "language_info": {
   "codemirror_mode": {
    "name": "ipython",
    "version": 3
   },
   "file_extension": ".py",
   "mimetype": "text/x-python",
   "name": "python",
   "nbconvert_exporter": "python",
   "pygments_lexer": "ipython3",
   "version": "3.7.3"
  }
 },
 "nbformat": 4,
 "nbformat_minor": 2
}
