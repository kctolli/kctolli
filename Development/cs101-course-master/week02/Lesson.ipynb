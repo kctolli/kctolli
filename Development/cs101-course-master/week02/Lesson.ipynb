{
 "cells": [
  {
   "cell_type": "markdown",
   "metadata": {},
   "source": [
    "![](../images/cs101.png)\n",
    "***\n",
    "\n",
    "# 02 - Lesson : The print() statement\n"
   ]
  },
  {
   "cell_type": "markdown",
   "metadata": {},
   "source": [
    "# Coding Examples in This Lesson\n",
    "\n",
    "There are many small coding examples in this lesson.  I would **strongly suggest** that you type these examples in Thonny (or your Python IDE) to better understand the code."
   ]
  },
  {
   "cell_type": "markdown",
   "metadata": {},
   "source": [
    "# Objectives and Goals\n",
    "\n",
    "Students will:\n",
    "\n",
    "- be able to use the print() statement to display information to the screen.\n"
   ]
  },
  {
   "cell_type": "markdown",
   "metadata": {},
   "source": [
    "# Preparation\n",
    "\n",
    "For this lesson, please review and read:\n",
    "\n",
    "- [Python.org Print Documention](https://docs.python.org/3/tutorial/inputoutput.html)\n",
    "- Optional: [Python Built in Functions](https://docs.python.org/3/library/functions.html)"
   ]
  },
  {
   "cell_type": "markdown",
   "metadata": {},
   "source": [
    "# Python Coding Style\n",
    "\n",
    "We will expect that your Python code will follow these coding styles for this course.\n",
    "\n",
    "## Consistency\n",
    "- Code is read much more often than it is written. The guidelines provided here are intended to improve the readability of code and make it consistent across the wide spectrum of Python code. Ie. \"Readability counts\".\n",
    "- A style guide is about consistency. Consistency with this style guide is important. Consistency within a project is more important. Consistency within one module or function is most important.\n",
    "- But most importantly: know when to be inconsistent -- sometimes the style guide just doesn't apply. When in doubt, use your best judgment. Look at other examples and decide what looks best. And don't hesitate to ask!\n",
    "\n",
    "## Tabs or Spaces?\n",
    "- Use 4 spaces per indentation level.\n",
    "- Never mix tabs and spaces. The most popular way of indenting Python is with spaces only. By default, IDLE will convert new tabs to spaces.\n",
    "\n",
    "## Maximum Line Length\n",
    "- Limit all lines to a maximum of 79 characters.\n",
    "- There are still many devices around that are limited to 80 character lines; plus, limiting windows to 80 characters makes it possible to have several windows side-by-side. The default wrapping on such devices disrupts the visual structure of the code, making it more difficult to understand. Therefore, please limit all lines to a maximum of 79 characters.\n",
    "- The preferred way of wrapping long lines is by using Python's implied line continuation inside parentheses, brackets and braces. If necessary, you can add an extra pair of parentheses around an expression, but sometimes using a backslash looks better.\n",
    "\n",
    "## Blank Lines\n",
    "- Separate top-level function and class definitions with two blank lines.\n",
    "Method definitions inside a class are separated by a single blank line.\n",
    "- Extra blank lines may be used (sparingly) to separate groups of related functions. Blank lines may be omitted between a bunch of related one-liners (e.g. a set of dummy implementations).\n",
    "- Use blank lines in functions, sparingly, to indicate logical sections.\n",
    "\n",
    "## Using print()\n",
    "- Never have a space between the word \"print\" and the parentheses. The format must be `print(something)` and not `print (something)`.\n",
    "- Limit one print() statement to one line of code."
   ]
  },
  {
   "cell_type": "markdown",
   "metadata": {},
   "source": [
    "***\n",
    "# Lesson Details\n",
    "\n",
    "This lesson outlines the print() statement that is built into Python.  Please note that this will use version 3 of Python.  Version 2 of Python has a different print() statment."
   ]
  },
  {
   "cell_type": "markdown",
   "metadata": {},
   "source": [
    "## Coding Comments\n",
    "\n",
    "While writing and completing your code, it is sometimes necessary to add non-coding comments.  Comments help programmers remember important information about their programs.  In Python, the simplest method of adding a comment is to use the `#` character.  All text after the `#` character is the comment."
   ]
  },
  {
   "cell_type": "code",
   "execution_count": 3,
   "metadata": {},
   "outputs": [],
   "source": [
    "# This is a comment"
   ]
  },
  {
   "cell_type": "markdown",
   "metadata": {},
   "source": [
    "In the following code sample, the comment is added after the print() statement."
   ]
  },
  {
   "cell_type": "code",
   "execution_count": 7,
   "metadata": {},
   "outputs": [
    {
     "name": "stdout",
     "output_type": "stream",
     "text": [
      "Hello World\n"
     ]
    }
   ],
   "source": [
    "print('Hello World')   # This is a comment (ie., not a Python command)"
   ]
  },
  {
   "cell_type": "markdown",
   "metadata": {},
   "source": [
    "### Multiple line comments\n",
    "\n",
    "In the above method to comment, those comments were just on one line. There is a method of have comment expand over multiple lines.  For multiple line comments, those comments must start and end with three `\"\"\"` characters."
   ]
  },
  {
   "cell_type": "code",
   "execution_count": 9,
   "metadata": {},
   "outputs": [
    {
     "name": "stdout",
     "output_type": "stream",
     "text": [
      "Hi\n"
     ]
    }
   ],
   "source": [
    "\"\"\"\n",
    "This is an example of\n",
    "a multiple line\n",
    "comment.\n",
    "\"\"\"\n",
    "print('Hi')"
   ]
  },
  {
   "cell_type": "markdown",
   "metadata": {},
   "source": [
    "## print() statement\n",
    "\n",
    "One of the most used statements or functions in any computer language is the print() or output statement.  Python uses the function print() to display information to the screen.  Whatever is placed between the parentheses, is displayed by Python."
   ]
  },
  {
   "cell_type": "code",
   "execution_count": 2,
   "metadata": {},
   "outputs": [
    {
     "name": "stdout",
     "output_type": "stream",
     "text": [
      "hi\n"
     ]
    }
   ],
   "source": [
    "# display the text 'hi' to the screen\n",
    "print('hi')"
   ]
  },
  {
   "cell_type": "code",
   "execution_count": 2,
   "metadata": {},
   "outputs": [
    {
     "name": "stdout",
     "output_type": "stream",
     "text": [
      "34\n"
     ]
    }
   ],
   "source": [
    "# display the number 34 to the screen\n",
    "print(34)"
   ]
  },
  {
   "cell_type": "markdown",
   "metadata": {},
   "source": [
    "## Python Strings\n",
    "\n",
    "In the example above, 'hi' is called a string.  Strings in Python must start and end with either a single quote or a double quote.\n",
    "\n",
    "```python\n",
    "Good Examples:\n",
    "    \n",
    "   'hi'\n",
    "   \"My name is John\"\n",
    "    \n",
    "Bad Examples:\n",
    "    \n",
    "    'hi\"\n",
    "    \"\"My name is John\n",
    "    \n",
    "```"
   ]
  },
  {
   "cell_type": "markdown",
   "metadata": {},
   "source": [
    "## Displaying multiple strings\n",
    "\n",
    "You can display multiple strings using one print() statement"
   ]
  },
  {
   "cell_type": "code",
   "execution_count": 3,
   "metadata": {},
   "outputs": [
    {
     "name": "stdout",
     "output_type": "stream",
     "text": [
      "Hi, my name is John\n"
     ]
    }
   ],
   "source": [
    "print('Hi, my name is', 'John')"
   ]
  },
  {
   "cell_type": "markdown",
   "metadata": {},
   "source": [
    "In the above example, notice that a space was added between the words is and John.  By default, when you display multiple strings in Python, the print() statement will add a space."
   ]
  },
  {
   "cell_type": "code",
   "execution_count": 4,
   "metadata": {},
   "outputs": [
    {
     "name": "stdout",
     "output_type": "stream",
     "text": [
      "abcde\n",
      "a b c d e\n",
      "a b c d e\n"
     ]
    }
   ],
   "source": [
    "print('abcde')\n",
    "\n",
    "# Display one string with spaces\n",
    "print('a b c d e')\n",
    "\n",
    "# Display many strings and let Python add the spaces\n",
    "print('a', 'b', 'c', 'd', 'e')\n"
   ]
  },
  {
   "cell_type": "markdown",
   "metadata": {},
   "source": [
    "## Changing the default separator between strings\n",
    "\n",
    "We see from the above section that Python will add a space between strings by default.  However, there is a method to change this default space character. The print() statement has an option called '**sep**' that allows you to change that default separator character.  It's placed at the end of the print() statement."
   ]
  },
  {
   "cell_type": "code",
   "execution_count": 5,
   "metadata": {},
   "outputs": [
    {
     "name": "stdout",
     "output_type": "stream",
     "text": [
      "a,b,c,d,e\n",
      "a-b-c-d-e\n",
      "a   b   c   d   e\n",
      "a-=-b-=-c-=-d-=-e\n"
     ]
    }
   ],
   "source": [
    "# comma separator\n",
    "print('a', 'b', 'c', 'd', 'e', sep=',')\n",
    "\n",
    "# - separator\n",
    "print('a', 'b', 'c', 'd', 'e', sep='-')\n",
    "\n",
    "# multiple spaces separator\n",
    "print('a', 'b', 'c', 'd', 'e', sep='   ')\n",
    "\n",
    "# multiple characters separator\n",
    "print('a', 'b', 'c', 'd', 'e', sep='-=-')\n"
   ]
  },
  {
   "cell_type": "markdown",
   "metadata": {},
   "source": [
    "## Display single and double quotes\n",
    "\n",
    "There are times when you need to display a single or double quote on the screen using the print statement.  Print statements can use either single quotes or double quotes when displaying text to the screen.  In order to display a single quote, use double quotes for the text.  For displaying double quotes, use single quotes for the text."
   ]
  },
  {
   "cell_type": "code",
   "execution_count": 6,
   "metadata": {},
   "outputs": [
    {
     "name": "stdout",
     "output_type": "stream",
     "text": [
      "This ' is a single quote\n"
     ]
    }
   ],
   "source": [
    "# Display a single quote.\n",
    "# Notice that the text of the print statement is using double quotes.\n",
    "print(\"This ' is a single quote\")"
   ]
  },
  {
   "cell_type": "code",
   "execution_count": 7,
   "metadata": {},
   "outputs": [
    {
     "name": "stdout",
     "output_type": "stream",
     "text": [
      "This \" is a double quote\n"
     ]
    }
   ],
   "source": [
    "# Display a double quote.\n",
    "# Notice that the text of the print statement is using single quotes.\n",
    "print('This \" is a double quote')"
   ]
  },
  {
   "cell_type": "code",
   "execution_count": 8,
   "metadata": {},
   "outputs": [
    {
     "name": "stdout",
     "output_type": "stream",
     "text": [
      "She's 10 years old and she said \"My name is Jane\"\n"
     ]
    }
   ],
   "source": [
    "# Display single and double quotes\n",
    "print(\"She's 10 years old and she said\", '\"My name is Jane\"')"
   ]
  },
  {
   "cell_type": "code",
   "execution_count": 9,
   "metadata": {},
   "outputs": [
    {
     "ename": "SyntaxError",
     "evalue": "EOL while scanning string literal (<ipython-input-9-3c8dac6c400f>, line 3)",
     "output_type": "error",
     "traceback": [
      "\u001b[1;36m  File \u001b[1;32m\"<ipython-input-9-3c8dac6c400f>\"\u001b[1;36m, line \u001b[1;32m3\u001b[0m\n\u001b[1;33m    print(\"Hello World')\u001b[0m\n\u001b[1;37m                        ^\u001b[0m\n\u001b[1;31mSyntaxError\u001b[0m\u001b[1;31m:\u001b[0m EOL while scanning string literal\n"
     ]
    }
   ],
   "source": [
    "# print statement using un-matched quotes - Python stops because of this error\n",
    "# EOL stands for End of Line\n",
    "print(\"Hello World')"
   ]
  },
  {
   "cell_type": "markdown",
   "metadata": {},
   "source": [
    "## Display multiple lines\n",
    "\n",
    "Let's say that you have the following code."
   ]
  },
  {
   "cell_type": "code",
   "execution_count": 10,
   "metadata": {},
   "outputs": [
    {
     "name": "stdout",
     "output_type": "stream",
     "text": [
      "John\n",
      "Brown\n"
     ]
    }
   ],
   "source": [
    "print('John')\n",
    "print('Brown')"
   ]
  },
  {
   "cell_type": "markdown",
   "metadata": {},
   "source": [
    "Notice that each print() statement displays the text on a separate line.  If you want to change this default behavior, you can use the 'end=' option."
   ]
  },
  {
   "cell_type": "code",
   "execution_count": 11,
   "metadata": {},
   "outputs": [
    {
     "name": "stdout",
     "output_type": "stream",
     "text": [
      "John Brown\n"
     ]
    }
   ],
   "source": [
    "# the end=' ' changes the default end of the statement to use a space character\n",
    "print('John', end=' ')\n",
    "print('Brown')"
   ]
  },
  {
   "cell_type": "code",
   "execution_count": 12,
   "metadata": {},
   "outputs": [
    {
     "name": "stdout",
     "output_type": "stream",
     "text": [
      "John|Brown\n"
     ]
    }
   ],
   "source": [
    "# End the first line with a '|' character\n",
    "print('John', end='|')\n",
    "print('Brown')"
   ]
  },
  {
   "cell_type": "code",
   "execution_count": 13,
   "metadata": {},
   "outputs": [
    {
     "name": "stdout",
     "output_type": "stream",
     "text": [
      "JohnBrown\n"
     ]
    }
   ],
   "source": [
    "# End the first line with no character\n",
    "print('John', end='')\n",
    "print('Brown')"
   ]
  },
  {
   "cell_type": "markdown",
   "metadata": {},
   "source": [
    "## Using the format() function\n",
    "\n",
    "In many cases, you as the programmer will need more control on how output is displayed to the user.  There is a **format()** function that helps with this need for control."
   ]
  },
  {
   "cell_type": "code",
   "execution_count": 14,
   "metadata": {},
   "outputs": [
    {
     "name": "stdout",
     "output_type": "stream",
     "text": [
      "My name is John\n"
     ]
    }
   ],
   "source": [
    "print('My name is {}'.format('John'))"
   ]
  },
  {
   "cell_type": "markdown",
   "metadata": {},
   "source": [
    "In the example above, the {} is called a place holder for the string 'John'.  You can have multiple place holders.  Notice that the number of place holders and strings in the format() function must match"
   ]
  },
  {
   "cell_type": "code",
   "execution_count": 15,
   "metadata": {},
   "outputs": [
    {
     "name": "stdout",
     "output_type": "stream",
     "text": [
      "My name is John and I'm 12 years old\n"
     ]
    }
   ],
   "source": [
    "print(\"My name is {} and I'm {} years old\".format('John', '12'))"
   ]
  },
  {
   "cell_type": "markdown",
   "metadata": {},
   "source": [
    "There is an option to add numbers in the place holders that match the order of strings in the format() function.  You must include any needed spacing around place holders."
   ]
  },
  {
   "cell_type": "code",
   "execution_count": 16,
   "metadata": {},
   "outputs": [
    {
     "name": "stdout",
     "output_type": "stream",
     "text": [
      "My name is John and I'm 12 years old\n"
     ]
    }
   ],
   "source": [
    "# {0} matches 'John', {1}  matches '12'\n",
    "print(\"My name is {0} and I'm {1} years old\".format('John', '12'))"
   ]
  },
  {
   "cell_type": "markdown",
   "metadata": {},
   "source": [
    "### Before we continue, we need to learn how programmers count\n",
    "\n",
    "In most computer languages that exist or will exist, programmers count starting at **zero** not one.  In the above example, 'John' is the first item in the format() function and it's location is position zero.  As programmers, we realize that in other sciences such as math, engineering and physics, that they start counting at one.\n",
    "\n",
    "This is something you just need to accept - coders start counting at zero. [Zero Based numbering](https://en.wikipedia.org/wiki/Zero-based_numbering)"
   ]
  },
  {
   "cell_type": "code",
   "execution_count": 17,
   "metadata": {},
   "outputs": [
    {
     "name": "stdout",
     "output_type": "stream",
     "text": [
      "My name is 12 and I'm John years old\n"
     ]
    }
   ],
   "source": [
    "# {0} matches 'John', {1} matches '12'\n",
    "# We can change the order\n",
    "print(\"My name is {1} and I'm {0} years old\".format('John', '12'))"
   ]
  },
  {
   "cell_type": "markdown",
   "metadata": {},
   "source": [
    "### Python Error\n",
    "\n",
    "The following code has an error that will cause Python to stop.  Notice that the `print` statement uses `{1}` and `{2}` when they should be `{0}` and `{1}`.  This type of error is called an **out of range** error."
   ]
  },
  {
   "cell_type": "code",
   "execution_count": 18,
   "metadata": {},
   "outputs": [
    {
     "ename": "IndexError",
     "evalue": "tuple index out of range",
     "output_type": "error",
     "traceback": [
      "\u001b[1;31m---------------------------------------------------------------------------\u001b[0m",
      "\u001b[1;31mIndexError\u001b[0m                                Traceback (most recent call last)",
      "\u001b[1;32m<ipython-input-18-c612edf664af>\u001b[0m in \u001b[0;36m<module>\u001b[1;34m\u001b[0m\n\u001b[0;32m      1\u001b[0m \u001b[1;31m# This is an error because the place holders are starting at one.  There is no {2} place holder\u001b[0m\u001b[1;33m\u001b[0m\u001b[1;33m\u001b[0m\u001b[1;33m\u001b[0m\u001b[0m\n\u001b[1;32m----> 2\u001b[1;33m \u001b[0mprint\u001b[0m\u001b[1;33m(\u001b[0m\u001b[1;34m\"My name is {1} and I'm {2} years old\"\u001b[0m\u001b[1;33m.\u001b[0m\u001b[0mformat\u001b[0m\u001b[1;33m(\u001b[0m\u001b[1;34m'John'\u001b[0m\u001b[1;33m,\u001b[0m \u001b[1;34m'12'\u001b[0m\u001b[1;33m)\u001b[0m\u001b[1;33m)\u001b[0m\u001b[1;33m\u001b[0m\u001b[1;33m\u001b[0m\u001b[0m\n\u001b[0m",
      "\u001b[1;31mIndexError\u001b[0m: tuple index out of range"
     ]
    }
   ],
   "source": [
    "# This is an error because the place holders are starting at one.  There is no {2} place holder\n",
    "print(\"My name is {1} and I'm {2} years old\".format('John', '12'))"
   ]
  },
  {
   "cell_type": "code",
   "execution_count": 19,
   "metadata": {},
   "outputs": [
    {
     "name": "stdout",
     "output_type": "stream",
     "text": [
      "John, My name is John and I'm 12 years old... really 12 years old. (I am John)\n"
     ]
    }
   ],
   "source": [
    "# {0} matches 'John', {1} matches '12'\n",
    "# We can use place holders more than once and in any order\n",
    "print(\"{0}, My name is {0} and I'm {1} years old... really {1} years old. (I am {0})\".format('John', '12'))"
   ]
  },
  {
   "cell_type": "markdown",
   "metadata": {},
   "source": [
    "## Extra formating features"
   ]
  },
  {
   "cell_type": "markdown",
   "metadata": {},
   "source": [
    "**Left Aligned**\n",
    "\n",
    "You can left align a string within a given space.  There are are special codes that are placed between the {} brackets."
   ]
  },
  {
   "cell_type": "code",
   "execution_count": 20,
   "metadata": {},
   "outputs": [
    {
     "name": "stdout",
     "output_type": "stream",
     "text": [
      "123456789012345678901234567890\n",
      "left aligned                  \n",
      "left aligned                  after\n"
     ]
    }
   ],
   "source": [
    "# left align the string \"left aligned\" within a 30 space section\n",
    "print('123456789012345678901234567890')\n",
    "print('{:<30}'.format('left aligned'))\n",
    "print('{:<30}after'.format('left aligned'))"
   ]
  },
  {
   "cell_type": "markdown",
   "metadata": {},
   "source": [
    "**Center Aligned**\n",
    "\n",
    "You can center a string within a given space."
   ]
  },
  {
   "cell_type": "code",
   "execution_count": 21,
   "metadata": {},
   "outputs": [
    {
     "name": "stdout",
     "output_type": "stream",
     "text": [
      "123456789012345678901234567890\n",
      "           centered           \n"
     ]
    }
   ],
   "source": [
    "# center the string \"centered\" within a 30 space section\n",
    "print('123456789012345678901234567890')\n",
    "print('{:^30}'.format('centered'))"
   ]
  },
  {
   "cell_type": "code",
   "execution_count": 22,
   "metadata": {},
   "outputs": [
    {
     "name": "stdout",
     "output_type": "stream",
     "text": [
      "123456789012345678901234567890\n",
      "*          centered          *\n",
      "Text before>          centered          <text after\n"
     ]
    }
   ],
   "source": [
    "# you can add text around an alignment option\n",
    "print('123456789012345678901234567890')\n",
    "print('*{:^28}*'.format(' centered '))\n",
    "print('Text before>{:^28}<text after'.format('centered'))"
   ]
  },
  {
   "cell_type": "markdown",
   "metadata": {},
   "source": [
    "**Right Aligned**\n",
    "\n",
    "You can also right align text within a given space."
   ]
  },
  {
   "cell_type": "code",
   "execution_count": 23,
   "metadata": {},
   "outputs": [
    {
     "name": "stdout",
     "output_type": "stream",
     "text": [
      "123456789012345678901234567890\n",
      "                 right aligned\n"
     ]
    }
   ],
   "source": [
    "# right align the string \"right aligned\" within a 30 space section\n",
    "print('123456789012345678901234567890')\n",
    "print('{:>30}'.format('right aligned'))"
   ]
  },
  {
   "cell_type": "markdown",
   "metadata": {},
   "source": [
    "**Fill Characters**\n",
    "\n",
    "This option allows you to center text and have extra characters around it.  The special character to be used for the fill is located right after the \":\" character.  See the examples below."
   ]
  },
  {
   "cell_type": "code",
   "execution_count": 24,
   "metadata": {},
   "outputs": [
    {
     "name": "stdout",
     "output_type": "stream",
     "text": [
      "123456789012345678901234567890\n",
      "left aligned..................\n",
      "***********centered***********\n",
      "---------- centered ----------\n",
      "*          centered          *\n",
      "................ right aligned\n"
     ]
    }
   ],
   "source": [
    "# center the string \"centered\" within a 30 space section\n",
    "print('123456789012345678901234567890')\n",
    "print('{:.<30}'.format('left aligned'))\n",
    "print('{:*^30}'.format('centered'))\n",
    "print('{:-^30}'.format(' centered '))\n",
    "print('*{: ^28}*'.format(' centered '))\n",
    "print('{:.>30}'.format(' right aligned'))"
   ]
  },
  {
   "cell_type": "markdown",
   "metadata": {},
   "source": [
    "## len() function\n",
    "\n",
    "Many times while a program is running, it is important to know the length or size of a string.  Perhaps you write a program to take in ZIP code and you need to make sure that the user enters exactly 5 numbers for that zip code.  The len() function will allow you to do this. "
   ]
  },
  {
   "cell_type": "code",
   "execution_count": 25,
   "metadata": {},
   "outputs": [
    {
     "name": "stdout",
     "output_type": "stream",
     "text": [
      "10\n",
      "ABC is 3 characters\n"
     ]
    }
   ],
   "source": [
    "# Display the length or number of characters in a string\n",
    "name = 'John Brown'\n",
    "print(len(name))\n",
    "print('ABC is', len('ABC'), 'characters')"
   ]
  },
  {
   "cell_type": "markdown",
   "metadata": {},
   "source": [
    "# Lesson Review\n",
    "\n",
    "The print() statement is very useful to display information to the screen.  The best method to learn how to use it is to use it in your coding."
   ]
  }
 ],
 "metadata": {
  "kernelspec": {
   "display_name": "Python 3",
   "language": "python",
   "name": "python3"
  },
  "language_info": {
   "codemirror_mode": {
    "name": "ipython",
    "version": 3
   },
   "file_extension": ".py",
   "mimetype": "text/x-python",
   "name": "python",
   "nbconvert_exporter": "python",
   "pygments_lexer": "ipython3",
   "version": "3.7.3"
  }
 },
 "nbformat": 4,
 "nbformat_minor": 2
}
