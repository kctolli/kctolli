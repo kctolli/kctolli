{
 "cells": [
  {
   "cell_type": "markdown",
   "metadata": {},
   "source": [
    "![](../images/cs101.png)\n",
    "***\n",
    "\n",
    "# 02 - Project : Using print() Statements\n"
   ]
  },
  {
   "cell_type": "markdown",
   "metadata": {},
   "source": [
    "# Setup\n",
    "\n",
    "The following project will require you write and run your own Python code.  There are a number of ways to do this.\n",
    "\n",
    "- All projects in this course are individually based in that you submit your own code.  You must not copy code from the Internet or from another student.\n",
    "- Thonny on your computer.  To install Thonny, please go to [Installing Thonny for instructions.](../resources/thonny.ipynb)\n",
    "- Online sites such as https://www.pythonanywhere.com/ or https://www.trinket.io/.  You are able to create free accounts on these websites.\n",
    "- There are other Python 3 IDEs that are available.  You are free to use them.  Remember that the course TA must be able to run your code that you submit.  The details of these other IDEs are not covered in this course.\n",
    "- You must use version 3 of Python."
   ]
  },
  {
   "cell_type": "markdown",
   "metadata": {},
   "source": [
    "# Objectives\n",
    "\n",
    "- Use print() statements to complete a series of problems."
   ]
  },
  {
   "cell_type": "markdown",
   "metadata": {},
   "source": [
    "# Overview\n",
    "\n",
    "- This project contains 9 small problems that you will solve using Python print() statements.\n",
    "- Review the coding style for Python code in Canvas for this course."
   ]
  },
  {
   "cell_type": "markdown",
   "metadata": {},
   "source": [
    "# Instructions\n",
    "\n",
    "## Get the Project code\n",
    "\n",
    "1. Open Thonny and create a new Python called project.py.  Keep Thonny open.\n",
    "1. Click on [this link to open the project.py](project.py) file.\n",
    "1. To the right of the screen, then is a button with the text \"Raw\".  Click on this.\n",
    "1. Press Control-A or Command-A to select all of the code in project.py.\n",
    "1. Press Control-C or Command-C to copy the code.\n",
    "1. Select Thonny and press Control-v or Command-v to paste the Python code to Thonny.\n",
    "1. In Thonny, save the code that you pasted to a file called project02.py.  You can save your project file anywhere on your computer.  However, you need to keep track where it is.\n",
    "\n",
    "## Writing your Code\n",
    "\n",
    "1. Continue adding your code to project.py\n",
    "1. Use any print() statement options and features.\n",
    "1. Don't forget to fill out the file header and add comments to your code.\n"
   ]
  },
  {
   "cell_type": "markdown",
   "metadata": {},
   "source": [
    "# Rubric\n",
    "\n",
    "All projects in this course are to be worked on individually.  They are not group projects.  Students found working together and sharing code will be given zero for the project.\n",
    "\n",
    "| Item  | Points  | \n",
    "|:-:\t|:-:\t|\n",
    "| Problem 1  | 10%  |\n",
    "| Problem 2  | 10%  |\n",
    "| Problem 3  | 10%  |\n",
    "| Problem 4  | 10%  |\n",
    "| Problem 5  | 10%  |\n",
    "| Problem 6  | 10%  |\n",
    "| Problem 7  | 10%  |\n",
    "| Problem 8  | 10%  |\n",
    "| Problem 9  | 10%  |\n",
    "| Coding Style | 10%  |\n",
    "|----------------|-------|\n",
    "| Total | 100%  |\n"
   ]
  },
  {
   "cell_type": "markdown",
   "metadata": {},
   "source": [
    "# Submitting\n",
    "\n",
    "After you have finished writing and testing your program:\n",
    "\n",
    "1. Go to the course in I-Learn.\n",
    "1. Find this project item.\n",
    "1. There will be a \"Submit Assignment\" button to the upper right.\n",
    "1. Click on \"Choose File\" and find the file project.py that you saved to your computer.\n"
   ]
  }
 ],
 "metadata": {
  "kernelspec": {
   "display_name": "Python 3",
   "language": "python",
   "name": "python3"
  },
  "language_info": {
   "codemirror_mode": {
    "name": "ipython",
    "version": 3
   },
   "file_extension": ".py",
   "mimetype": "text/x-python",
   "name": "python",
   "nbconvert_exporter": "python",
   "pygments_lexer": "ipython3",
   "version": "3.7.3"
  }
 },
 "nbformat": 4,
 "nbformat_minor": 2
}
