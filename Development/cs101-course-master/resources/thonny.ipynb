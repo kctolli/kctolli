{
 "cells": [
  {
   "cell_type": "markdown",
   "metadata": {},
   "source": [
    "![](../images/cs101.png)\n",
    "***\n",
    "\n",
    "# Installing Thonny Python IDE\n",
    "\n",
    "We will be using the program Thonny for this course.\n",
    "\n",
    "## 1 - Download Thonny\n",
    "\n",
    "Thonny can be downloaded for Windows or Mac computers. \n",
    "\n",
    "1. Go to the website [Thonny.org](http://www.thonny.org).\n",
    "1. Select which computer type you have (Windows or Mac).  \n",
    "1. There is a download link to the top right of the main webpage.\n",
    "2. Download the latest version of Thonny.\n",
    "\n",
    "![](thonnysite.png)\n",
    "\n",
    "## 1.1 - Windows Install\n",
    "\n",
    "- **The first step in the install process will display the following, just click the next button.**\n",
    "\n",
    "![](thonny-win-1.png)\n",
    "\n",
    "- **Accept the agreement and click on Install**\n",
    "\n",
    "![](thonny-win-2.png)\n",
    "\n",
    "- **The final step will be the following, click on Finish**\n",
    "\n",
    "![](thonny-win-3.png)\n",
    "\n",
    "**You will see the Thonny application icon on the your computer**\n",
    "\n",
    "## 1.2 - Mac Install\n",
    "\n",
    "- **Download the Mac DMG file**\n",
    "\n",
    "- **Goto to the Download folder on your Mac and run the Thonny DMG file**\n",
    "\n",
    "- **Copy the Thonny program to the desktop or to your Applications folder**\n",
    "\n",
    "![](thonny-mac-1.png)\n",
    "\n",
    "- **Run Thonny.  You might get a warning about running a program from the Internet.**\n",
    "\n",
    "\n",
    "## 2 - That's it!\n"
   ]
  }
 ],
 "metadata": {
  "kernelspec": {
   "display_name": "Python 3",
   "language": "python",
   "name": "python3"
  },
  "language_info": {
   "codemirror_mode": {
    "name": "ipython",
    "version": 3
   },
   "file_extension": ".py",
   "mimetype": "text/x-python",
   "name": "python",
   "nbconvert_exporter": "python",
   "pygments_lexer": "ipython3",
   "version": "3.6.6"
  }
 },
 "nbformat": 4,
 "nbformat_minor": 2
}
