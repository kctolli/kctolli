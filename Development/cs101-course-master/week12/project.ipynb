{
 "cells": [
  {
   "cell_type": "markdown",
   "metadata": {},
   "source": [
    "![](../images/cs101.png)\n",
    "***\n",
    "\n",
    "# 12 - Project : Shopping List Application\n"
   ]
  },
  {
   "cell_type": "markdown",
   "metadata": {},
   "source": [
    "# Setup\n",
    "\n",
    "The following project will require you write and run your own Python code.  There are a number of ways to do this.\n",
    "\n",
    "- All projects in this course are individually based in that you submit your own code.  You must not copy code from the Internet or from another student.\n",
    "- Thonny on your computer.  To install Thonny, please go to [Installing Thonny for instructions.](../resources/thonny.ipynb)\n",
    "- Online sites such as https://www.pythonanywhere.com/ or https://www.trinket.io/.  You are able to create free accounts on these websites.\n",
    "- There are other Python 3 IDEs that are available.  You are free to use them.  Remember that the course TA must be able to run your code that you submit.  The details of these other IDEs are not covered in this course.\n",
    "- You must use version 3 of Python."
   ]
  },
  {
   "cell_type": "markdown",
   "metadata": {},
   "source": [
    "# Objectives\n",
    "\n",
    "- Use Python lists."
   ]
  },
  {
   "cell_type": "markdown",
   "metadata": {},
   "source": [
    "# Overview\n",
    "\n",
    "This project will implement a program that will allow an user to create and modify a simple shopping list."
   ]
  },
  {
   "cell_type": "markdown",
   "metadata": {},
   "source": [
    "# Instructions\n",
    "\n",
    "## Get the Project code\n",
    "\n",
    "1. Open Thonny and create a new Python called projectXX.py. (Where XX is the project number) Keep Thonny open.\n",
    "1. Click on [this link to open the project.py](project.py) file.\n",
    "1. To the right of the screen, then is a button with the text \"Raw\".  Click on this.\n",
    "1. Press Control-A or Command-A to select all of the code.\n",
    "1. Press Control-C or Command-C to copy the code.\n",
    "1. Select Thonny and press Control-v or Command-v to paste the Python code to Thonny.\n",
    "1. In Thonny, save your Python file with the code that you pasted.  You can save your project file anywhere on your computer.  However, you need to keep track where it is.\n",
    "\n",
    "## Writing your Code\n",
    "\n",
    "Instructions are found in the project code file."
   ]
  },
  {
   "cell_type": "markdown",
   "metadata": {},
   "source": [
    "# Rubric\n",
    "\n",
    "| Task  | Points |\n",
    "|:-:\t|:-:\t|\n",
    "| Menu Feature: New shopping list item | 30% |\n",
    "| Menu Feature: Display shopping list | 10% |\n",
    "| Menu Feature: Edit an item in the list | 20% |\n",
    "| Menu Feature: Check or remove item from list | 20% |\n",
    "| Menu Feature: Display menu | 10% |\n",
    "| Coding Style  | 10%  |\n"
   ]
  },
  {
   "cell_type": "markdown",
   "metadata": {},
   "source": [
    "# Submitting\n",
    "\n",
    "After you have finished writing and testing your program:\n",
    "\n",
    "1. Go to the course in I-Learn.\n",
    "1. Find this project item.\n",
    "1. There will be a \"Submit Assignment\" button to the upper right.\n",
    "1. Click on \"Choose File\" and find the Python file for your program that you saved to your computer.\n"
   ]
  }
 ],
 "metadata": {
  "kernelspec": {
   "display_name": "Python 3",
   "language": "python",
   "name": "python3"
  },
  "language_info": {
   "codemirror_mode": {
    "name": "ipython",
    "version": 3
   },
   "file_extension": ".py",
   "mimetype": "text/x-python",
   "name": "python",
   "nbconvert_exporter": "python",
   "pygments_lexer": "ipython3",
   "version": "3.7.3"
  }
 },
 "nbformat": 4,
 "nbformat_minor": 2
}
