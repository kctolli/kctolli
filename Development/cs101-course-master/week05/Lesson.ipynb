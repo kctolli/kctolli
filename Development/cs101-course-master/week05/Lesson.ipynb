{
 "cells": [
  {
   "cell_type": "markdown",
   "metadata": {},
   "source": [
    "![](../images/cs101.png)\n",
    "***\n",
    "\n",
    "# 05 - Lesson : Functions\n"
   ]
  },
  {
   "cell_type": "markdown",
   "metadata": {},
   "source": [
    "# Coding Examples in This Lesson\n",
    "\n",
    "There are many small coding examples in this lesson.  I would **strongly suggest** that you type these examples in Thonny (or your Python IDE) to better understand the code."
   ]
  },
  {
   "cell_type": "markdown",
   "metadata": {},
   "source": [
    "# Objectives and Goals\n",
    "\n",
    "Students will:\n",
    "\n",
    "- understand how to create simple functions.\n",
    "- be able to call functions from other functions.\n"
   ]
  },
  {
   "cell_type": "markdown",
   "metadata": {},
   "source": [
    "# Preparation\n",
    "\n",
    "For this lesson, please review and read:\n",
    "\n",
    "- None\n"
   ]
  },
  {
   "cell_type": "markdown",
   "metadata": {},
   "source": [
    "# Python Coding Style\n",
    "\n",
    "## Function Names\n",
    "\n",
    "Function names follow the same naming style for variables.  However, variables should be named to sound like nouns and functions should have a verb or action sounding name.\n",
    "\n",
    "Examples:\n",
    "\n",
    "```python\n",
    "# verb or action sounding function name\n",
    "def convertToCelsuis(Fahrenheit):\n",
    "    <math to convert Fahrenheit to Celsius>\n",
    "\n",
    "# noun sounding for variables\n",
    "celsius = 34\n",
    "fahrenheit = 72\n",
    "\n",
    "```\n",
    "\n",
    "## Function Comments\n",
    "\n",
    "Function comments are like the description part of a header comment, but contain information specific to what a function does. These comments should also include a description of the purpose and expected input arguments, the expected output values, and how error conditions are handled.\n",
    "\n",
    "Put the function comment inside the function you are writting.\n",
    "\n",
    "Example:\n",
    "\n",
    "```python\n",
    "def displayPersonsAge(name, age):\n",
    "    \"\"\"\n",
    "    Displays a person's age on the screen\n",
    "\n",
    "    Args:\n",
    "      name: Person's name\n",
    "      age: age of the person\n",
    "\n",
    "    Returns:\n",
    "      none\n",
    "    \"\"\"\n",
    "\n",
    "    print(name, 'is', age, 'years old.')\n",
    "```"
   ]
  },
  {
   "cell_type": "markdown",
   "metadata": {},
   "source": [
    "***\n",
    "# Lesson Details\n",
    "\n",
    "Definition of a function in programming:\n",
    "\n",
    "> **Functions are \"self contained\" modules of code that accomplish a specific task**. Functions usually \"take in\" data, process it, and \"return\" a result. Once a function is written, it can be used over and over and over again. Functions can be \"called\" from the inside of other functions.\n",
    "\n",
    "> Most programming languages come with a prewritten set of functions that are kept in a library. These are called Built-in functions.\n"
   ]
  },
  {
   "cell_type": "markdown",
   "metadata": {},
   "source": [
    "# Part 1 - Basic Functions"
   ]
  },
  {
   "cell_type": "markdown",
   "metadata": {},
   "source": [
    "## Python Built-in Functions\n",
    "\n",
    "Python has a group of functions that can be used by programmers.  They are called built-in because a programmer can always assume that these functions exist.\n",
    "\n",
    "[List of Python 3 Built-in Functions](https://docs.python.org/3/library/functions.html)\n",
    "\n",
    "Here are some of the built-in functions that we will be using in this course:\n",
    "\n",
    "**format()** - format values for displaying.\n",
    "\n",
    "**input()** - get data from the user.\n",
    "\n",
    "**int()** - convert a string to an integer.\n",
    "\n",
    "**float()** - convert a string to a float\n",
    "\n",
    "**len()** - return the length of a string or list.\n",
    "\n",
    "**max()** - return the max value of a group of numbers.\n",
    "\n",
    "**min()** - return the min value of a group of numbers.\n",
    "\n",
    "**print()** - display text to the screen.\n",
    "\n",
    "**range()** - return a range of values (used when we talk about loops)\n",
    "\n",
    "**str()** - Convert an integer or float to a string\n",
    "\n",
    "**sum()** - return the sum of a group of numbers."
   ]
  },
  {
   "cell_type": "markdown",
   "metadata": {},
   "source": [
    "## Format of a Function\n",
    "\n",
    "Functions are used in programming to group statements to **perform a task**.  What the task does is up to the programmer.  One of the first steps that a programmer does when starting a software program is to define as many of the tasks that exist in the program.\n",
    "\n",
    "Format of a function in Python:\n",
    "\n",
    "```python\n",
    "def functionName(arguments):\n",
    "    \"\"\" Function Description \"\"\"\n",
    "    statement(s)\n",
    "    return value\n",
    "```\n",
    "\n",
    "Parts of a function (From above):\n",
    "\n",
    "**def**\n",
    "\n",
    "All functions must start with the key work \"def\".  This tells Python that this will be a function.\n",
    "\n",
    "\n",
    "**functionName**\n",
    "\n",
    "Functions need a meaningful name.  Parentheses are required after the name, followed by a colon. If possible (if not always), give a function an \"action\" name.  Notice that when a name has multiple words in it, words are capitalized except for the first word.\n",
    "\n",
    "For example:\n",
    "\n",
    "```python\n",
    "displayWelcomeMessage()\n",
    "getMonthlyValue()\n",
    "calculateTaxes()\n",
    "convertFeetToMeters()\n",
    "```\n",
    "\n",
    "**arguments**\n",
    "\n",
    "Arguments are used to pass information or data to a function depending on the task of that function.  It is up to the programmer to decide the purpose of a function and what arguments/data it needs.\n",
    "\n",
    "For this week's lesson, we will not be using arguments in our functions.\n",
    "\n",
    "\n",
    "**Function Description**\n",
    "\n",
    "Each function should have at least a one line description of its purpose.  Function descriptions begin and end with three double quotes and are placed one line below the function name.\n",
    "\n",
    "**statement(s)**\n",
    "\n",
    "This is any Python code required to complete the function's purpose.  You are free to have one to a million statements.  Statements **must** be indented with a tab or spaces to be part of a function.  The consensus between Python programmers is to use **4 spaces** for each level of indentation.  **Note**: you can not have tabs for some lines and spaces for others.  Your code must be all tabs or all spaces.\n",
    "\n",
    "Functions must have at least one statement.  Sometimes, a programmer will create a function with a name but then wait to fill in the statements until later.  In this case, there is a special statement called \"**pass**\" that can be used.  Otherwise, if you don't add at least one statement, Python will complain when it runs your program.\n",
    "\n",
    "```python\n",
    "def displayWelcome():\n",
    "    \"\"\" Display a welcome message \"\"\"\n",
    "    # TODO - talk with client to know what to display as the welcome\n",
    "    pass\n",
    "```\n",
    "\n",
    "**return**\n",
    "\n",
    "This is optional.  At the end of a function's purpose/task, you might need to return a value back to the code that called this function.  When a return statement is used, the function stops running - it's finished.  For this reason, you tend to see return statements at the end of functions.  \n",
    "\n",
    "If a function doesn't have a return statement, the function ends when the last indented statement is executed.\n",
    "\n",
    "For example:\n",
    "\n",
    "```python\n",
    "# A function returning something.  The function ends after the return statement.\n",
    "def getMonthlyValue():\n",
    "    \"\"\" Prompt the user for a monthly amount \"\"\"\n",
    "    value = int(input('Enter monthly value: ))\n",
    "    return value\n",
    "                      \n",
    "# A function returning nothing.  The function ends after the print() statement.\n",
    "def displayWelcomeMessage():\n",
    "    \"\"\" Display a welcome message \"\"\"                  \n",
    "    print('Welcome to this program')\n",
    "```"
   ]
  },
  {
   "cell_type": "markdown",
   "metadata": {},
   "source": [
    "## Calling a Function\n",
    "\n",
    "In order to use a function, you simply use that function's name with parentheses (arguments should be in the parentheses if we need to \"pass\" information to the function).  \n",
    "\n",
    "```python\n",
    "displayWelcome()\n",
    "turnOnDevice()\n",
    "```\n",
    "\n",
    "If the function returns something, then we should use a variable to \"hold\" that something.  The variable is to the left of the equal symbol.\n",
    "\n",
    "```python\n",
    "temperature = getTemperature()\n",
    "age = getAge()\n",
    "firstName = getFirstName()\n",
    "```\n"
   ]
  },
  {
   "cell_type": "code",
   "execution_count": 2,
   "metadata": {},
   "outputs": [
    {
     "name": "stdin",
     "output_type": "stream",
     "text": [
      "Enter Age:  23\n"
     ]
    },
    {
     "name": "stdout",
     "output_type": "stream",
     "text": [
      "You are 23 years old\n"
     ]
    }
   ],
   "source": [
    "# This function will get the age of a person and return it.\n",
    "# Note that this function doesn't display the age to the console\n",
    "# using the print() statement.  It gets the age from the user and returns it.\n",
    "# Also, the function getAge() needs to be declared/found before it is used.\n",
    "def getAge():\n",
    "    age = int(input('Enter Age: '))\n",
    "    return age\n",
    "\n",
    "# This is the statement that will call the function above and print the age\n",
    "personAge = getAge()\n",
    "print('You are', personAge, 'years old')"
   ]
  },
  {
   "cell_type": "markdown",
   "metadata": {},
   "source": [
    "## Location of Functions in a Python File\n",
    "\n",
    "Functions are placed at the beginning of Python files.  The main code of the program is placed after those functions.  The statements that make up the main part of your program are not indented.\n",
    "\n",
    "For Example:\n",
    "\n",
    "```python\n",
    "def displayWelome():\n",
    "    print('Welcome to the program')\n",
    "    \n",
    "def getMonthlyValue()\n",
    "    value = int(input('Enter Monthly Value: ))\n",
    "    return value\n",
    "\n",
    "def displayFinished():\n",
    "    print('Thanks for using this program')                          \n",
    "\n",
    "                      \n",
    "# Main code of the program is placed here\n",
    "displayWelcome()\n",
    "\n",
    "monthlyValue = getMonthlyValue()\n",
    "print('Monthly value is', monthlyValue)\n",
    "\n",
    "displayFinished()\n",
    "```\n",
    "\n",
    "If one function calls another function, place the second function before the first.  In the following example, function2() calls function1().  Therefore, function1() is placed before function2()\n",
    "\n",
    "```python\n",
    "def function1():\n",
    "    print('Display one')\n",
    "\n",
    "def function2():\n",
    "    print('This is function two')\n",
    "    # Call function1() from this function\n",
    "    function1()\n",
    "    \n",
    "```\n"
   ]
  },
  {
   "cell_type": "markdown",
   "metadata": {},
   "source": [
    "### Hymn No. 2 sample in Python code\n",
    "\n",
    "- Each verse is contained in a function\n",
    "- There is only one chorus function.\n",
    "- The \"main code\" calls the verse and chorus functions in the correct order of how the hymn is displayed."
   ]
  },
  {
   "cell_type": "code",
   "execution_count": 3,
   "metadata": {},
   "outputs": [
    {
     "name": "stdout",
     "output_type": "stream",
     "text": [
      "****************** The Spirit of God ******************\n",
      "\n",
      "1. The Spirit of God like a fire is burning!\n",
      "The latter-day glory begins to come forth;\n",
      "The visions and blessings of old are returning,\n",
      "And angels are coming to visit the earth.\n",
      "\n",
      "We'll sing and we'll shout with the armies of heaven,\n",
      "Hosanna, hosanna to God and the Lamb!\n",
      "Let glory to them in the highest be given,\n",
      "Henceforth and forever, Amen and amen!\n",
      "\n",
      "2. The Lord is extending the Saints' understanding,\n",
      "Restoring their judges and all as at first.\n",
      "The knowledge and power of God are expanding;\n",
      "The veil o'er the earth is beginning to burst.\n",
      "\n",
      "We'll sing and we'll shout with the armies of heaven,\n",
      "Hosanna, hosanna to God and the Lamb!\n",
      "Let glory to them in the highest be given,\n",
      "Henceforth and forever, Amen and amen!\n",
      "\n",
      "3. We'll call in our solemn assemblies in spirit,\n",
      "To spread forth the kingdom of heaven abroad,\n",
      "That we through our faith may begin to inherit\n",
      "The visions and blessings and glories of God.\n",
      "\n",
      "We'll sing and we'll shout with the armies of heaven,\n",
      "Hosanna, hosanna to God and the Lamb!\n",
      "Let glory to them in the highest be given,\n",
      "Henceforth and forever, Amen and amen!\n",
      "\n",
      "4. How blessed the day when the lamb and the lion\n",
      "Shall lie down together without any ire,\n",
      "And Ephraim be crowned with his blessing in Zion,\n",
      "As Jesus descends with his chariot of fire!\n",
      "\n",
      "We'll sing and we'll shout with the armies of heaven,\n",
      "Hosanna, hosanna to God and the Lamb!\n",
      "Let glory to them in the highest be given,\n",
      "Henceforth and forever, Amen and amen!\n",
      "\n"
     ]
    }
   ],
   "source": [
    "def verse1():\n",
    "    print('1. The Spirit of God like a fire is burning!')\n",
    "    print('The latter-day glory begins to come forth;')\n",
    "    print('The visions and blessings of old are returning,')\n",
    "    print('And angels are coming to visit the earth.')\n",
    "    print()\n",
    "\n",
    "def verse2():\n",
    "    print(\"2. The Lord is extending the Saints' understanding,\")\n",
    "    print('Restoring their judges and all as at first.')\n",
    "    print('The knowledge and power of God are expanding;')\n",
    "    print(\"The veil o'er the earth is beginning to burst.\")\n",
    "    print()\n",
    "\n",
    "def verse3():\n",
    "    print(\"3. We'll call in our solemn assemblies in spirit,\")\n",
    "    print('To spread forth the kingdom of heaven abroad,')\n",
    "    print('That we through our faith may begin to inherit')\n",
    "    print('The visions and blessings and glories of God.')\n",
    "    print()\n",
    "\n",
    "def verse4():\n",
    "    print('4. How blessed the day when the lamb and the lion')\n",
    "    print('Shall lie down together without any ire,')\n",
    "    print('And Ephraim be crowned with his blessing in Zion,')\n",
    "    print('As Jesus descends with his chariot of fire!')\n",
    "    print()\n",
    "\n",
    "def chorus():\n",
    "    print(\"We'll sing and we'll shout with the armies of heaven,\")\n",
    "    print('Hosanna, hosanna to God and the Lamb!')\n",
    "    print('Let glory to them in the highest be given,')\n",
    "    print('Henceforth and forever, Amen and amen!')\n",
    "    print()\n",
    "\n",
    "def singHymn2():\n",
    "    \"\"\"Call each verse then the chorus\"\"\"\n",
    "    print('{:*^55}'.format(' The Spirit of God '))\n",
    "    print()\n",
    "    verse1()\n",
    "    chorus()\n",
    "    verse2()\n",
    "    chorus()\n",
    "    verse3()\n",
    "    chorus()\n",
    "    verse4()\n",
    "    chorus()\n",
    "\n",
    "# This is the \"main\" code that will call singHymn2() and start the process of displaying\n",
    "# hymn number 2.\n",
    "singHymn2()"
   ]
  },
  {
   "cell_type": "markdown",
   "metadata": {},
   "source": [
    "## Examples of functions"
   ]
  },
  {
   "cell_type": "code",
   "execution_count": 4,
   "metadata": {},
   "outputs": [
    {
     "name": "stdout",
     "output_type": "stream",
     "text": [
      "Hello World\n"
     ]
    }
   ],
   "source": [
    "# Display Hello World\n",
    "def displayHelloWorld():\n",
    "    print('Hello World')\n",
    "\n",
    "# Call the above function\n",
    "displayHelloWorld()"
   ]
  },
  {
   "cell_type": "code",
   "execution_count": 5,
   "metadata": {},
   "outputs": [
    {
     "name": "stdin",
     "output_type": "stream",
     "text": [
      "Enter age:  23\n"
     ]
    },
    {
     "name": "stdout",
     "output_type": "stream",
     "text": [
      "You are 23 years old\n"
     ]
    }
   ],
   "source": [
    "# Prompt user for age and return it as an integer\n",
    "# uses a temporary variable to hold age\n",
    "def getAge():\n",
    "    age = int(input('Enter age: '))\n",
    "    return age\n",
    "\n",
    "personAge = getAge()\n",
    "print('You are', personAge, 'years old')"
   ]
  },
  {
   "cell_type": "code",
   "execution_count": 6,
   "metadata": {},
   "outputs": [
    {
     "name": "stdin",
     "output_type": "stream",
     "text": [
      "Enter age:  23\n"
     ]
    },
    {
     "name": "stdout",
     "output_type": "stream",
     "text": [
      "You are 23 years old\n"
     ]
    }
   ],
   "source": [
    "# Prompt user for age and return it as an integer\n",
    "def getAge():\n",
    "    return int(input('Enter age: '))\n",
    "\n",
    "personAge = getAge()\n",
    "print('You are', personAge, 'years old')"
   ]
  },
  {
   "cell_type": "code",
   "execution_count": 7,
   "metadata": {},
   "outputs": [
    {
     "name": "stdin",
     "output_type": "stream",
     "text": [
      "Enter gpa:  3.45\n"
     ]
    },
    {
     "name": "stdout",
     "output_type": "stream",
     "text": [
      "You have a GPA of 3.45\n"
     ]
    }
   ],
   "source": [
    "# Prompt user for gpa and return it as a float\n",
    "def getGPA():\n",
    "    gpa = float(input('Enter gpa: '))\n",
    "    return gpa\n",
    "\n",
    "personGPA = getGPA()\n",
    "print('You have a GPA of', personGPA)"
   ]
  },
  {
   "cell_type": "code",
   "execution_count": 8,
   "metadata": {},
   "outputs": [
    {
     "name": "stdin",
     "output_type": "stream",
     "text": [
      "Enter color:  Blue\n"
     ]
    },
    {
     "name": "stdout",
     "output_type": "stream",
     "text": [
      "You like the color Blue\n"
     ]
    }
   ],
   "source": [
    "# Prompt user for favorite color and return it as a string\n",
    "def getColor():\n",
    "    color = input('Enter color: ')\n",
    "    return color\n",
    "\n",
    "favColor = getColor()\n",
    "print('You like the color', favColor)"
   ]
  },
  {
   "cell_type": "markdown",
   "metadata": {},
   "source": [
    "## Assigning values to Variables\n",
    "\n",
    "We need to review how values are assigned to variables. \n",
    "\n",
    "```python\n",
    "# Assign the value 3 to the variable x\n",
    "x = 3\n",
    "\n",
    "# Assign the value 'John Smith' to the variable name and name2\n",
    "name1 = 'John Smith'\n",
    "name2 = 'John' + ' ' + 'Smith'\n",
    "```\n",
    "\n",
    "There is an advanced method of assigning values to a group of variables.  The following code examples assign values to variables a, b and c.\n",
    "\n",
    "```python\n",
    "# Assigning values to a, b, and c using three lines\n",
    "a = 1\n",
    "b = 2\n",
    "c = 3\n",
    "\n",
    "# Advanced method of assigning values to a, b, and c in one line\n",
    "# the first variable is assigned to the first value\n",
    "# the second variable is assigned to the second value and so on\n",
    "a, b, c = 1, 2, 3\n",
    "```\n",
    "\n",
    "Functions are able to return multiple values using this advanced method.\n",
    "\n",
    "```python\n",
    "# This function will return three values\n",
    "# Notice that the order of the values are important.\n",
    "def getValuesForABC()\n",
    "    return (1, 2, 3)\n",
    "\n",
    "# a = 1, b = 2 and c = 3\n",
    "a, b, c = getValuesForABC()\n",
    "```\n",
    "\n"
   ]
  },
  {
   "cell_type": "markdown",
   "metadata": {},
   "source": [
    "***\n",
    "# Part 2 - Functions with arguments\n"
   ]
  },
  {
   "cell_type": "markdown",
   "metadata": {},
   "source": [
    "This part of the lesson will focus on **how to pass information or values to a function**.  These values are called arguments.\n",
    "\n",
    "Format of a function in Python.  We will be focusing on the \"arguments\" section.\n",
    "\n",
    "```python\n",
    "def functionName(arguments):\n",
    "    \"\"\" Function Description \"\"\"\n",
    "    statement(s)\n",
    "    return value\n",
    "```\n",
    "\n",
    "**arguments**\n",
    "\n",
    "Arguments are used to pass information or data to a function depending on the task of the function.  It is up to the programmer to decide the purpose of a function and what arguments/data it needs.  A function can have zero to any number of arguments.\n",
    "\n",
    "Values that are passed to a function must be given a name.  The names that a function uses for arguments has nothing to do with variable names in other parts of your Python code.  (ie., you can reuse the names of variables in different functions)"
   ]
  },
  {
   "cell_type": "markdown",
   "metadata": {},
   "source": [
    "## Function examples and descriptions."
   ]
  },
  {
   "cell_type": "markdown",
   "metadata": {},
   "source": [
    "### A function that has one argument and displays information to the screen\n",
    "\n",
    "Note that the functions below all are defined before being used."
   ]
  },
  {
   "cell_type": "code",
   "execution_count": 5,
   "metadata": {},
   "outputs": [
    {
     "name": "stdout",
     "output_type": "stream",
     "text": [
      "Income = 1234.56\n",
      "Welcome John Brown\n",
      "Based on your income of $12345.0, you need to pay at least $1234.5 to be a full tithe payer\n",
      "  32.00 fahrenheit is    0.00 Celsius\n",
      " 212.00 fahrenheit is  100.00 Celsius\n",
      " -40.00 fahrenheit is  -40.00 Celsius\n",
      "  98.60 fahrenheit is   37.00 Celsius\n"
     ]
    }
   ],
   "source": [
    "def displayIncome(income):\n",
    "    \"\"\" Displays the current income \"\"\"\n",
    "    print('Income =', income)\n",
    "    \n",
    "def displayName(name):\n",
    "    \"\"\" Displays a person's name \"\"\"\n",
    "    print('Welcome', name)\n",
    "\n",
    "def displayTithing(income):\n",
    "    \"\"\" display amount of tithing to pay in order to be a full tithe payer \"\"\"\n",
    "    tithe = income / 10.0\n",
    "    print('Based on your income of ${}, you need to pay at least ${} to be a full tithe payer'.format(income, tithe))\n",
    "\n",
    "def displayCelsius(fahrenheit):\n",
    "    \"\"\" Converts fahrenheit to celsius and display the results \"\"\"\n",
    "    celsius = (5.0 / 9.0) * (fahrenheit - 32.0)\n",
    "    print('{:7.2f} fahrenheit is {:7.2f} Celsius'.format(fahrenheit, celsius))\n",
    "    \n",
    "# The following line calls the function displayIncome with the value of 1234.56\n",
    "displayIncome(1234.56)\n",
    "displayName('John Brown')\n",
    "displayTithing(12345.0)\n",
    "\n",
    "displayCelsius(32.0)\n",
    "displayCelsius(212.0)\n",
    "displayCelsius(-40.0)\n",
    "displayCelsius(98.6)"
   ]
  },
  {
   "cell_type": "markdown",
   "metadata": {},
   "source": [
    "### A function that has two arguments and displays info to the screen"
   ]
  },
  {
   "cell_type": "code",
   "execution_count": 10,
   "metadata": {},
   "outputs": [
    {
     "name": "stdout",
     "output_type": "stream",
     "text": [
      "John Brown has income = 1234.56\n",
      "1234.56 has income = John Brown\n"
     ]
    }
   ],
   "source": [
    "def displayIncome(name, income):\n",
    "    \"\"\" Displays the current income \"\"\"\n",
    "    print('{} has income = {}'.format(name, income))\n",
    "\n",
    "\n",
    "displayIncome('John Brown', 1234.56)    \n",
    "\n",
    "# Notice that the function displayIncome() doesn't care that\n",
    "# I mixed up the arguments.  This is because both arguments\n",
    "# are used in the format() statement using {}.  If the function displayIncome()\n",
    "# did some math with the income value, then the order of the arguments is\n",
    "# very important because we can't do math with a string\n",
    "displayIncome(1234.56, 'John Brown')"
   ]
  },
  {
   "cell_type": "markdown",
   "metadata": {},
   "source": [
    "### A function that takes two arguments and adds them together, then returns the sum."
   ]
  },
  {
   "cell_type": "code",
   "execution_count": 11,
   "metadata": {},
   "outputs": [
    {
     "name": "stdout",
     "output_type": "stream",
     "text": [
      "sum of 23 and 34 is 57\n",
      "sum of 23 and 34 is 57\n",
      "sum of 23 and 34 is 57\n"
     ]
    }
   ],
   "source": [
    "def add(value1, value2):\n",
    "    \"\"\" Returns the sum of two numbers \"\"\"\n",
    "    return (value1 + value2)\n",
    "\n",
    "# Calling the function add() and printing the returned sum\n",
    "print('sum of 23 and 34 is', add(23, 34))\n",
    "\n",
    "# Holding the sum in a variable\n",
    "mySum = add(23, 34)\n",
    "print('sum of 23 and 34 is', mySum)\n",
    "\n",
    "# Using variables that are passed to the function add()\n",
    "value1 = 23\n",
    "value2 = 34\n",
    "mySum = add(value1, value2)\n",
    "print('sum of {} and {} is {}'.format(value1, value2, mySum))"
   ]
  },
  {
   "cell_type": "markdown",
   "metadata": {},
   "source": [
    "### Functions that take five arguments and adds them together and returns the sum.\n",
    "\n",
    "Both the functions `add()` and `add2()` take in 5 values as arguments, adds them together and returns the total or sum.  The function `add2()` creates a temporary variable `total` to hold the sum of the 5 values and then returns that total.  The function `add()` doesn't use a temporary variable, it just adds the 5 values together in the return statement.\n",
    "\n",
    "Both of these functions are correct, just different methods to solve the same problem."
   ]
  },
  {
   "cell_type": "code",
   "execution_count": 12,
   "metadata": {},
   "outputs": [
    {
     "name": "stdout",
     "output_type": "stream",
     "text": [
      "sum of 12, 23, 34, 45, 56 = 170\n",
      "sum of 123, 234, 345, 456, 99 = 1257\n",
      "sum of 123, 234, 345, 456, 99 = 1257\n"
     ]
    }
   ],
   "source": [
    "def add(value1, value2, value3, value4, value5):\n",
    "    \"\"\" Returns the sum of five numbers \"\"\"\n",
    "    return (value1 + value2 + value3 + value4 + value5)\n",
    "\n",
    "def add2(value1, value2, value3, value4, value5):\n",
    "    \"\"\" Returns the sum of five numbers \"\"\"\n",
    "    total = value1 + value2 + value3 + value4 + value5\n",
    "    return total\n",
    "\n",
    "mySum = add(12, 23, 34, 45, 56)\n",
    "print('sum of 12, 23, 34, 45, 56 =', mySum)\n",
    "\n",
    "num1 = 123\n",
    "num2 = 234\n",
    "num3 = 345\n",
    "num4 = 456\n",
    "\n",
    "# call first function\n",
    "mySum = add(num1, num2, num3, num4, 99)\n",
    "print('sum of {}, {}, {}, {}, {} = {}'.format(num1, num2, num3, num4, 99, mySum))\n",
    "\n",
    "# Call second function that uses a 'total' variable.  Get the same total as function add()\n",
    "mySum = add2(num1, num2, num3, num4, 99)\n",
    "print('sum of {}, {}, {}, {}, {} = {}'.format(num1, num2, num3, num4, 99, mySum))\n"
   ]
  },
  {
   "cell_type": "markdown",
   "metadata": {},
   "source": [
    "### Function to add one to a given argument."
   ]
  },
  {
   "cell_type": "code",
   "execution_count": 13,
   "metadata": {},
   "outputs": [
    {
     "name": "stdout",
     "output_type": "stream",
     "text": [
      "newScore = 79, initScore = 78\n"
     ]
    }
   ],
   "source": [
    "# Note that the value of the variable \"initScore\" is passed to the function addOne(),\n",
    "# not the name of the variable.  The function addOne() decided to name the value coming\n",
    "# into the function as \"score\" - it has the same value of the variable initScore.\n",
    "\n",
    "def addOne(score):\n",
    "    \"\"\" Adds one with the given number and returns the results \"\"\"\n",
    "    return(score + 1)\n",
    "\n",
    "# initial score\n",
    "initScore = 78\n",
    "\n",
    "# pass the value of initScore to addOne() and assign the returned value to newScore\n",
    "# Note that the value of initScore is not changed.\n",
    "newScore = addOne(initScore)\n",
    "\n",
    "print('newScore = {}, initScore = {}'.format(newScore, initScore))"
   ]
  },
  {
   "cell_type": "markdown",
   "metadata": {},
   "source": [
    "### Functions can have return values of other functions as arguments"
   ]
  },
  {
   "cell_type": "code",
   "execution_count": 14,
   "metadata": {},
   "outputs": [
    {
     "name": "stdout",
     "output_type": "stream",
     "text": [
      "Score = 4\n"
     ]
    }
   ],
   "source": [
    "def addOne(score):\n",
    "    \"\"\" Adds one with the given number and returns the results \"\"\"\n",
    "    return(score + 1)\n",
    "\n",
    "# The returned value of \"addOne(1)\" is the argument to the middle addOne() which in turn\n",
    "# is the argument for the first addOne().\n",
    "print('Score =', addOne(addOne(addOne(1))))"
   ]
  },
  {
   "cell_type": "markdown",
   "metadata": {},
   "source": [
    "### Functions calls other functions"
   ]
  },
  {
   "cell_type": "code",
   "execution_count": 15,
   "metadata": {},
   "outputs": [
    {
     "name": "stdout",
     "output_type": "stream",
     "text": [
      "Name = John Brown\n",
      "Age = 23\n",
      "\n",
      "Name = Jim Smith\n",
      "Age = 44\n"
     ]
    }
   ],
   "source": [
    "def displayName(name):\n",
    "    \"\"\" Display a person's name \"\"\"\n",
    "    print('Name =', name)\n",
    "\n",
    "    \n",
    "def displayAge(age):\n",
    "    \"\"\" display a person's age \"\"\"\n",
    "    print('Age =', age)\n",
    "\n",
    "    \n",
    "def displayPerson(name, age):\n",
    "    \"\"\" Displays info about a person \"\"\"\n",
    "    displayName(name)\n",
    "    displayAge(age)\n",
    "    \n",
    "\n",
    "displayPerson('John Brown', 23)\n",
    "\n",
    "# Calling displayPerson() with variables\n",
    "print() \n",
    "\n",
    "fullName = 'Jim Smith'\n",
    "ageOfPerson = 44\n",
    "displayPerson(fullName, ageOfPerson)"
   ]
  },
  {
   "cell_type": "markdown",
   "metadata": {},
   "source": [
    "# Lesson Review\n",
    "\n",
    "- Functions are used to perform a task and should have an \"Action\" sounding name.\n",
    "- It is a good design to try to limit functions to only perform one task.  \n",
    "- Programs tend to contain lots of small functions.  \n",
    "- Functions can call other functions.\n",
    "- Functions allow a programmer to break up a program into logical parts.  Being able to pass information to a function is key to being able to do this.\n"
   ]
  }
 ],
 "metadata": {
  "kernelspec": {
   "display_name": "Python 3",
   "language": "python",
   "name": "python3"
  },
  "language_info": {
   "codemirror_mode": {
    "name": "ipython",
    "version": 3
   },
   "file_extension": ".py",
   "mimetype": "text/x-python",
   "name": "python",
   "nbconvert_exporter": "python",
   "pygments_lexer": "ipython3",
   "version": "3.7.3"
  }
 },
 "nbformat": 4,
 "nbformat_minor": 2
}
