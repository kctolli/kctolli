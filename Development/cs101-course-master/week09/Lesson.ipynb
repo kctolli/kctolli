{
 "cells": [
  {
   "cell_type": "markdown",
   "metadata": {},
   "source": [
    "![](../images/cs101.png)\n",
    "***\n",
    "\n",
    "# 09 - Lesson : Loops\n"
   ]
  },
  {
   "cell_type": "markdown",
   "metadata": {},
   "source": [
    "# Coding Examples in This Lesson\n",
    "\n",
    "There are many small coding examples in this lesson.  I would **strongly suggest** that you type these examples in Thonny (or your Python IDE) to better understand the code."
   ]
  },
  {
   "cell_type": "markdown",
   "metadata": {},
   "source": [
    "# Objectives and Goals\n",
    "\n",
    "Students will:\n",
    "\n",
    "- be able to create and implement for loops and while loops\n"
   ]
  },
  {
   "cell_type": "markdown",
   "metadata": {},
   "source": [
    "# Preparation\n",
    "\n",
    "For this lesson, please review and read:\n",
    "\n",
    "- None\n"
   ]
  },
  {
   "cell_type": "markdown",
   "metadata": {},
   "source": [
    "# Python Coding Style\n",
    "\n",
    "Nothing new this lesson."
   ]
  },
  {
   "cell_type": "markdown",
   "metadata": {},
   "source": [
    "***\n",
    "# Part 1 - For Loops\n",
    "\n",
    "This lesson introduces `for` loops in Python.  A `for` loop is used to repeat statements a given number of times. There are many times when a program needs to repeat a set of statements or functions over and over.  We will be learning about `for` loops in Part 1 and `while` loops in Part 2.\n",
    "\n",
    "## Using For loops - version 1\n",
    "\n",
    "```python\n",
    "# for loop\n",
    "for variable in range(stop):\n",
    "    statements\n",
    "```\n",
    "\n",
    "**variable**\n",
    "\n",
    "This `for` loop uses a variable to keep track of the current iteration of the loop.  This variable can be used in the statements of the loop.  The programmer can name this variable anything they want.  However, if possible, it should represent something about the loop.\n",
    "\n",
    "**stop**\n",
    "\n",
    "This is a number that indicates when the loop will end or stop.  This format will assume that the `for` loop will start at value zero.  Note that the value of this stop value is **NOT** included in the loop count.  For example: range(3) includes values 0, 1 and 2.\n",
    "\n",
    "\n",
    "**statements**\n",
    "\n",
    "These are one to many Python statements.  All statements for a `for` loop must be indented.  Notice the \":\" at the end of the `for` loop line before the statements.\n",
    "\n",
    "\n",
    "## Using For loops - version 2\n",
    "\n",
    "```python\n",
    "# for loop\n",
    "for variable in range(start, end, step):\n",
    "    statements\n",
    "```\n",
    "\n",
    "**start**\n",
    "\n",
    "The loop will start with this value.  This means that the first time through the loop, the variable will be set to the value of start.\n",
    "\n",
    "**end**\n",
    "\n",
    "This is a number that indicates when the loop will end or stop.  Note that the value of this stop value is **NOT** included in the loop count.\n",
    "\n",
    "**step**\n",
    "\n",
    "While the `for` loop is going through the range of values (ie., 'start' to 'end'), the loop variable will jump or step this amount each time through the loop."
   ]
  },
  {
   "cell_type": "markdown",
   "metadata": {},
   "source": [
    "# for loop examples\n",
    "\n",
    "The best method of understanding for loops is to write code with them.  Please copy the following examples into Thonny to run them yourself."
   ]
  },
  {
   "cell_type": "code",
   "execution_count": 1,
   "metadata": {},
   "outputs": [
    {
     "name": "stdout",
     "output_type": "stream",
     "text": [
      "Hello World\n",
      "Hello World\n",
      "Hello World\n",
      "Hello World\n",
      "Hello World\n"
     ]
    }
   ],
   "source": [
    "# Display Hello World 5 times\n",
    "# Here, we are using the variable 'i' as a counter in order to loop 5 times.\n",
    "for i in range(5):\n",
    "    print('Hello World')"
   ]
  },
  {
   "cell_type": "code",
   "execution_count": 2,
   "metadata": {},
   "outputs": [
    {
     "name": "stdout",
     "output_type": "stream",
     "text": [
      "Line 1\n",
      "Line 2\n",
      "----------\n",
      "Line 1\n",
      "Line 2\n",
      "----------\n",
      "Line 1\n",
      "Line 2\n",
      "----------\n"
     ]
    }
   ],
   "source": [
    "# Display three print statements 3 times.  Notice that the three lines are indented.\n",
    "# Multiple statements are indented 4 spaces (The same for 'if' statements)\n",
    "for i in range(3):\n",
    "    print('Line 1')\n",
    "    print('Line 2')\n",
    "    print('-' * 10)"
   ]
  },
  {
   "cell_type": "code",
   "execution_count": 3,
   "metadata": {},
   "outputs": [
    {
     "name": "stdout",
     "output_type": "stream",
     "text": [
      "0\n",
      "1\n",
      "2\n",
      "3\n",
      "4\n"
     ]
    }
   ],
   "source": [
    "# Prints out the numbers 0,1,2,3,4\n",
    "# Notice that the loop starts at value zero (we always start counting from zero)\n",
    "# Also, the nubmer 5 is NOT included in the values of 'x'\n",
    "for x in range(5):\n",
    "    print(x)"
   ]
  },
  {
   "cell_type": "code",
   "execution_count": 4,
   "metadata": {},
   "outputs": [
    {
     "name": "stdout",
     "output_type": "stream",
     "text": [
      "0 1 2 3 4 \n"
     ]
    }
   ],
   "source": [
    "# Prints out the numbers 0 1 2 3 4\n",
    "for x in range(5):\n",
    "    print(x, end=' ')\n",
    "print()"
   ]
  },
  {
   "cell_type": "code",
   "execution_count": 5,
   "metadata": {},
   "outputs": [
    {
     "name": "stdout",
     "output_type": "stream",
     "text": [
      "3\n",
      "4\n",
      "5\n"
     ]
    }
   ],
   "source": [
    "# Prints out 3,4,5\n",
    "# Note, the value of 6 is NOT included in the values of 'x'\n",
    "for x in range(3, 6):\n",
    "    print(x)"
   ]
  },
  {
   "cell_type": "code",
   "execution_count": 6,
   "metadata": {},
   "outputs": [
    {
     "name": "stdout",
     "output_type": "stream",
     "text": [
      "3\n",
      "5\n",
      "7\n"
     ]
    }
   ],
   "source": [
    "# Prints out 3,5,7\n",
    "for x in range(3, 8, 2):\n",
    "    print(x)"
   ]
  },
  {
   "cell_type": "code",
   "execution_count": 7,
   "metadata": {},
   "outputs": [
    {
     "name": "stdout",
     "output_type": "stream",
     "text": [
      "8\n",
      "6\n",
      "4\n"
     ]
    }
   ],
   "source": [
    "# Prints out 8, 6, 4\n",
    "for x in range(8, 3, -2):\n",
    "    print(x)"
   ]
  },
  {
   "cell_type": "code",
   "execution_count": 8,
   "metadata": {
    "scrolled": true
   },
   "outputs": [
    {
     "name": "stdout",
     "output_type": "stream",
     "text": [
      "**********\n",
      "----------------------------------------\n",
      "-=m=--=m=--=m=--=m=--=m=-\n"
     ]
    }
   ],
   "source": [
    "# Use this in Python to repeat text a certain number of times\n",
    "\n",
    "# Display 10 star characters\n",
    "print('*' * 10)\n",
    "\n",
    "# Other examples\n",
    "print('-' * 40)\n",
    "print('-=m=-' * 5)"
   ]
  },
  {
   "cell_type": "code",
   "execution_count": 9,
   "metadata": {},
   "outputs": [
    {
     "name": "stdout",
     "output_type": "stream",
     "text": [
      "**********\n"
     ]
    }
   ],
   "source": [
    "# Display the same 10 star characters using a for loop\n",
    "for i in range(10):\n",
    "    print('*', end='')\n",
    "print()"
   ]
  },
  {
   "cell_type": "code",
   "execution_count": 10,
   "metadata": {},
   "outputs": [
    {
     "name": "stdout",
     "output_type": "stream",
     "text": [
      "i = 0, total = 0\n",
      "i = 1, total = 1\n",
      "i = 2, total = 3\n",
      "i = 3, total = 6\n",
      "i = 4, total = 10\n",
      "i = 5, total = 15\n",
      "total is 15\n"
     ]
    }
   ],
   "source": [
    "# Add values from range 0 to 5\n",
    "# note that there is a variable 'total' that is created before the for loop\n",
    "# it is used to hold the sum of all of the values of 'i' in the loop\n",
    "total = 0\n",
    "for i in range(6):\n",
    "    total += i\n",
    "    print('i = {}, total = {}'.format(i, total))\n",
    "print('total is', total)"
   ]
  },
  {
   "cell_type": "code",
   "execution_count": 11,
   "metadata": {},
   "outputs": [
    {
     "name": "stdout",
     "output_type": "stream",
     "text": [
      "0\n",
      "13\n",
      "26\n",
      "39\n",
      "52\n",
      "65\n",
      "78\n",
      "91\n"
     ]
    }
   ],
   "source": [
    "# Display all numbers that are factors of 13 under 100\n",
    "# We are looping through all values from 0 to 99\n",
    "# the 'if' statement is testing if the value of 'i' \n",
    "# divided by 13 has zero as a reminder (ie., a factor of 13)\n",
    "for i in range(100):\n",
    "    if (i % 13 == 0):\n",
    "        print(i)"
   ]
  },
  {
   "cell_type": "code",
   "execution_count": 12,
   "metadata": {},
   "outputs": [
    {
     "name": "stdout",
     "output_type": "stream",
     "text": [
      "0\n",
      "13\n",
      "26\n",
      "39\n",
      "52\n",
      "65\n",
      "78\n",
      "91\n"
     ]
    }
   ],
   "source": [
    "# Display all numbers that are factors of 13 under 100\n",
    "for i in range(0, 100, 13):\n",
    "    print(i)"
   ]
  },
  {
   "cell_type": "code",
   "execution_count": 13,
   "metadata": {},
   "outputs": [
    {
     "name": "stdout",
     "output_type": "stream",
     "text": [
      "J\n",
      "o\n",
      "h\n",
      "n\n",
      " \n",
      "B\n",
      "r\n",
      "o\n",
      "w\n",
      "n\n"
     ]
    }
   ],
   "source": [
    "# Tranverse all of the letters of a string using a for loop\n",
    "# Here, the variable \"letter\" will be each letter of the string name, one at a time\n",
    "name = 'John Brown'\n",
    "for letter in name:\n",
    "    print(letter)"
   ]
  },
  {
   "cell_type": "code",
   "execution_count": 14,
   "metadata": {},
   "outputs": [
    {
     "name": "stdout",
     "output_type": "stream",
     "text": [
      "J\n",
      "o\n",
      "h\n",
      "n\n",
      " \n",
      "B\n",
      "r\n",
      "o\n",
      "w\n",
      "n\n"
     ]
    }
   ],
   "source": [
    "# Tranverse all of the letters of a string using a for loop using indexing\n",
    "name = 'John Brown'\n",
    "for i in range(len(name)):\n",
    "    print(name[i])"
   ]
  },
  {
   "cell_type": "code",
   "execution_count": 15,
   "metadata": {},
   "outputs": [
    {
     "name": "stdout",
     "output_type": "stream",
     "text": [
      "This is a 5 x 5 grid\n",
      "Row 1:  1  2  3  4  5\n",
      "Row 2:  6  7  8  9 10\n",
      "Row 3: 11 12 13 14 15\n",
      "Row 4: 16 17 18 19 20\n",
      "Row 5: 21 22 23 24 25\n",
      "All done!!\n"
     ]
    }
   ],
   "source": [
    "# Display 5 x 5 grid of 'X' characters\n",
    "print('This is a 5 x 5 grid')\n",
    "\n",
    "value = 1\n",
    "for row in range(5):\n",
    "    # Start the line with the row number\n",
    "    print('Row {}:'.format(row + 1), end='')\n",
    "    \n",
    "    # display 'X' characters with a width of 3 spaces (ie., {:>3})\n",
    "    for col in range(5):\n",
    "        print('{:>3}'.format(value), end='')\n",
    "        value += 1\n",
    "        \n",
    "    # end the current line\n",
    "    print()\n",
    "\n",
    "print('All done!!')"
   ]
  },
  {
   "cell_type": "code",
   "execution_count": 16,
   "metadata": {},
   "outputs": [
    {
     "name": "stdout",
     "output_type": "stream",
     "text": [
      "147 is half of 294\n"
     ]
    }
   ],
   "source": [
    "import random\n",
    "\n",
    "# Go through 5,000 random values displaying pairs of numbers where one number is half the next value\n",
    "# ie: ... 50, 34, 100, 200, 2, 665, ... would display 100 and 200\n",
    "# In the above example:\n",
    "# 50, 34 are not half of the other\n",
    "# 34, 100 are not half of the other\n",
    "# 100, 200 are half of the other          (This one is displayed)\n",
    "# 200, 2 are not half of the other\n",
    "lastValue = 0\n",
    "for i in range(5000):\n",
    "    # Get new random value\n",
    "    value = random.randint(1, 1000)\n",
    "    \n",
    "    # is the last value half the new value\n",
    "    if ((lastValue * 2) == value):\n",
    "        print('{} is half of {}'.format(lastValue, value))\n",
    "        \n",
    "    lastValue = value"
   ]
  },
  {
   "cell_type": "markdown",
   "metadata": {},
   "source": [
    "***\n",
    "# Part 2 - While Loops\n",
    "\n",
    "This lesson introduces `while` loops in Python.  A `while` loop is used to repeat statements while a boolean expression is True. Once the boolean expression is False, the while loop is finished.  A `for` is perfect in the cases where you know how many times you want to loop.  A `while` is used in the cases where you don't know the number of loops, but you know when you want to stop.  You can use either type of loop in your programs.\n",
    "\n",
    "\n",
    "```python\n",
    "# while loop\n",
    "while (condition):\n",
    "    statements\n",
    "```\n",
    "\n",
    "**condition**\n",
    "\n",
    "This is a boolean expression.  As long as this condition is true, the `while` loop will continue to loop.  It is important that when using a `while` loop that something in your program will eventually cause the boolean expression to become false in order to stop the `while` loop.\n",
    "\n",
    "**statements**\n",
    "\n",
    "These are one to many Python statements.  All statements for a `while` loop must be indented.  Notice the \":\" at the end of the `while` loop line before the statements.\n"
   ]
  },
  {
   "cell_type": "markdown",
   "metadata": {},
   "source": [
    "## Coding Examples\n",
    "\n",
    "Please code these small coding examples into Thonny to try them out for yourself."
   ]
  },
  {
   "cell_type": "code",
   "execution_count": 17,
   "metadata": {},
   "outputs": [
    {
     "name": "stdout",
     "output_type": "stream",
     "text": [
      "0\n",
      "1\n",
      "2\n",
      "3\n",
      "\n",
      "0\n",
      "1\n",
      "2\n",
      "3\n"
     ]
    }
   ],
   "source": [
    "# Display numbers 0 to 3 using a for loop\n",
    "for i in range(4):\n",
    "    print(i)\n",
    "    \n",
    "print()  # add a blank line between these loops\n",
    "\n",
    "# Display numbers 0 to 3 using a while loop\n",
    "i = 0\n",
    "while (i < 4):\n",
    "    print(i)\n",
    "    # This causes the boolean expression to become false when i == 5\n",
    "    i += 1    # Same as i = i + 1.  "
   ]
  },
  {
   "cell_type": "code",
   "execution_count": 18,
   "metadata": {},
   "outputs": [
    {
     "name": "stdout",
     "output_type": "stream",
     "text": [
      "10\n",
      "11\n",
      "12\n",
      "13\n",
      "\n",
      "10\n",
      "11\n",
      "12\n",
      "13\n"
     ]
    }
   ],
   "source": [
    "# Display numbers 10 to 13 using a for loop\n",
    "for i in range(10, 14):\n",
    "    print(i)\n",
    "    \n",
    "print()   # add a blank line between these loops\n",
    "\n",
    "# Display numbers 10 to 13 using a while loop\n",
    "i = 10\n",
    "while (i < 14):\n",
    "    print(i)\n",
    "    i += 1    # Same as i = i + 1.     "
   ]
  },
  {
   "cell_type": "code",
   "execution_count": 19,
   "metadata": {},
   "outputs": [
    {
     "name": "stdout",
     "output_type": "stream",
     "text": [
      "10\n",
      "12\n",
      "14\n",
      "16\n",
      "18\n",
      "\n",
      "10\n",
      "12\n",
      "14\n",
      "16\n",
      "18\n"
     ]
    }
   ],
   "source": [
    "# Display even numbers 10 to 20 using a for loop\n",
    "for i in range(10, 20, 2):\n",
    "    print(i)\n",
    "    \n",
    "print()    # add a blank line between these loop\n",
    "\n",
    "# Display even numbers 10 to 20 using a while loop\n",
    "i = 10\n",
    "while (i < 20):\n",
    "    print(i)\n",
    "    i += 2    # Same as i = i + 2.      "
   ]
  },
  {
   "cell_type": "code",
   "execution_count": 20,
   "metadata": {},
   "outputs": [
    {
     "name": "stdout",
     "output_type": "stream",
     "text": [
      "Total so far = 0\n",
      "Total so far = 15\n",
      "Total so far = 45\n",
      "Total so far = 90\n",
      "Total so far = 150\n",
      "Total so far = 225\n",
      "Total so far = 315\n",
      "Total = 315\n",
      "\n",
      "Total so far = 0\n",
      "Total so far = 15\n",
      "Total so far = 45\n",
      "Total so far = 90\n",
      "Total so far = 150\n",
      "Total so far = 225\n",
      "Total so far = 315\n",
      "Total = 315\n"
     ]
    }
   ],
   "source": [
    "# Use for loop to total all multiples of 15 under 100\n",
    "total = 0\n",
    "for i in range(0, 100, 15):\n",
    "    total += i\n",
    "    print('Total so far =', total)\n",
    "print('Total =', total)\n",
    "print()\n",
    "\n",
    "# Use while loop to total all multiples of 15 under 100\n",
    "total = 0\n",
    "i = 0\n",
    "while (i < 100):\n",
    "    total += i\n",
    "    i += 15\n",
    "    print('Total so far =', total)\n",
    "print('Total =', total)"
   ]
  },
  {
   "cell_type": "code",
   "execution_count": 21,
   "metadata": {},
   "outputs": [
    {
     "name": "stdout",
     "output_type": "stream",
     "text": [
      "Enter a positive number: -10\n",
      "Enter a positive number: -1\n",
      "Enter a positive number: 19\n",
      "You entered the value: 19\n"
     ]
    }
   ],
   "source": [
    "# Get a positive number from a user\n",
    "# Here, the code will continue to ask for a positive number until it gets one\n",
    "value = -1\n",
    "while (value < 0):\n",
    "    value = int(input('Enter a positive number: '))\n",
    "print('You entered the value:', value)"
   ]
  },
  {
   "cell_type": "code",
   "execution_count": 22,
   "metadata": {},
   "outputs": [
    {
     "name": "stdout",
     "output_type": "stream",
     "text": [
      "Enter name: Fred\n",
      "Enter name: Mary\n",
      "Enter name: Harry\n",
      "You entered the name: Harry\n"
     ]
    }
   ],
   "source": [
    "# Get a 5 character name from the user\n",
    "name = ''\n",
    "while (len(name) != 5):\n",
    "    name = input('Enter name: ')\n",
    "print('You entered the name:', name)"
   ]
  },
  {
   "cell_type": "code",
   "execution_count": 23,
   "metadata": {},
   "outputs": [
    {
     "name": "stdout",
     "output_type": "stream",
     "text": [
      "Enter name: Fred\n",
      "Please enter a name that has 5 characters\n",
      "Enter name: Mary\n",
      "Please enter a name that has 5 characters\n",
      "Enter name: Harry\n",
      "You entered the name: Harry\n"
     ]
    }
   ],
   "source": [
    "# Get a 5 character name from the user.  Give details if the user is wrong\n",
    "name = ''\n",
    "while (len(name) != 5):\n",
    "    name = input('Enter name: ')\n",
    "    if (len(name) != 5):\n",
    "        print('Please enter a name that has 5 characters')\n",
    "print('You entered the name:', name)"
   ]
  },
  {
   "cell_type": "code",
   "execution_count": 24,
   "metadata": {},
   "outputs": [
    {
     "name": "stdout",
     "output_type": "stream",
     "text": [
      "Enter name: Fred\n",
      "Please enter a name that has 5 characters\n",
      "Enter name: Mary\n",
      "Please enter a name that has 5 characters\n",
      "Enter name: Harry\n",
      "You entered the name: Harry\n"
     ]
    }
   ],
   "source": [
    "# Get a 5 character name from the user.  Give details if the user is wrong\n",
    "# This code is using a boolean flag to control the while loop\n",
    "name = ''\n",
    "done = False\n",
    "while (not done):\n",
    "    name = input('Enter name: ')\n",
    "    if (len(name) != 5):\n",
    "        print('Please enter a name that has 5 characters')\n",
    "    else:\n",
    "        done = True\n",
    "print('You entered the name:', name)"
   ]
  },
  {
   "cell_type": "code",
   "execution_count": 25,
   "metadata": {},
   "outputs": [
    {
     "name": "stdout",
     "output_type": "stream",
     "text": [
      "Enter month between 1 and 12: 99\n",
      "Enter month between 1 and 12: -23\n",
      "Enter month between 1 and 12: 5\n",
      "You entered the month: 5\n"
     ]
    }
   ],
   "source": [
    "# Get a valid month number.  Valid values are 1 to 12\n",
    "month = 0\n",
    "while ((month < 1) or (month > 12)):\n",
    "    month = int(input('Enter month between 1 and 12: '))\n",
    "print('You entered the month:', month)"
   ]
  },
  {
   "cell_type": "code",
   "execution_count": 26,
   "metadata": {},
   "outputs": [
    {
     "name": "stdout",
     "output_type": "stream",
     "text": [
      "Enter Guess: 50\n",
      "Too low\n",
      "Enter Guess: 70\n",
      "Too high\n",
      "Enter Guess: 60\n",
      "Too high\n",
      "Enter Guess: 56\n",
      "You found it!!\n",
      "You took 4 guesses\n"
     ]
    }
   ],
   "source": [
    "# Number Guessing Game\n",
    "numberToGuess = 56\n",
    "guess = 0\n",
    "guesses = 0\n",
    "\n",
    "# While the user hasn't guessed the number, keep looping\n",
    "while (guess != numberToGuess):\n",
    "    guess = int(input('Enter Guess: '))\n",
    "    guesses += 1       # Keep count on the number of guesses\n",
    "    if (guess == numberToGuess):\n",
    "        print('You found it!!')\n",
    "    elif (guess < numberToGuess):\n",
    "        print('Too low')\n",
    "    else:\n",
    "        print('Too high')\n",
    "\n",
    "print('You took', guesses, 'guesses')"
   ]
  },
  {
   "cell_type": "markdown",
   "metadata": {},
   "source": [
    "# Lesson Review\n",
    "\n",
    "`for` loops are traditionally used when you have a block of code which you want to repeat a fixed number of times. The Python `for` statement iterates over the numbers of a sequence in order, executing the block each time.\n",
    "\n",
    "- [For loop Video](https://www.youtube.com/watch?v=9LgyKiq_hU0)\n",
    "\n",
    "`while` loops are traditionally used when you have a block of code which you want to repeat while a boolean expression is true. \n",
    "\n",
    "- [while loop Video](https://www.youtube.com/watch?v=D0Nb2Fs3Q8c)"
   ]
  }
 ],
 "metadata": {
  "kernelspec": {
   "display_name": "Python 3",
   "language": "python",
   "name": "python3"
  },
  "language_info": {
   "codemirror_mode": {
    "name": "ipython",
    "version": 3
   },
   "file_extension": ".py",
   "mimetype": "text/x-python",
   "name": "python",
   "nbconvert_exporter": "python",
   "pygments_lexer": "ipython3",
   "version": "3.7.3"
  }
 },
 "nbformat": 4,
 "nbformat_minor": 2
}
