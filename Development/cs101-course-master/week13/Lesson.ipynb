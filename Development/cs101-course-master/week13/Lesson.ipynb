{
 "cells": [
  {
   "cell_type": "markdown",
   "metadata": {},
   "source": [
    "![](../images/cs101.png)\n",
    "***\n",
    "\n",
    "# 13 - Lesson : Files\n"
   ]
  },
  {
   "cell_type": "markdown",
   "metadata": {},
   "source": [
    "# Coding Examples in This Lesson\n",
    "\n",
    "There are many small coding examples in this lesson.  I would strongly suggest that you type these examples in Thonny (or your Python IDE) to better understand the code."
   ]
  },
  {
   "cell_type": "markdown",
   "metadata": {},
   "source": [
    "# Objectives and Goals\n",
    "\n",
    "Students will:\n",
    "\n",
    "- be able to open and read text and CSV files\n"
   ]
  },
  {
   "cell_type": "markdown",
   "metadata": {},
   "source": [
    "# Preparation\n",
    "\n",
    "For this lesson, please review and read:\n",
    "\n",
    "- Review `for` loops\n",
    "- Review lists\n"
   ]
  },
  {
   "cell_type": "markdown",
   "metadata": {},
   "source": [
    "***\n",
    "# Reading Files\n",
    "\n",
    "This lesson is going to covering reading two types of files.\n",
    "\n",
    "## Text Files\n",
    "\n",
    "A text file contains simple letters, numbers and symbols that are found on your keyboard.  Text files tend to have many lines of text where each line ends with an enter key.  In most cases, text files have the file extension of \"TXT\".\n",
    "\n",
    "```\n",
    "   words.txt\n",
    "   story.txt\n",
    "```\n",
    "\n",
    "Sample text file contains the words of the The Gettysburg Address in the file \"address.txt\":\n",
    "\n",
    "```txt\n",
    "Four score and seven years ago our fathers brought forth on this continent, \n",
    "a new nation, conceived in Liberty, and dedicated to the proposition that \n",
    "all men are created equal.\n",
    "\n",
    "Now we are engaged in a great civil war, testing whether that nation, or any \n",
    "nation so conceived and so dedicated, can long endure. We are met on a great \n",
    "battle-field of that war. We have come to dedicate a portion of that field, \n",
    "as a final resting place for those who here gave their lives that that nation \n",
    "might live. It is altogether fitting and proper that we should do this.\n",
    "\n",
    "But, in a larger sense, we can not dedicate -- we can not consecrate -- we \n",
    "can not hallow -- this ground. The brave men, living and dead, who struggled \n",
    "here, have consecrated it, far above our poor power to add or detract. The \n",
    "world will little note, nor long remember what we say here, but it can never \n",
    "forget what they did here. It is for us the living, rather, to be dedicated \n",
    "here to the unfinished work which they who fought here have thus far so nobly \n",
    "advanced. It is rather for us to be here dedicated to the great task remaining \n",
    "before us -- that from these honored dead we take increased devotion to that \n",
    "cause for which they gave the last full measure of devotion -- that we here \n",
    "highly resolve that these dead shall not have died in vain -- that this nation, \n",
    "under God, shall have a new birth of freedom -- and that government of the people, \n",
    "by the people, for the people, shall not perish from the earth.\n",
    "```\n"
   ]
  },
  {
   "cell_type": "markdown",
   "metadata": {},
   "source": [
    "### With command\n",
    "\n",
    "In this lesson, we will be using the `with` command to open files.  The format is:\n",
    "\n",
    "```\n",
    "with open(filename) as file:\n",
    "    do something with the file\n",
    "```\n",
    "\n",
    "Sample code to open a file and display each line to the screen\n",
    "\n",
    "```python\n",
    "with open(filename) as file:\n",
    "    for line in file:\n",
    "        print(line, end='')\n",
    "```"
   ]
  },
  {
   "cell_type": "code",
   "execution_count": 53,
   "metadata": {},
   "outputs": [
    {
     "name": "stdout",
     "output_type": "stream",
     "text": [
      "The Gettysburg Address\n",
      "\n",
      "*************************************************************************************\n",
      "Four score and seven years ago our fathers brought forth on this continent, \n",
      "a new nation, conceived in Liberty, and dedicated to the proposition that \n",
      "all men are created equal.\n",
      "\n",
      "Now we are engaged in a great civil war, testing whether that nation, or any \n",
      "nation so conceived and so dedicated, can long endure. We are met on a great \n",
      "battle-field of that war. We have come to dedicate a portion of that field, \n",
      "as a final resting place for those who here gave their lives that that nation \n",
      "might live. It is altogether fitting and proper that we should do this.\n",
      "\n",
      "But, in a larger sense, we can not dedicate -- we can not consecrate -- we \n",
      "can not hallow -- this ground. The brave men, living and dead, who struggled \n",
      "here, have consecrated it, far above our poor power to add or detract. The \n",
      "world will little note, nor long remember what we say here, but it can never \n",
      "forget what they did here. It is for us the living, rather, to be dedicated \n",
      "here to the unfinished work which they who fought here have thus far so nobly \n",
      "advanced. It is rather for us to be here dedicated to the great task remaining \n",
      "before us -- that from these honored dead we take increased devotion to that \n",
      "cause for which they gave the last full measure of devotion -- that we here \n",
      "highly resolve that these dead shall not have died in vain -- that this nation, \n",
      "under God, shall have a new birth of freedom -- and that government of the people, \n",
      "by the people, for the people, shall not perish from the earth.\n",
      "*************************************************************************************\n"
     ]
    }
   ],
   "source": [
    "# Python code to open the file \"address.txt\" and display the contents\n",
    "# Note that the code will read ALL lines in the file, one at a time\n",
    "# the \"with\" command will open and close the text file for you.\n",
    "\n",
    "print('The Gettysburg Address\\n')\n",
    "print('*' * 85)\n",
    "with open('address.txt') as file:\n",
    "    # We have the file open, so process each line one at a time\n",
    "    for line in file:\n",
    "        print(line, end='')\n",
    "print()\n",
    "print('*' * 85)\n"
   ]
  },
  {
   "cell_type": "code",
   "execution_count": 54,
   "metadata": {},
   "outputs": [
    {
     "name": "stdout",
     "output_type": "stream",
     "text": [
      "one two three\n",
      "four five\n",
      "six\n",
      "seven\n",
      "eight nine\n",
      "ten"
     ]
    }
   ],
   "source": [
    "# Python code to open the file \"textfile.txt\" and display the contents\n",
    "# This text file contains 6 lines\n",
    "with open('textfile.txt') as file:\n",
    "    # We have the file open, so process each line one at a time\n",
    "    for line in file:\n",
    "        print(line, end='')\n"
   ]
  },
  {
   "cell_type": "code",
   "execution_count": 55,
   "metadata": {},
   "outputs": [
    {
     "name": "stdout",
     "output_type": "stream",
     "text": [
      "['one', 'two', 'three']\n",
      "['four', 'five']\n",
      "['six']\n",
      "['seven']\n",
      "['eight', 'nine']\n",
      "['ten']\n"
     ]
    }
   ],
   "source": [
    "# Python code to open the file \"textfile.txt\" and display the contents\n",
    "# Break each line into a list\n",
    "\n",
    "with open('textfile.txt') as file:\n",
    "    # We have the file open, so process each line one at a time\n",
    "    for line in file:\n",
    "        # The split() function will split the sentence into a list words\n",
    "        words = line.split()\n",
    "        print(words)\n"
   ]
  },
  {
   "cell_type": "code",
   "execution_count": 56,
   "metadata": {},
   "outputs": [
    {
     "name": "stdout",
     "output_type": "stream",
     "text": [
      "one\n",
      "two\n",
      "three\n",
      "four\n",
      "five\n",
      "six\n",
      "seven\n",
      "eight\n",
      "nine\n",
      "ten\n"
     ]
    }
   ],
   "source": [
    "# Python code to open the file \"textfile.txt\" and display the contents\n",
    "# Break each line into words\n",
    "\n",
    "with open('textfile.txt') as file:\n",
    "    # We have the file open, so process each line one at a time\n",
    "    for line in file:\n",
    "        # The split() function will split the sentence into a list words\n",
    "        words = line.split()\n",
    "        for word in words:\n",
    "            print(word)\n"
   ]
  },
  {
   "cell_type": "code",
   "execution_count": 57,
   "metadata": {},
   "outputs": [
    {
     "name": "stdout",
     "output_type": "stream",
     "text": [
      "Number of words in the file = 278\n"
     ]
    }
   ],
   "source": [
    "# This code will:\n",
    "# 1) open the \"address.txt\" file\n",
    "# 2) read each line\n",
    "# 3) split() the line into words\n",
    "# 4) count the number of words\n",
    "\n",
    "count = 0\n",
    "with open('address.txt') as file:\n",
    "    # We have the file open, so process each line one at a time\n",
    "    for line in file:\n",
    "        # The split() function will split the sentence into a list words\n",
    "        words = line.split()\n",
    "        # Use the function len() to get the number of words in the line\n",
    "        count += len(words)\n",
    "\n",
    "print('Number of words in the file =', count)\n"
   ]
  },
  {
   "cell_type": "markdown",
   "metadata": {},
   "source": [
    "## CSV Files (Comma Separated Values)\n",
    "\n",
    "The next type of text file is a comma separated values file or CSV file.  CSV files hold data and are used to transfer data between programs and applications. [wikipedia page on CSV files](https://en.wikipedia.org/wiki/Comma-separated_values)\n",
    "\n",
    "In a CSV file, each line contains the same number of data items where each item is separated by a comma.\n",
    "\n",
    "Sample CSV file of a simple record of items purchased (date, item, cost)\n",
    "\n",
    "```\n",
    "05/05/2019, clock, 34.45\n",
    "05/06/2019, hair cut, 19.95\n",
    "05/06/2019, movie, 9.95\n",
    "```\n",
    "\n",
    "Each line in the file sample above **MUST** have 3 data items separated by commas.  CSV files have the file extension of \"CSV\".\n",
    "\n",
    "```\n",
    "   orders.csv\n",
    "   records.csv\n",
    "```\n"
   ]
  },
  {
   "cell_type": "code",
   "execution_count": 58,
   "metadata": {},
   "outputs": [
    {
     "name": "stdout",
     "output_type": "stream",
     "text": [
      "05/05/2019, clock, 34.45\n",
      "05/06/2019, hair cut, 19.95\n",
      "05/06/2019, movie, 9.95"
     ]
    }
   ],
   "source": [
    "# This code will open the file \"purchases.csv\" as a text file\n",
    "with open('purchases.csv') as file:\n",
    "    # We have the file open, so process each line one at a time\n",
    "    for line in file:\n",
    "        print(line, end='')"
   ]
  },
  {
   "cell_type": "code",
   "execution_count": 59,
   "metadata": {},
   "outputs": [
    {
     "name": "stdout",
     "output_type": "stream",
     "text": [
      "['05/05/2019', ' clock', ' 34.45']\n",
      "['05/06/2019', ' hair cut', ' 19.95']\n",
      "['05/06/2019', ' movie', ' 9.95']\n"
     ]
    }
   ],
   "source": [
    "# This code will open the file \"purchases.csv\" as a CSV file\n",
    "# Note that we need to import or include the CSV library in Python to read CSV files.\n",
    "\n",
    "# This code will create a list for each line.\n",
    "# Note that is it a list of string values\n",
    "\n",
    "# Row[0] is date\n",
    "# Row[1] is item\n",
    "# Row[2] is cost\n",
    "\n",
    "import csv\n",
    "\n",
    "with open('purchases.csv') as csvfile:\n",
    "    # This line will help with separating the data in each line\n",
    "    readCSV = csv.reader(csvfile, delimiter=',')\n",
    "    for row in readCSV:\n",
    "        print(row)\n"
   ]
  },
  {
   "cell_type": "code",
   "execution_count": 60,
   "metadata": {},
   "outputs": [
    {
     "name": "stdout",
     "output_type": "stream",
     "text": [
      "05/05/2019\n",
      "05/06/2019\n",
      "05/06/2019\n"
     ]
    }
   ],
   "source": [
    "# This code will create a list for each line and display the date\n",
    "# Row[0] is date\n",
    "# Row[1] is item\n",
    "# Row[2] is cost\n",
    "\n",
    "import csv\n",
    "\n",
    "with open('purchases.csv') as csvfile:\n",
    "    # This line will help with separating the data in each line\n",
    "    readCSV = csv.reader(csvfile, delimiter=',')\n",
    "    for row in readCSV:\n",
    "        print(row[0])\n"
   ]
  },
  {
   "cell_type": "code",
   "execution_count": 61,
   "metadata": {},
   "outputs": [
    {
     "name": "stdout",
     "output_type": "stream",
     "text": [
      " 34.45\n",
      " 19.95\n",
      " 9.95\n"
     ]
    }
   ],
   "source": [
    "# This code will create a list for each line and display the cost\n",
    "# Row[0] is date\n",
    "# Row[1] is item\n",
    "# Row[2] is cost\n",
    "\n",
    "import csv\n",
    "\n",
    "with open('purchases.csv') as csvfile:\n",
    "    # This line will help with separating the data in each line\n",
    "    readCSV = csv.reader(csvfile, delimiter=',')\n",
    "    for row in readCSV:\n",
    "        print(row[2])\n"
   ]
  },
  {
   "cell_type": "code",
   "execution_count": 62,
   "metadata": {},
   "outputs": [
    {
     "name": "stdout",
     "output_type": "stream",
     "text": [
      "Total cost = $64.35\n"
     ]
    }
   ],
   "source": [
    "# This code will create a list for each line and display the total cost\n",
    "\n",
    "# NOTE: we must convert the cost (ie., row[2]) to be a float!!!!\n",
    "\n",
    "import csv\n",
    "\n",
    "total = 0\n",
    "with open('purchases.csv') as csvfile:\n",
    "    # This line will help with separating the data in each line\n",
    "    readCSV = csv.reader(csvfile, delimiter=',')\n",
    "    for row in readCSV:\n",
    "        total += float(row[2])\n",
    "\n",
    "print('Total cost = ${:.2f}'.format(total))\n"
   ]
  },
  {
   "cell_type": "code",
   "execution_count": 1,
   "metadata": {},
   "outputs": [
    {
     "name": "stdout",
     "output_type": "stream",
     "text": [
      "Purchases below $20.00\n",
      "    hair cut on 05/06/2019\n",
      "    movie on 05/06/2019\n",
      "Total cost = $29.90\n"
     ]
    }
   ],
   "source": [
    "# Display the purchases that are under $20.00\n",
    "import csv\n",
    "\n",
    "total = 0\n",
    "print('Purchases below $20.00')\n",
    "with open('purchases.csv') as csvfile:\n",
    "    # This line will help with separating the data in each line\n",
    "    readCSV = csv.reader(csvfile, delimiter=',')\n",
    "    for row in readCSV:\n",
    "        # I must convert the cost to be a float in order to compare with 20.00\n",
    "        if (float(row[2]) < 20.00):\n",
    "            print('   {} on {}'.format(row[1], row[0]))\n",
    "            total += float(row[2])\n",
    "\n",
    "print('Total cost = ${:.2f}'.format(total))\n"
   ]
  },
  {
   "cell_type": "markdown",
   "metadata": {},
   "source": [
    "# Lesson Review\n",
    "\n",
    "Python makes reading files very easy.  This lesson doesn't cover other methods of read and writing files.  Python.org has the other methods."
   ]
  }
 ],
 "metadata": {
  "kernelspec": {
   "display_name": "Python 3",
   "language": "python",
   "name": "python3"
  },
  "language_info": {
   "codemirror_mode": {
    "name": "ipython",
    "version": 3
   },
   "file_extension": ".py",
   "mimetype": "text/x-python",
   "name": "python",
   "nbconvert_exporter": "python",
   "pygments_lexer": "ipython3",
   "version": "3.7.2"
  }
 },
 "nbformat": 4,
 "nbformat_minor": 2
}
