{
 "cells": [
  {
   "cell_type": "markdown",
   "metadata": {},
   "source": [
    "![](../images/cs101.png)\n",
    "***\n",
    "\n",
    "# 13 - Project : Graphing City Temperatures\n"
   ]
  },
  {
   "cell_type": "markdown",
   "metadata": {},
   "source": [
    "# Setup\n",
    "\n",
    "The following project will require you write and run your own Python code.  There are a number of ways to do this.\n",
    "\n",
    "- All projects in this course are individually based in that you submit your own code.  You must not copy code from the Internet or from another student.\n",
    "- Thonny on your computer.  To install Thonny, please go to [Installing Thonny for instructions.](../resources/thonny.ipynb)\n",
    "- Online sites such as https://www.pythonanywhere.com/ or https://www.trinket.io/.  You are able to create free accounts on these websites.\n",
    "- There are other Python 3 IDEs that are available.  You are free to use them.  Remember that the course TA must be able to run your code that you submit.  The details of these other IDEs are not covered in this course.\n",
    "- You must use version 3 of Python."
   ]
  },
  {
   "cell_type": "markdown",
   "metadata": {},
   "source": [
    "# Objectives\n",
    "\n",
    "- This program will test your knowledge of the topics learned in reading files."
   ]
  },
  {
   "cell_type": "markdown",
   "metadata": {},
   "source": [
    "# Overview\n",
    "\n",
    "This project will read a file of high and low temperatures for a city and create a graph of those temperatures."
   ]
  },
  {
   "cell_type": "markdown",
   "metadata": {},
   "source": [
    "# Instructions\n",
    "\n",
    "## Get the Project code\n",
    "\n",
    "1. Open Thonny and create a new Python called **project13.py**. Keep Thonny open.\n",
    "1. Click on [this link to open the project.py](project.py) file.\n",
    "1. To the right of the screen, then is a button with the text \"Raw\".  Click on this.\n",
    "1. Press Control-A or Command-A to select all of the code.\n",
    "1. Press Control-C or Command-C to copy the code.\n",
    "1. Select Thonny and press Control-v or Command-v to paste the Python code to Thonny.\n",
    "1. In Thonny, save your Python file with the code that you pasted.  You can save your project file anywhere on your computer.  However, you need to keep track where it is.\n",
    "\n",
    "## Data Files\n",
    "\n",
    "There are two data files that you can use for your project.  They are found [Here](https://github.com/byui-cs/cs101-course/tree/master/week13).  Download them to your computer.  Use the same method to copy them as we did in the team acitivity.\n",
    "\n",
    "**rexburg.csv** - monthly temperatures for Rexburg\n",
    "\n",
    "**phoenix.csv** - monthly temperatures for Phoenix\n",
    "\n",
    "## Installing MatPlotLib in Thonny\n",
    "\n",
    "1. Start Thonny\n",
    "1. Click on the menu item \"tools\"\n",
    "1. Click on the menu item \"Manage Packages\"\n",
    "1. In the edit box, type \"matplotlib\" and then click on \"Find package from PyPI\"\n",
    "1. When it shows it found the package, click on the \"install\" button at the bottom of the dialog box.\n",
    "1. When Thonny is finished installing MatPlotLib, close the dialog box.\n",
    "1. You're done.\n",
    "\n",
    "## Writing your Code\n",
    "\n",
    "Details about the project are found in the Python code file."
   ]
  },
  {
   "cell_type": "markdown",
   "metadata": {},
   "source": [
    "# Rubric\n",
    "\n",
    "| Feature  | Points  |\n",
    "|:-:\t|:-:\t|\n",
    "| Request and open the data file | 30% |\n",
    "| Read values in the CSV file into lists | 50% |\n",
    "| Create a graph using the function displayCityGraph() | 20% |\n",
    "| Total | 100% |\n",
    "\n",
    "Bonus: Create another graph type such as a bar graph for 10%.\n"
   ]
  },
  {
   "cell_type": "markdown",
   "metadata": {},
   "source": [
    "# Submitting\n",
    "\n",
    "After you have finished writing and testing your program:\n",
    "\n",
    "1. Go to the course in I-Learn.\n",
    "1. Find this project item.\n",
    "1. There will be a \"Submit Assignment\" button to the upper right.\n",
    "1. Click on \"Choose File\" and find the Python file for your program that you saved to your computer.\n"
   ]
  }
 ],
 "metadata": {
  "kernelspec": {
   "display_name": "Python 3",
   "language": "python",
   "name": "python3"
  },
  "language_info": {
   "codemirror_mode": {
    "name": "ipython",
    "version": 3
   },
   "file_extension": ".py",
   "mimetype": "text/x-python",
   "name": "python",
   "nbconvert_exporter": "python",
   "pygments_lexer": "ipython3",
   "version": "3.7.2"
  }
 },
 "nbformat": 4,
 "nbformat_minor": 2
}
