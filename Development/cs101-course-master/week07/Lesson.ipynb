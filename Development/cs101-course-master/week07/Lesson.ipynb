{
 "cells": [
  {
   "cell_type": "markdown",
   "metadata": {},
   "source": [
    "![](../images/cs101.png)\n",
    "***\n",
    "\n",
    "# 07 - Lesson : Boolean Expressions and IF Statements\n"
   ]
  },
  {
   "cell_type": "markdown",
   "metadata": {},
   "source": [
    "# Coding Examples in This Lesson\n",
    "\n",
    "There are many small coding examples in this lesson.  I would strongly suggest that you type these examples in Thonny (or your Python IDE) to better understand the code."
   ]
  },
  {
   "cell_type": "markdown",
   "metadata": {},
   "source": [
    "# Objectives and Goals\n",
    "\n",
    "Students will:\n",
    "\n",
    "- understand how to construct boolean expressions using `and`, `or`, and `not`.\n",
    "- Learn to use comparison operations such as less than, greater than, etc..."
   ]
  },
  {
   "cell_type": "markdown",
   "metadata": {},
   "source": [
    "# Preparation\n",
    "\n",
    "For this lesson, please review and read:\n",
    "\n",
    "- None."
   ]
  },
  {
   "cell_type": "markdown",
   "metadata": {},
   "source": [
    "# Python Coding Style\n",
    "\n",
    "## Spacing around Operators\n",
    "\n",
    "- Comparison operators such as `<`, `>`, `<=`, `>=`, `==` need to have a space before and after them. `34 < 35` is correct while `age==34` is not.\n",
    "\n",
    "## IF statements\n",
    "\n",
    "- `if` statements start with the word `if`.  Part of the coding style is to make sure that there is a space after the word `if`.\n",
    "- The boolean part of the `if` can be surrounded with parentheses.  This is optional. "
   ]
  },
  {
   "cell_type": "markdown",
   "metadata": {},
   "source": [
    "***\n",
    "# Lesson Details\n",
    "\n",
    "This lesson outlines the different operators in Python that are used to compare variables and values.\n",
    "\n",
    "### Booleans\n",
    "\n",
    "In Python, a variable can be of type boolean.  These variables can only be assigned `True` or `False`.  Notice that both `True` and `False` are capitalized.  In programming, boolean variables are sometimes called \"flags\" or \"toggles\" where they indicate if something is on or off.\n"
   ]
  },
  {
   "cell_type": "code",
   "execution_count": 1,
   "metadata": {},
   "outputs": [
    {
     "name": "stdout",
     "output_type": "stream",
     "text": [
      "male    = True\n",
      "sunny   = False\n",
      "raining = True\n"
     ]
    }
   ],
   "source": [
    "# Boolean Examples\n",
    "male = True\n",
    "sunny = False\n",
    "raining = True\n",
    "print('male    =', male)\n",
    "print('sunny   =', sunny)\n",
    "print('raining =', raining)"
   ]
  },
  {
   "cell_type": "markdown",
   "metadata": {},
   "source": [
    "### Review of Math Operators\n",
    "\n",
    "Math operators compare numbers and the results of this comparison is another number.\n",
    "\n",
    "Assume these variables:\n",
    "\n",
    "```python\n",
    "a = 10\n",
    "b = 21\n",
    "```\n",
    "\n",
    "| Operator | Name | Description | Example |\n",
    "|----------\t|----------\t|---------------\t|-------\t|\n",
    "| + | addition | Adds values on either side of the operator | a + b ➤ 31 |\n",
    "| - | subtraction | Subtracts right hand operand from left hand operand | a – b ➤ -11 |\n",
    "| * | multiplication | Multiplies values on either side of the operator | a * b ➤ 210 |\n",
    "| / | division | Divides left hand operand by right hand operand | b / a ➤ 2.1 |\n",
    "| % | modulo | Divides left hand operand by right hand operand and returns remainder | b % a ➤ 1 |\n",
    "| ** | exponent | Performs exponential (power) calculation on operators | a ** b ➤ 10 to the power 20 |\n",
    "| // | floor division | The division of operands where the result is the quotient in which the digits after the decimal point are removed. But if one of the operands is negative, the result is floored, i.e., rounded away from zero (towards negative infinity) | 9//2 ➤ 4 and 9.0//2.0 ➤ 4.0, -11//3 ➤ -4, -11.0//3 ➤ -4.0 |\n"
   ]
  },
  {
   "cell_type": "markdown",
   "metadata": {},
   "source": [
    "### Comparison Operators\n",
    "\n",
    "Comparison operators are used to compare `integers`, `floats` and `strings`.  **The results of these operators is a boolean (ie., True or False).**\n",
    "\n",
    "Given these two variables, the following table outlines the different operators.\n",
    "\n",
    "```python\n",
    "a = 10\n",
    "b = 21\n",
    "```\n",
    "\n",
    "| Operator | Name | Description | Example |\n",
    "|----------\t|----------\t|---------------\t|-------\t|\n",
    "| == | is equal | If the values of two operands are equal, then the condition becomes true. | (a == b) is false. |\n",
    "| != | not equal | If values of two operands are not equal, then condition becomes true. | (a != b) is true. |\n",
    "| > | greater than | If the value of left operand is greater than the value of right operand, then condition becomes true. | (a > b) is false. |\n",
    "| < | lesser than | If the value of left operand is less than the value of right operand, then condition becomes true. | (a < b) is true. |\n",
    "| >= | greater than equal | If the value of left operand is greater than or equal to the value of right operand, then condition becomes true. | (a >= b) is false. |\n",
    "| <= | lesser than equal | If the value of left operand is less than or equal to the value of right operand, then condition becomes true. | (a <= b) is true. |"
   ]
  },
  {
   "cell_type": "code",
   "execution_count": 2,
   "metadata": {},
   "outputs": [
    {
     "name": "stdout",
     "output_type": "stream",
     "text": [
      "age > 50  = False\n",
      "age < 50  = True\n",
      "age == 50 = False\n"
     ]
    }
   ],
   "source": [
    "# comparing integers\n",
    "age = 34\n",
    "\n",
    "# Is age over 50?\n",
    "print('age > 50  =', age > 50)\n",
    "\n",
    "# Is age under 50?\n",
    "print('age < 50  =', age < 50)\n",
    "\n",
    "# is age equal to 50?\n",
    "print('age == 50 =', age == 50)"
   ]
  },
  {
   "cell_type": "code",
   "execution_count": 3,
   "metadata": {},
   "outputs": [
    {
     "name": "stdout",
     "output_type": "stream",
     "text": [
      "gpa == 4.0 -> False\n",
      "gpa > 3.0  -> False\n",
      "gpa < 4.0  -> True\n"
     ]
    }
   ],
   "source": [
    "#### Comparing floats\n",
    "gpa = 3.45\n",
    "\n",
    "# is gpa equal to 4.0?\n",
    "print('gpa == 4.0 ->', gpa == 4.0)\n",
    "\n",
    "# is gpa over 4.0?\n",
    "print('gpa > 3.0  ->', gpa > 4.0)\n",
    "\n",
    "# is gpa under 4.0?\n",
    "print('gpa < 4.0  ->', gpa < 4.0)\n"
   ]
  },
  {
   "cell_type": "code",
   "execution_count": 4,
   "metadata": {},
   "outputs": [
    {
     "name": "stdout",
     "output_type": "stream",
     "text": [
      "name == 'John' -> True\n",
      "name == 'john' -> False\n",
      "name == name2  -> True\n"
     ]
    }
   ],
   "source": [
    "# Comparing Strings\n",
    "name = 'John'\n",
    "\n",
    "# is name equal to 'John'?\n",
    "print(\"name == 'John' ->\", name == 'John')\n",
    "\n",
    "# Notice that 'J' is not the same as 'j'.  How would you compare them?\n",
    "print(\"name == 'john' ->\", name == 'john')\n",
    "\n",
    "# Is the variable name2 equal to the variable name?\n",
    "name2 = 'John'\n",
    "print(\"name == name2  ->\", name == name2)\n"
   ]
  },
  {
   "cell_type": "markdown",
   "metadata": {},
   "source": [
    "### Logic Operators\n",
    "\n",
    "Logic operators will compare boolean values.  The results is another boolean.  For example in the code sample below, two boolean variables are set to True and are compared using `and`, `or` and `not`. In the sample code below, notice that `not` is evaluated before `and` and `or` if there are no parentheses.  Variables in **parentheses** are always evaluated first!!"
   ]
  },
  {
   "cell_type": "markdown",
   "metadata": {},
   "source": [
    "Given the variables `a` and `b`, here is a table of logic operations.\n",
    "\n",
    "```python\n",
    "a = True\n",
    "b = False\n",
    "```\n",
    "\n",
    "| Operator | Description | Example |\n",
    "|----------\t|---------------\t|-------\t|\n",
    "| not | Logical NOT:\tUsed to reverse the logical state of its operand. | not(a and b) is True. |\n",
    "| and | Logical AND:\tIf both the operands are true then condition becomes true. | (a and b) is False. |\n",
    "| or | Logical OR:\tIf any of the two operands are non-zero then condition becomes true. | (a or b) is True. |\n"
   ]
  },
  {
   "cell_type": "code",
   "execution_count": 5,
   "metadata": {},
   "outputs": [
    {
     "name": "stdout",
     "output_type": "stream",
     "text": [
      "3 < 4 and 5 < 6 -> True\n",
      "3 < 4 and 5 > 6 -> False\n"
     ]
    }
   ],
   "source": [
    "# Using and\n",
    "\n",
    "# Notice that the \"<\" operators are evaluated before the \"and\".\n",
    "# \"Is 3 less than 4 and is 5 less than 6\"\n",
    "print('3 < 4 and 5 < 6 ->', 3 < 4 and 5 < 6)\n",
    "\n",
    "# \"Is 3 less than 4 and is 5 greater than 6\"\n",
    "print('3 < 4 and 5 > 6 ->', 3 < 4 and 5 > 6)\n"
   ]
  },
  {
   "cell_type": "code",
   "execution_count": 6,
   "metadata": {},
   "outputs": [
    {
     "name": "stdout",
     "output_type": "stream",
     "text": [
      "3 < 4 or 5 < 6 -> True\n",
      "3 < 4 or 5 > 6 -> True\n",
      "3 > 4 or 5 > 6 -> False\n"
     ]
    }
   ],
   "source": [
    "# Using or\n",
    "\n",
    "# Notice that the \"<\" operators are evaluated before the \"or\".\n",
    "# \"Is 3 less than 4 or is 5 less than 6\"\n",
    "print('3 < 4 or 5 < 6 ->', 3 < 4 or 5 < 6)\n",
    "\n",
    "# \"Is 3 less than 4 or is 5 greater than 6\"\n",
    "print('3 < 4 or 5 > 6 ->', 3 < 4 or 5 > 6)\n",
    "\n",
    "# \"Is 3 greater than 4 or is 5 greater than 6\"\n",
    "print('3 > 4 or 5 > 6 ->', 3 > 4 or 5 > 6)\n"
   ]
  },
  {
   "cell_type": "code",
   "execution_count": 7,
   "metadata": {},
   "outputs": [
    {
     "name": "stdout",
     "output_type": "stream",
     "text": [
      "    happy -> True\n",
      "not happy -> False\n",
      "    3 < 4 -> True\n",
      "not 3 < 4 -> False\n"
     ]
    }
   ],
   "source": [
    "# Using not\n",
    "\n",
    "happy = True\n",
    "print('    happy ->', happy)\n",
    "print('not happy ->', not happy)\n",
    "\n",
    "print('    3 < 4 ->', 3 < 4)\n",
    "print('not 3 < 4 ->', not 3 < 4)"
   ]
  },
  {
   "cell_type": "code",
   "execution_count": 8,
   "metadata": {},
   "outputs": [
    {
     "name": "stdout",
     "output_type": "stream",
     "text": [
      "happy and knowit       : True\n",
      "happy or knowit        : True\n",
      "not happy              : False\n",
      "not (happy and knowit) : False\n",
      "not happy and knowit   : False\n",
      "not happy or knowit    : True\n",
      "not (happy or knowit)  : False\n"
     ]
    }
   ],
   "source": [
    "happy = True\n",
    "knowit = True\n",
    "print('happy and knowit       :', happy and knowit)\n",
    "print('happy or knowit        :', happy or knowit)\n",
    "print('not happy              :', not happy)\n",
    "print('not (happy and knowit) :', not (happy and knowit))\n",
    "print('not happy and knowit   :', not happy and knowit)\n",
    "print('not happy or knowit    :', not happy or knowit)\n",
    "print('not (happy or knowit)  :', not (happy or knowit))\n"
   ]
  },
  {
   "cell_type": "markdown",
   "metadata": {},
   "source": [
    "### Intergers to Boolean\n",
    "\n",
    "By definition in Python, there is a rule in converting integers to boolean values.\n",
    "\n",
    "| Integer | Boolean |\n",
    "|----------\t|---------------\t|\n",
    "| 0 | False |\n",
    "| all other values | True |\n"
   ]
  },
  {
   "cell_type": "code",
   "execution_count": 2,
   "metadata": {},
   "outputs": [
    {
     "name": "stdout",
     "output_type": "stream",
     "text": [
      "100\n",
      "False\n",
      "True\n"
     ]
    }
   ],
   "source": [
    "# Examples\n",
    "print(100)\n",
    "print(not 100)\n",
    "print(not 0)"
   ]
  },
  {
   "cell_type": "markdown",
   "metadata": {},
   "source": [
    "***\n",
    "# IF Statements"
   ]
  },
  {
   "cell_type": "markdown",
   "metadata": {},
   "source": [
    "The `if` statement uses boolean expressions to allow you the programmer to **make decisions and execute different code** in a program. \n",
    "\n",
    "The general Python syntax for an if statement is\n",
    "\n",
    "```\n",
    "if condition:\n",
    "    statement(s)\n",
    "else:\n",
    "    statement(s)\n",
    "```\n",
    "\n",
    "**condition**\n",
    "\n",
    "This is the **Boolean expression** (ie., True or False) of the if statement.  You are \"testing\" the expression to see if it is True or False.  Notice that there is a \":\" (colon) after the Boolean expression.  Some programmers will place parentheses around the Boolean expression.  This is optional.\n",
    "\n",
    "**else**\n",
    "\n",
    "This is optional in an if statement.  The else section is used if you need to execute any statements if the Boolean expression is **not** true.  Notice that there is a \":\" after the \"else\".\n",
    "\n",
    "**statements**\n",
    "\n",
    "You are using an if statement to test a Boolean expression and to execute statements if the expression is true or false.  These statements can be any Python statements. **They must be indented 4 spaces.**  For example, you can print out lots of information to the user.  You can have another if statement.  You can call functions, etc...  \n",
    "\n",
    "Please look at the following code examples for how if statements can be used.\n"
   ]
  },
  {
   "cell_type": "markdown",
   "metadata": {},
   "source": [
    "### Examples of if statements"
   ]
  },
  {
   "cell_type": "code",
   "execution_count": 9,
   "metadata": {},
   "outputs": [
    {
     "name": "stdout",
     "output_type": "stream",
     "text": [
      "You can vote\n"
     ]
    }
   ],
   "source": [
    "# Tell a person if they are old enough to vote\n",
    "age = 21\n",
    "if (age >= 21):\n",
    "    print('You can vote')"
   ]
  },
  {
   "cell_type": "code",
   "execution_count": 10,
   "metadata": {},
   "outputs": [],
   "source": [
    "# Tell a person if they are old enough to vote\n",
    "# Notice that in this case, the person is not old enough to vote and\n",
    "# nothing is displayed on the screen.\n",
    "age = 10\n",
    "if (age >= 20):\n",
    "    print('You can vote')"
   ]
  },
  {
   "cell_type": "code",
   "execution_count": 11,
   "metadata": {},
   "outputs": [
    {
     "name": "stdout",
     "output_type": "stream",
     "text": [
      "You can vote\n"
     ]
    }
   ],
   "source": [
    "# Tell a person if they are old enough to vote or not\n",
    "age = 21\n",
    "if (age >= 21):\n",
    "    print('You can vote')\n",
    "else:\n",
    "    print('Not old enough to vote')"
   ]
  },
  {
   "cell_type": "code",
   "execution_count": 12,
   "metadata": {},
   "outputs": [
    {
     "name": "stdout",
     "output_type": "stream",
     "text": [
      "Not old enough to vote\n"
     ]
    }
   ],
   "source": [
    "# Tell a person if they are old enough to vote or not\n",
    "age = 10\n",
    "if (age >= 21):\n",
    "    print('You can vote')\n",
    "else:\n",
    "    print('Not old enough to vote')"
   ]
  },
  {
   "cell_type": "code",
   "execution_count": 13,
   "metadata": {},
   "outputs": [
    {
     "name": "stdout",
     "output_type": "stream",
     "text": [
      "Not old enough to vote\n",
      "Thank you for using this program (This is not part of the if statement)\n"
     ]
    }
   ],
   "source": [
    "# Tell a person if they are old enough to vote or not\n",
    "# THEN, displaying that the program is finished\n",
    "age = 10\n",
    "if (age >= 21):\n",
    "    print('You can vote')\n",
    "else:\n",
    "    print('Not old enough to vote')\n",
    "\n",
    "# This statement is not indented, so it is NOT part of the if statement above\n",
    "print('Thank you for using this program (This is not part of the if statement)')"
   ]
  },
  {
   "cell_type": "markdown",
   "metadata": {},
   "source": [
    "### Compound statements\n",
    "\n",
    "In the true and else section of an if statement, you can have multiple statements.  They must be indented."
   ]
  },
  {
   "cell_type": "code",
   "execution_count": 14,
   "metadata": {},
   "outputs": [
    {
     "name": "stdout",
     "output_type": "stream",
     "text": [
      "You can vote.\n",
      "Please go to your nearest voting station to vote.\n",
      "If you have any questions, please contact 800-111-2222.\n"
     ]
    }
   ],
   "source": [
    "# Tell a person if they are old enough to vote or not\n",
    "age = 21\n",
    "if (age >= 21):\n",
    "    print('You can vote.')\n",
    "    print('Please go to your nearest voting station to vote.')\n",
    "    print('If you have any questions, please contact 800-111-2222.')\n",
    "else:\n",
    "    print('Not old enough to vote.')\n",
    "    print('you will need to wait', 21 - age, 'more years to vote.')"
   ]
  },
  {
   "cell_type": "code",
   "execution_count": 15,
   "metadata": {},
   "outputs": [
    {
     "name": "stdout",
     "output_type": "stream",
     "text": [
      "Not old enough to vote.\n",
      "you will need to wait 4 more years to vote.\n"
     ]
    }
   ],
   "source": [
    "# Tell a person if they are old enough to vote or not\n",
    "age = 17\n",
    "if (age >= 21):\n",
    "    print('You can vote.')\n",
    "    print('Please go to your nearest voting station to vote.')\n",
    "    print('If you have any questions, please contact 800-111-2222.')\n",
    "else:\n",
    "    print('Not old enough to vote.')\n",
    "    print('you will need to wait', 21 - age, 'more years to vote.')"
   ]
  },
  {
   "cell_type": "code",
   "execution_count": 16,
   "metadata": {},
   "outputs": [
    {
     "name": "stdout",
     "output_type": "stream",
     "text": [
      "you are happy\n"
     ]
    }
   ],
   "source": [
    "# Happy and you know it.  This is using an \"and\" condition in the Boolean expression\n",
    "happy = True\n",
    "knowit = True\n",
    "if (happy and knowit):\n",
    "    print('you are happy')\n",
    "else:\n",
    "    print('you are sad')"
   ]
  },
  {
   "cell_type": "markdown",
   "metadata": {},
   "source": [
    "### elif statement\n",
    "\n",
    "This \"elif\" statement is used when there is more than one True or False condition that you want to test. The next two coding examples do the same task, one using multiple `if` statements and one using `elif`."
   ]
  },
  {
   "cell_type": "code",
   "execution_count": 17,
   "metadata": {},
   "outputs": [
    {
     "name": "stdout",
     "output_type": "stream",
     "text": [
      "a < b\n"
     ]
    }
   ],
   "source": [
    "# Here is code that will compare two numbers to see if:\n",
    "# 1) a < b\n",
    "# 2) a == b\n",
    "# 3) a > b\n",
    "\n",
    "# Using normal \"if\" and \"else\".  Notice that the \"else\" contains another if statement\n",
    "# and is indented correctly.\n",
    "a = 10\n",
    "b = 20\n",
    "if (a < b):\n",
    "    print('a < b')\n",
    "else:\n",
    "    if (a == b):\n",
    "        print('a == b')\n",
    "    else:\n",
    "        print('a > b')"
   ]
  },
  {
   "cell_type": "code",
   "execution_count": 18,
   "metadata": {},
   "outputs": [
    {
     "name": "stdout",
     "output_type": "stream",
     "text": [
      "a < b\n"
     ]
    }
   ],
   "source": [
    "# This code is using \"elif\" and implements the above code.\n",
    "# Notice that the \"elif\" combines the \"else\" and the other \"if\" statement together\n",
    "a = 10\n",
    "b = 20\n",
    "if (a < b):\n",
    "    print('a < b')\n",
    "elif (a == b):\n",
    "    print('a == b')\n",
    "else:\n",
    "    print('a > b')"
   ]
  },
  {
   "cell_type": "markdown",
   "metadata": {},
   "source": [
    "### Comparing ranges of values\n",
    "\n",
    "Sometimes, you will need to see if a value is within a given range. For example, lets say that you want to know if a grade on a test is an \"A\".  \"A\" will be between 90 and 100."
   ]
  },
  {
   "cell_type": "code",
   "execution_count": 19,
   "metadata": {},
   "outputs": [
    {
     "name": "stdout",
     "output_type": "stream",
     "text": [
      "You have an A!\n"
     ]
    }
   ],
   "source": [
    "# First method of comparing a range between 90 and 100\n",
    "# Notice that I need two boolean comparisons and an \"and\" statement.\n",
    "grade = 95\n",
    "if (grade >= 90 and grade <= 100):\n",
    "    print('You have an A!')"
   ]
  },
  {
   "cell_type": "code",
   "execution_count": 20,
   "metadata": {},
   "outputs": [
    {
     "name": "stdout",
     "output_type": "stream",
     "text": [
      "You have an A!\n"
     ]
    }
   ],
   "source": [
    "# Second method of comparing a range between 90 and 100 (sometimes called \"chaining of comparison operators\")\n",
    "# Notice that I have one expression with two \"<=\" operators\n",
    "grade = 95\n",
    "if (90 <= grade <= 100):      # this is the same as writing if((90 <= grade) and (grade <= 100))\n",
    "    print('You have an A!')"
   ]
  },
  {
   "cell_type": "markdown",
   "metadata": {},
   "source": [
    "### Assert statement\n",
    "\n",
    "There is a special function called assert() that programmers can use to verify that values or functions are \"correct\" in the program.  The assert function uses a boolean expression.  If the boolean expression is true, nothing happens.  if the boolean expression is False, Python stops the program at that assertion.\n",
    "\n",
    "One of the main reasons to use the assert() function is when a program is being written and implemented.\n",
    "\n",
    "> An assertion is a sanity-check that you can turn on or turn off when you are done with your testing of the program.\n",
    ">\n",
    "> The easiest way to think of an assertion is to liken it to a raise-if statement (or to be more accurate, a raise-if-not statement). An expression is tested, and if the result comes up false, an exception is raised.\n",
    ">\n",
    "> Programmers often place assertions at the start of a function to check for valid input, and after a function call to check for valid output.\n",
    "\n",
    "[The above is from TutorialsPoint](https://www.tutorialspoint.com/python3/assertions_in_python.htm)\n"
   ]
  },
  {
   "cell_type": "code",
   "execution_count": 21,
   "metadata": {},
   "outputs": [
    {
     "name": "stdout",
     "output_type": "stream",
     "text": [
      "month = 10\n"
     ]
    }
   ],
   "source": [
    "# Example of using an assert to verify that the month variable is\n",
    "# valid (ie., between 1 and 12)\n",
    "month = 10\n",
    "assert(month < 13 and month > 0)\n",
    "print('month =', month)"
   ]
  },
  {
   "cell_type": "code",
   "execution_count": 22,
   "metadata": {},
   "outputs": [
    {
     "ename": "AssertionError",
     "evalue": "",
     "output_type": "error",
     "traceback": [
      "\u001b[1;31m---------------------------------------------------------------------------\u001b[0m",
      "\u001b[1;31mAssertionError\u001b[0m                            Traceback (most recent call last)",
      "\u001b[1;32m<ipython-input-22-9f5f095bafe6>\u001b[0m in \u001b[0;36m<module>\u001b[1;34m\u001b[0m\n\u001b[0;32m      2\u001b[0m \u001b[1;31m# valid (ie., between 1 and 12)\u001b[0m\u001b[1;33m\u001b[0m\u001b[1;33m\u001b[0m\u001b[1;33m\u001b[0m\u001b[0m\n\u001b[0;32m      3\u001b[0m \u001b[0mmonth\u001b[0m \u001b[1;33m=\u001b[0m \u001b[1;36m15\u001b[0m\u001b[1;33m\u001b[0m\u001b[1;33m\u001b[0m\u001b[0m\n\u001b[1;32m----> 4\u001b[1;33m \u001b[1;32massert\u001b[0m\u001b[1;33m(\u001b[0m\u001b[0mmonth\u001b[0m \u001b[1;33m>\u001b[0m \u001b[1;36m0\u001b[0m \u001b[1;32mand\u001b[0m \u001b[0mmonth\u001b[0m \u001b[1;33m<\u001b[0m \u001b[1;36m13\u001b[0m\u001b[1;33m)\u001b[0m\u001b[1;33m\u001b[0m\u001b[1;33m\u001b[0m\u001b[0m\n\u001b[0m\u001b[0;32m      5\u001b[0m \u001b[0mprint\u001b[0m\u001b[1;33m(\u001b[0m\u001b[1;34m'month ='\u001b[0m\u001b[1;33m,\u001b[0m \u001b[0mmonth\u001b[0m\u001b[1;33m)\u001b[0m\u001b[1;33m\u001b[0m\u001b[1;33m\u001b[0m\u001b[0m\n",
      "\u001b[1;31mAssertionError\u001b[0m: "
     ]
    }
   ],
   "source": [
    "# Example of using an assert to verify that the month variable is\n",
    "# valid (ie., between 1 and 12)\n",
    "month = 15\n",
    "assert(month > 0 and month < 13)\n",
    "print('month =', month)"
   ]
  },
  {
   "cell_type": "code",
   "execution_count": 23,
   "metadata": {},
   "outputs": [
    {
     "ename": "AssertionError",
     "evalue": "",
     "output_type": "error",
     "traceback": [
      "\u001b[1;31m---------------------------------------------------------------------------\u001b[0m",
      "\u001b[1;31mAssertionError\u001b[0m                            Traceback (most recent call last)",
      "\u001b[1;32m<ipython-input-23-334a83ac8f80>\u001b[0m in \u001b[0;36m<module>\u001b[1;34m\u001b[0m\n\u001b[0;32m      2\u001b[0m \u001b[1;31m# In this case, Python stops the program at the assert because x is not >= 0\u001b[0m\u001b[1;33m\u001b[0m\u001b[1;33m\u001b[0m\u001b[1;33m\u001b[0m\u001b[0m\n\u001b[0;32m      3\u001b[0m \u001b[0mx\u001b[0m \u001b[1;33m=\u001b[0m \u001b[1;33m-\u001b[0m\u001b[1;36m99\u001b[0m\u001b[1;33m\u001b[0m\u001b[1;33m\u001b[0m\u001b[0m\n\u001b[1;32m----> 4\u001b[1;33m \u001b[1;32massert\u001b[0m\u001b[1;33m(\u001b[0m\u001b[0mx\u001b[0m \u001b[1;33m>=\u001b[0m \u001b[1;36m0\u001b[0m\u001b[1;33m)\u001b[0m\u001b[1;33m\u001b[0m\u001b[1;33m\u001b[0m\u001b[0m\n\u001b[0m\u001b[0;32m      5\u001b[0m \u001b[0mprint\u001b[0m\u001b[1;33m(\u001b[0m\u001b[1;34m'x ='\u001b[0m\u001b[1;33m,\u001b[0m \u001b[0mx\u001b[0m\u001b[1;33m)\u001b[0m\u001b[1;33m\u001b[0m\u001b[1;33m\u001b[0m\u001b[0m\n",
      "\u001b[1;31mAssertionError\u001b[0m: "
     ]
    }
   ],
   "source": [
    "# Example of using an assert to verify that a integer is positive\n",
    "# In this case, Python stops the program at the assert because x is not >= 0\n",
    "x = -99\n",
    "assert(x >= 0)\n",
    "print('x =', x)"
   ]
  },
  {
   "cell_type": "markdown",
   "metadata": {},
   "source": [
    "### Question\n",
    "\n",
    "Is there any difference in the logic of the following assert statements?:\n",
    "\n",
    "```python\n",
    "assert(month < 13 and month > 0)\n",
    "assert(month > 0 and month < 13)\n",
    "assert(month >= 1 and month <= 12)\n",
    "assert(0 < month < 13)\n",
    "assert(1 <= month <= 12)\n",
    "```"
   ]
  },
  {
   "cell_type": "code",
   "execution_count": 24,
   "metadata": {},
   "outputs": [
    {
     "name": "stdout",
     "output_type": "stream",
     "text": [
      "After the assert()\n"
     ]
    }
   ],
   "source": [
    "# asserts can be used to verify return values from functions\n",
    "# For example: The function addOne() will take an integer and add one to it and return it.\n",
    "def addOne(value):\n",
    "    return (value + 1)\n",
    "\n",
    "x = 99\n",
    "\n",
    "# As a programmer, I assert that when I call addOne() with value 99, it will return 100\n",
    "assert(addOne(99) == 100)\n",
    "print('After the assert()')"
   ]
  },
  {
   "cell_type": "code",
   "execution_count": 25,
   "metadata": {},
   "outputs": [
    {
     "ename": "AssertionError",
     "evalue": "",
     "output_type": "error",
     "traceback": [
      "\u001b[1;31m---------------------------------------------------------------------------\u001b[0m",
      "\u001b[1;31mAssertionError\u001b[0m                            Traceback (most recent call last)",
      "\u001b[1;32m<ipython-input-25-88a5e51ad46c>\u001b[0m in \u001b[0;36m<module>\u001b[1;34m\u001b[0m\n\u001b[0;32m      8\u001b[0m \u001b[1;33m\u001b[0m\u001b[0m\n\u001b[0;32m      9\u001b[0m \u001b[1;31m# As a programmer, I assert that when I call addOne() with value 99, it will return 100\u001b[0m\u001b[1;33m\u001b[0m\u001b[1;33m\u001b[0m\u001b[1;33m\u001b[0m\u001b[0m\n\u001b[1;32m---> 10\u001b[1;33m \u001b[1;32massert\u001b[0m\u001b[1;33m(\u001b[0m\u001b[0maddOne\u001b[0m\u001b[1;33m(\u001b[0m\u001b[1;36m99\u001b[0m\u001b[1;33m)\u001b[0m \u001b[1;33m==\u001b[0m \u001b[1;36m100\u001b[0m\u001b[1;33m)\u001b[0m\u001b[1;33m\u001b[0m\u001b[1;33m\u001b[0m\u001b[0m\n\u001b[0m\u001b[0;32m     11\u001b[0m \u001b[0mprint\u001b[0m\u001b[1;33m(\u001b[0m\u001b[1;34m'After the assert()'\u001b[0m\u001b[1;33m)\u001b[0m\u001b[1;33m\u001b[0m\u001b[1;33m\u001b[0m\u001b[0m\n",
      "\u001b[1;31mAssertionError\u001b[0m: "
     ]
    }
   ],
   "source": [
    "# In this example I had a typo and instead of adding 1 to value, I have 10\n",
    "# notice that Python stopped the program at the \n",
    "# assertion and the print('After the assert()') never happens.\n",
    "def addOne(value):\n",
    "    return (value + 10)\n",
    "\n",
    "x = 99\n",
    "\n",
    "# As a programmer, I assert that when I call addOne() with value 99, it will return 100\n",
    "assert(addOne(99) == 100)\n",
    "print('After the assert()')"
   ]
  },
  {
   "cell_type": "markdown",
   "metadata": {},
   "source": [
    "## Creating random values in your code\n",
    "\n",
    "The team activity code uses the library random.  It allows you the programer to create random values.\n",
    "To create a random integer, you use the following:\n",
    "\n",
    "```python\n",
    "random.randint(startRange, endRange)\n",
    "```\n",
    "\n",
    "startRange and endRange are integers that you set so you can create an integer within a range of values. Each time that you call random.randint(start, end), the function will return a different random value between the range you set.\n",
    "\n",
    "In order to use random.randint() is your Python code, you need to import the random function that is contained in a Python library.  To import the library, you add `import random` at the top of your Python file."
   ]
  },
  {
   "cell_type": "code",
   "execution_count": 26,
   "metadata": {},
   "outputs": [
    {
     "name": "stdout",
     "output_type": "stream",
     "text": [
      "30\n",
      "48\n",
      "38\n",
      "40\n",
      "65\n",
      "15\n",
      "33\n"
     ]
    }
   ],
   "source": [
    "# Import the random library and print random values between 10 and 80\n",
    "import random\n",
    "\n",
    "print(random.randint(10, 80))\n",
    "print(random.randint(10, 80))\n",
    "print(random.randint(10, 80))\n",
    "print(random.randint(10, 80))\n",
    "print(random.randint(10, 80))\n",
    "print(random.randint(10, 80))\n",
    "print(random.randint(10, 80))\n"
   ]
  },
  {
   "cell_type": "code",
   "execution_count": 27,
   "metadata": {},
   "outputs": [
    {
     "name": "stdout",
     "output_type": "stream",
     "text": [
      "-81\n",
      "91\n",
      "-59\n",
      "53\n",
      "-100\n",
      "-85\n",
      "-57\n"
     ]
    }
   ],
   "source": [
    "# Import the random library and print random values between -100 and 100\n",
    "import random\n",
    "\n",
    "print(random.randint(-100, 100))\n",
    "print(random.randint(-100, 100))\n",
    "print(random.randint(-100, 100))\n",
    "print(random.randint(-100, 100))\n",
    "print(random.randint(-100, 100))\n",
    "print(random.randint(-100, 100))\n",
    "print(random.randint(-100, 100))\n"
   ]
  },
  {
   "cell_type": "code",
   "execution_count": 28,
   "metadata": {},
   "outputs": [
    {
     "name": "stdout",
     "output_type": "stream",
     "text": [
      "20\n"
     ]
    }
   ],
   "source": [
    "# Import the random library, store a random value between 1 and 100 in a variable called myRandomNum, then print it\n",
    "import random\n",
    "\n",
    "myRandomNum = random.randint(1, 100)\n",
    "print(myRandomNum)"
   ]
  },
  {
   "cell_type": "markdown",
   "metadata": {},
   "source": [
    "# Lesson Review\n",
    "\n",
    "There are different types of operators that can be used to compare variables and value.  They fall into 3 main groups.\n",
    "\n",
    "| Operator type | What they compare | Results |  Example |\n",
    "|----------\t|---------------\t|-------\t|-------\t|\n",
    "| Math Operators | numbers | number | 34 + 45 | \n",
    "| Comparison Operators | numbers and strings | boolean | 34 < 45 |\n",
    "| Logic Operators | boolean | boolean | happy and knowit |\n",
    "\n",
    "\n",
    "Here is more information on how to use an if statement.\n",
    "\n",
    "- [More information on if statements](http://anh.cs.luc.edu/handsonPythonTutorial/ifstatements.html)\n",
    "- [If statement video](https://www.youtube.com/watch?v=4u2ClNCtcgY)\n",
    "- [if else video](https://www.youtube.com/watch?v=qf0sfRZ0hHc)"
   ]
  }
 ],
 "metadata": {
  "kernelspec": {
   "display_name": "Python 3",
   "language": "python",
   "name": "python3"
  },
  "language_info": {
   "codemirror_mode": {
    "name": "ipython",
    "version": 3
   },
   "file_extension": ".py",
   "mimetype": "text/x-python",
   "name": "python",
   "nbconvert_exporter": "python",
   "pygments_lexer": "ipython3",
   "version": "3.7.3"
  }
 },
 "nbformat": 4,
 "nbformat_minor": 2
}
