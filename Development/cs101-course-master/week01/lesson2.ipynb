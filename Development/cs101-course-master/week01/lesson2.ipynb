{
 "cells": [
  {
   "cell_type": "markdown",
   "metadata": {},
   "source": [
    "![](../images/cs101.png)\n",
    "***\n",
    "\n",
    "# 01 - Installing Python on your computer\n"
   ]
  },
  {
   "cell_type": "markdown",
   "metadata": {},
   "source": [
    "# Objectives and Goals\n",
    "\n",
    "Students will:\n",
    "\n",
    "- Install Python on their computer.\n",
    "- Be able to type and run \"Hello World\" program.\n"
   ]
  },
  {
   "cell_type": "markdown",
   "metadata": {},
   "source": [
    "# Preparation\n",
    "\n",
    "For this lesson, please look at these website:\n",
    "\n",
    "- [Python for Astronomy](http://prancer.physics.louisville.edu/astrowiki/index.php/Python_for_Physics_and_Astronomy)\n",
    "- [Python for CPAs](http://www.python4cpas.com)\n",
    "- [Companies that use Python](https://realpython.com/world-class-companies-using-python)\n"
   ]
  },
  {
   "cell_type": "markdown",
   "metadata": {},
   "source": [
    "# Lesson Details\n"
   ]
  },
  {
   "cell_type": "markdown",
   "metadata": {},
   "source": [
    "## Usefull keyboard keys that programmers use\n",
    "\n",
    "All of these following command are used with the Control key for Windows and Command key for Mac.\n",
    "\n",
    "|  Select all |      Cut      |  Copy |  Paste |\n",
    "|--------|-------------|-----|-----|\n",
    "| a | x | c | v |\n",
    "| Selects all of the text on the screen | The cut command removes the selected data from its original position into the clipboard of the computer | The copy command creates a duplicate into the clipboard of the computer | The data in the clipboard is later inserted in the position where the paste command is issued |\n",
    "\n"
   ]
  },
  {
   "cell_type": "markdown",
   "metadata": {},
   "source": [
    "## Thonny\n",
    "\n",
    "There are many free and commercial Python IDEs available.  An IDE is \"integrated development environment\".  IDEs are used to help programmers create software.  You are free to use any IDE that you want.  The only requirement is that your projects must be able to be compiled when submitted.\n",
    "\n",
    "Is this course, I will be using Thonny.  Thonny was created by the University of Tartu and is easy to set up and use.  To Install Thonny on your computer, please [go to this link](../resources/thonny.ipynb).\n",
    "\n"
   ]
  },
  {
   "cell_type": "markdown",
   "metadata": {},
   "source": [
    "## \"Hello World\" program\n",
    "\n",
    "What is \"Hello World\"\n",
    "\n",
    "> A \"Hello, World!\" program is a computer program that outputs or displays \"Hello, World!\" to a user. Being a very simple program in most programming languages, it is often used to illustrate the basic syntax of a programming language for a working program, and as such is often the very first program people write.\n",
    "\n",
    "### Start Thonny\n",
    "\n",
    "Once Thonny is installed on your computer, double click on it's icon to start it.\n",
    "\n",
    "![](step1.png)\n",
    "\n",
    "### Write the \"Hello World\" program\n",
    "\n",
    "Type: print(\"Hello World\") in the area where code goes.  Notice the single quotes around 'Hello World'.  This is important.\n",
    "\n",
    "![](step2.png)\n",
    "\n",
    "### Save your program\n",
    "\n",
    "From the File menu, select \"Save\" to save your program to a file.  It doesn't matter where you save your Python file.  However, you should be consistent during the course of where you save your files for this course. The extension of the file must be \".py\".  My example below, I used \"hello.py\"\n",
    "\n",
    "![](step3.png)\n",
    "\n",
    "### Run \"Hello World\"\n",
    "\n",
    "Click on the little green arrow or press F5 on your keyboard to run your program.\n",
    "\n",
    "![](step4.png)\n",
    "\n",
    "### Typing commands in the Shell\n",
    "\n",
    "In the above image, the output of your program is displayed in the Shell window.  This window can also be used to type and run Python statements directly. \n",
    "\n",
    "- In the Shell Window, type Print('Hello World') and then press the enter key\n",
    "- You will see that you will see \"Hello World\" displayed.\n",
    "- The big difference between the coding window and the Shell window is that nothing you type in the Shell Window will be saved when you exit Thonny.  It is used for debugging and quick tests.\n"
   ]
  },
  {
   "cell_type": "markdown",
   "metadata": {},
   "source": [
    "## Write your own program\n",
    "\n",
    "Try to display different messages using the print() statement.\n"
   ]
  },
  {
   "cell_type": "markdown",
   "metadata": {},
   "source": [
    "# Lesson Review\n",
    "\n",
    "After following the steps outlined in today's lesson, you are ready to create your own programs.\n",
    "\n",
    "[Successful Companies using Python](https://www.python.org/about/success/)"
   ]
  }
 ],
 "metadata": {
  "kernelspec": {
   "display_name": "Python 3",
   "language": "python",
   "name": "python3"
  },
  "language_info": {
   "codemirror_mode": {
    "name": "ipython",
    "version": 3
   },
   "file_extension": ".py",
   "mimetype": "text/x-python",
   "name": "python",
   "nbconvert_exporter": "python",
   "pygments_lexer": "ipython3",
   "version": "3.7.3"
  }
 },
 "nbformat": 4,
 "nbformat_minor": 2
}
